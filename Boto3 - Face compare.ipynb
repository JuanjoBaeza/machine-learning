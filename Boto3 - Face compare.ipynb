{
 "cells": [
  {
   "cell_type": "code",
   "execution_count": null,
   "id": "f91ccb7d",
   "metadata": {},
   "outputs": [],
   "source": [
    "import os\n",
    "import boto3\n",
    "from os import error\n",
    "from botocore.exceptions import ClientError\n",
    "\n",
    "os.environ['AWS_DEFAULT_REGION'] = 'us-west-2'\n",
    "\n",
    "def obtener_bytes_imagen(ruta_imagen):\n",
    "    with open(ruta_imagen,'rb') as imagen:\n",
    "        return imagen.read()\n",
    "\n",
    "def comparar_rostros(ruta_imagen1, ruta_imagen2):\n",
    "    imagen1 = obtener_bytes_imagen(ruta_imagen1)\n",
    "    imagen2 = obtener_bytes_imagen(ruta_imagen2)\n",
    "\n",
    "    cliente=boto3.client('rekognition')\n",
    "\n",
    "    try:\n",
    "        respuesta = cliente.compare_faces(SourceImage={'Bytes': imagen1},\n",
    "                                          TargetImage={'Bytes': imagen2},\n",
    "                                          SimilarityThreshold = 0,\n",
    "                                          QualityFilter = 'AUTO')\n",
    "\n",
    "        # Quality filter = NONE|AUTO|LOW|MEDIUM|HIGH\n",
    "\n",
    "        if respuesta and respuesta['ResponseMetadata']['HTTPStatusCode'] == 200:\n",
    "            # Caras que no alcanzan el 60% de similitud\n",
    "            for i in respuesta['UnmatchedFaces']:\n",
    "                print(str(i) + ' \\n')\n",
    "            \n",
    "            # Caras con silimitud\n",
    "            for i in respuesta['FaceMatches']:\n",
    "                q = \"%.2f\" % i['Similarity']\n",
    "                print('Similitud: ' + str(q))\n",
    "\n",
    "    except ClientError as error:\n",
    "        print('Ocurrió un error al llamar a la API:' + str(error))\n",
    "\n",
    "if __name__ == \"__main__\":\n",
    "\n",
    "    ruta_imagen1 = 'datasets/images/rus1.jpg'\n",
    "    ruta_imagen2 = 'datasets/images/rus4.jpg'\n",
    "\n",
    "    comparar_rostros(ruta_imagen1, ruta_imagen2)"
   ]
  }
 ],
 "metadata": {
  "kernelspec": {
   "display_name": "Python 3 (ipykernel)",
   "language": "python",
   "name": "python3"
  },
  "language_info": {
   "codemirror_mode": {
    "name": "ipython",
    "version": 3
   },
   "file_extension": ".py",
   "mimetype": "text/x-python",
   "name": "python",
   "nbconvert_exporter": "python",
   "pygments_lexer": "ipython3",
   "version": "3.8.10"
  }
 },
 "nbformat": 4,
 "nbformat_minor": 5
}
