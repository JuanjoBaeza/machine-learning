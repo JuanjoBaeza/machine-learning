{
 "cells": [
  {
   "cell_type": "code",
   "execution_count": 2,
   "id": "70aca165",
   "metadata": {},
   "outputs": [
    {
     "name": "stdout",
     "output_type": "stream",
     "text": [
      "Successfully saved\n"
     ]
    }
   ],
   "source": [
    "import cv2\n",
    "\n",
    "face_cascade = cv2.CascadeClassifier('datasets/face-detector.xml')\n",
    "\n",
    "img = cv2.imread('datasets/face1.jpg')\n",
    "faces = face_cascade.detectMultiScale(img, 1.1, 4)\n",
    "\n",
    "for (x, y, w, h) in faces: \n",
    "  cv2.rectangle(img, (x, y), (x+w, y+h), (255, 0, 0), 2)\n",
    "  \n",
    "cv2.imwrite(\"datasets/images/face-detector.png\", img)\n",
    "\n",
    "print('Successfully saved')"
   ]
  },
  {
   "cell_type": "code",
   "execution_count": null,
   "id": "78120ec0",
   "metadata": {},
   "outputs": [],
   "source": []
  }
 ],
 "metadata": {
  "kernelspec": {
   "display_name": "Python 3 (ipykernel)",
   "language": "python",
   "name": "python3"
  },
  "language_info": {
   "codemirror_mode": {
    "name": "ipython",
    "version": 3
   },
   "file_extension": ".py",
   "mimetype": "text/x-python",
   "name": "python",
   "nbconvert_exporter": "python",
   "pygments_lexer": "ipython3",
   "version": "3.8.10"
  }
 },
 "nbformat": 4,
 "nbformat_minor": 5
}
