{
 "cells": [
  {
   "cell_type": "code",
   "execution_count": 7,
   "id": "545e101b",
   "metadata": {},
   "outputs": [
    {
     "name": "stdout",
     "output_type": "stream",
     "text": [
      "ham     4780\n",
      "spam     742\n",
      "Name: label, dtype: int64\n",
      "Training examples: 4141, testing examples 1381\n",
      "Accuracy: 98.4070%\n",
      "\n",
      "spam  -Are you looking to redesign your website with new modern look and feel?\n",
      "ham   -Please send me a confirmation of complete and permanent erasure of the personal data\n",
      "spam  -You have been selected to win a FREE suscription to our service\n",
      "ham   -We’re contacting you because the webhook endpoint associated with your account in test mode has been failing\n"
     ]
    }
   ],
   "source": [
    "import csv\n",
    "import pandas as pd\n",
    "import numpy as np\n",
    "import string\n",
    "\n",
    "spam_or_ham = pd.read_csv(\"datasets/svc-spam.csv\", encoding='latin-1', on_bad_lines='skip')[[\"v1\", \"v2\"]]\n",
    "spam_or_ham.columns = [\"label\", \"text\"]\n",
    "spam_or_ham.head()\n",
    "\n",
    "print (spam_or_ham[\"label\"].value_counts())\n",
    "\n",
    "punctuation = set(string.punctuation)\n",
    "\n",
    "def tokenize(sentence):\n",
    "    tokens = []\n",
    "    for token in sentence.split():\n",
    "        new_token = []\n",
    "        for character in token:\n",
    "            if character not in punctuation:\n",
    "                new_token.append(character.lower())\n",
    "        if new_token:\n",
    "            tokens.append(\"\".join(new_token))\n",
    "    return tokens\n",
    "\n",
    "spam_or_ham.head()[\"text\"].apply(tokenize)\n",
    "\n",
    "from sklearn.feature_extraction.text import CountVectorizer\n",
    "demo_vectorizer = CountVectorizer(\n",
    "    tokenizer = tokenize,\n",
    "    binary = True\n",
    ")\n",
    "\n",
    "from sklearn.model_selection import train_test_split\n",
    "train_text, test_text, train_labels, test_labels = train_test_split(spam_or_ham[\"text\"], spam_or_ham[\"label\"], stratify=spam_or_ham[\"label\"])\n",
    "\n",
    "print(f\"Training examples: {len(train_text)}, testing examples {len(test_text)}\")\n",
    "\n",
    "real_vectorizer = CountVectorizer(tokenizer = tokenize, binary=True, token_pattern=None)\n",
    "train_X = real_vectorizer.fit_transform(train_text)\n",
    "test_X  = real_vectorizer.transform(test_text)\n",
    "\n",
    "from sklearn.svm import LinearSVC\n",
    "classifier = LinearSVC()\n",
    "\n",
    "classifier.fit(train_X, train_labels)\n",
    "LinearSVC(C=1.0, class_weight=None, dual=True, fit_intercept=True,\n",
    "          intercept_scaling=1, loss='squared_hinge', max_iter=1000,\n",
    "          multi_class='ovr', penalty='l2', random_state=None, tol=0.0001,\n",
    "          verbose=0)\n",
    "\n",
    "from sklearn.metrics import accuracy_score\n",
    "\n",
    "predicciones = classifier.predict(test_X)\n",
    "accuracy = accuracy_score(test_labels, predicciones)\n",
    "\n",
    "print(f\"Accuracy: {accuracy:.4%}\\n\")\n",
    "\n",
    "frases = [\n",
    "  'Are you looking to redesign your website with new modern look and feel?',\n",
    "  'Please send me a confirmation of complete and permanent erasure of the personal data',\n",
    "  'You have been selected to win a FREE suscription to our service',\n",
    "  'We’re contacting you because the webhook endpoint associated with your account in test mode has been failing'\n",
    "  ]\n",
    "\n",
    "frases_X = real_vectorizer.transform(frases)\n",
    "predicciones = classifier.predict(frases_X)\n",
    "\n",
    "for text, label in zip(frases, predicciones):\n",
    "    print(f\"{label:5} -{text}\")"
   ]
  },
  {
   "cell_type": "code",
   "execution_count": null,
   "id": "4f783aa8",
   "metadata": {},
   "outputs": [],
   "source": []
  }
 ],
 "metadata": {
  "kernelspec": {
   "display_name": "Python 3 (ipykernel)",
   "language": "python",
   "name": "python3"
  },
  "language_info": {
   "codemirror_mode": {
    "name": "ipython",
    "version": 3
   },
   "file_extension": ".py",
   "mimetype": "text/x-python",
   "name": "python",
   "nbconvert_exporter": "python",
   "pygments_lexer": "ipython3",
   "version": "3.8.10"
  }
 },
 "nbformat": 4,
 "nbformat_minor": 5
}
