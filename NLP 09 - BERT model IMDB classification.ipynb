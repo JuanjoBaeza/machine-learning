{
 "cells": [
  {
   "cell_type": "code",
   "execution_count": 1,
   "id": "8aa8ace9",
   "metadata": {},
   "outputs": [
    {
     "name": "stderr",
     "output_type": "stream",
     "text": [
      "No model was supplied, defaulted to facebook/bart-large-mnli (https://huggingface.co/facebook/bart-large-mnli)\n"
     ]
    }
   ],
   "source": [
    "#https://pub.towardsai.net/is-it-possible-to-do-text-classification-on-unlabeled-data-feat-zero-shot-classification-8caa584a1661\n",
    "import pandas as pd\n",
    "from transformers import pipeline\n",
    "\n",
    "dataset = pd.read_csv(\"datasets/IMDB.csv\")\n",
    "test_set_df = dataset[45000:50000]\n",
    "classifier  = pipeline(\"zero-shot-classification\")"
   ]
  },
  {
   "cell_type": "code",
   "execution_count": 2,
   "id": "7557a0fa",
   "metadata": {},
   "outputs": [
    {
     "name": "stdout",
     "output_type": "stream",
     "text": [
      "{'sequence': 'The movie was so boring, I actually fell sleep in the first 20 minutes.', 'labels': ['negative', 'positive'], 'scores': [0.9880887866020203, 0.011911218985915184]}\n"
     ]
    }
   ],
   "source": [
    "the_labels = [\"positive\", \"negative\"]\n",
    "a_review   = \"The movie was so boring, I actually fell sleep in the first 20 minutes.\"\n",
    "\n",
    "res = classifier(a_review, the_labels)\n",
    "\n",
    "print(res)"
   ]
  },
  {
   "cell_type": "code",
   "execution_count": 3,
   "id": "bb3b2f53",
   "metadata": {},
   "outputs": [
    {
     "name": "stderr",
     "output_type": "stream",
     "text": [
      "50it [03:29,  4.19s/it]\n"
     ]
    }
   ],
   "source": [
    "#https://towardsdatascience.com/efficiently-iterating-over-rows-in-a-pandas-dataframe-7dd5f9992c01\n",
    "from sklearn.metrics import accuracy_score\n",
    "from tqdm import tqdm\n",
    "\n",
    "test_set = dataset[49950:50000]\n",
    "\n",
    "results = []\n",
    "targets = []\n",
    "\n",
    "for idx, item in tqdm(test_set.iterrows()):\n",
    "  \n",
    "  res = classifier(item['review'], the_labels)\n",
    "\n",
    "  results.append( res['labels'][0] )\n",
    "  targets.append( item['sentiment'] )\n",
    "  \n",
    "accuracy = accuracy_score(results, targets)"
   ]
  },
  {
   "cell_type": "code",
   "execution_count": 4,
   "id": "e2dce66d",
   "metadata": {},
   "outputs": [
    {
     "name": "stdout",
     "output_type": "stream",
     "text": [
      "{'sequence': \"No one expects the Star Trek movies to be high art, but the fans do expect a movie that is as good as some of the best episodes. Unfortunately, this movie had a muddled, implausible plot that just left me cringing - this is by far the worst of the nine (so far) movies. Even the chance to watch the well known characters interact in another movie can't save this movie - including the goofy scenes with Kirk, Spock and McCoy at Yosemite.<br /><br />I would say this movie is not worth a rental, and hardly worth watching, however for the True Fan who needs to see all the movies, renting this movie is about the only way you'll see it - even the cable channels avoid this movie.\", 'labels': ['negative', 'positive'], 'scores': [0.9891681671142578, 0.01083176676183939]}\n"
     ]
    }
   ],
   "source": [
    "hypothesis_template = \"The sentiment of this review is {}.\"\n",
    "resul = classifier(item['review'], the_labels, hypothesis_template = hypothesis_template)\n",
    "print(resul)"
   ]
  },
  {
   "cell_type": "code",
   "execution_count": 5,
   "id": "48904e32",
   "metadata": {},
   "outputs": [
    {
     "name": "stdout",
     "output_type": "stream",
     "text": [
      "{'sequence': \"One of the other reviewers has mentioned that after watching just 1 Oz episode you'll be hooked. They are right, as this is exactly what happened with me.<br /><br />The first thing that struck me about Oz was its brutality and unflinching scenes of violence, which set in right from the word GO. Trust me, this is not a show for the faint hearted or timid. This show pulls no punches with regards to drugs, sex or violence. Its is hardcore, in the classic use of the word.<br /><br />It is called OZ as that is the nickname given to the Oswald Maximum Security State Penitentary. It focuses mainly on Emerald City, an experimental section of the prison where all the cells have glass fronts and face inwards, so privacy is not high on the agenda. Em City is home to many..Aryans, Muslims, gangstas, Latinos, Christians, Italians, Irish and more....so scuffles, death stares, dodgy dealings and shady agreements are never far away.<br /><br />I would say the main appeal of the show is due to the fact that it goes where other shows wouldn't dare. Forget pretty pictures painted for mainstream audiences, forget charm, forget romance...OZ doesn't mess around. The first episode I ever saw struck me as so nasty it was surreal, I couldn't say I was ready for it, but as I watched more, I developed a taste for Oz, and got accustomed to the high levels of graphic violence. Not just violence, but injustice (crooked guards who'll be sold out for a nickel, inmates who'll kill on order and get away with it, well mannered, middle class inmates being turned into prison bitches due to their lack of street skills or prison experience) Watching Oz, you may become comfortable with what is uncomfortable viewing....thats if you can get in touch with your darker side.\", 'labels': ['positive', 'negative'], 'scores': [0.5315395593643188, 0.46846044063568115]}\n"
     ]
    }
   ],
   "source": [
    "import csv\n",
    "\n",
    "# Selecciona el numero de fila para analizar\n",
    "def buscar(elem):\n",
    "    with open('datasets/IMDB.csv') as file_obj:\n",
    "        reader_obj = csv.reader(file_obj)\n",
    "        rows = list(reader_obj)\n",
    "        row = rows[elem][0]\n",
    "        return row\n",
    "    \n",
    "resultado = classifier(buscar(1), the_labels)\n",
    "print(resultado)"
   ]
  },
  {
   "cell_type": "code",
   "execution_count": null,
   "id": "9d15e870",
   "metadata": {},
   "outputs": [],
   "source": []
  }
 ],
 "metadata": {
  "kernelspec": {
   "display_name": "Python 3 (ipykernel)",
   "language": "python",
   "name": "python3"
  },
  "language_info": {
   "codemirror_mode": {
    "name": "ipython",
    "version": 3
   },
   "file_extension": ".py",
   "mimetype": "text/x-python",
   "name": "python",
   "nbconvert_exporter": "python",
   "pygments_lexer": "ipython3",
   "version": "3.8.10"
  }
 },
 "nbformat": 4,
 "nbformat_minor": 5
}
