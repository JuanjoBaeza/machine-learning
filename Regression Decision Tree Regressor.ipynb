{
 "cells": [
  {
   "cell_type": "code",
   "execution_count": 6,
   "id": "7f40dc4f",
   "metadata": {},
   "outputs": [
    {
     "data": {
      "image/png": "[encoded data removed]",
      "text/plain": [
       "<Figure size 432x288 with 1 Axes>"
      ]
     },
     "metadata": {
      "needs_background": "light"
     },
     "output_type": "display_data"
    },
    {
     "name": "stdout",
     "output_type": "stream",
     "text": [
      "Mean Absolute Error: 21.895\n",
      "Root Mean Squared Error of train dataset: 0.0\n",
      "Root Mean Squared Error of test dataset: 27.149\n"
     ]
    }
   ],
   "source": [
    "# Source: https://pub.towardsai.net/decision-trees-vs-random-forests-in-machine-learning-be56c093b0f\n",
    "import numpy as np\n",
    "import pandas as pd\n",
    "import seaborn as sns\n",
    "import matplotlib.pyplot as plt\n",
    "\n",
    "ice_cream=pd.read_csv(\"datasets/decis-tree-IceCreamData.csv\")\n",
    "ice_cream.head(10)\n",
    "\n",
    "# Using the displot to know the distribution of the Revenue column present in the dataset\n",
    "#sns.displot(x='Revenue',data=ice_cream,kde=True)\n",
    "\n",
    "# Using the scatter plot to know the relation between the Temperature and revenue in the dataset\n",
    "# Plot this or above, not both at same time\n",
    "plt.scatter(x='Temperature',y='Revenue',data=ice_cream)\n",
    "plt.title(\"Relacion entre Temperatura y Ventas\")\n",
    "plt.xlabel('Temperatura')\n",
    "plt.ylabel('Ventas')\n",
    "plt.show()\n",
    "\n",
    "# The Temperature is independent and Revenue is dependent on temperature\n",
    "\n",
    "X=pd.DataFrame(ice_cream['Temperature'])\n",
    "Y=pd.DataFrame(ice_cream['Revenue'])\n",
    "\n",
    "#importing train_test_split method from sklearn\n",
    "from sklearn.model_selection import train_test_split\n",
    "X_train,X_test,Y_train,Y_test=train_test_split(X,Y,test_size=0.1,\n",
    "                                               random_state=1)\n",
    "\n",
    "#importing the DecisionTreeRegressor from the sklearn lib\n",
    "from sklearn.tree import DecisionTreeRegressor\n",
    "\n",
    "regressor = DecisionTreeRegressor(random_state=0)\n",
    "regressor.fit(X_train, Y_train)\n",
    "\n",
    "#Predicting the values\n",
    "y_pred=regressor.predict(X_test)\n",
    "x_pred=regressor.predict(X_train)\n",
    "\n",
    "#Evaluating the model based on the metrics\n",
    "from sklearn import metrics\n",
    "\n",
    "print('Mean Absolute Error:',\n",
    "            \"%.3f\" % (metrics.mean_absolute_error(Y_test,y_pred)))\n",
    "             \n",
    "print('Root Mean Squared Error of train dataset:',\n",
    "            np.sqrt(metrics.mean_squared_error(Y_train,x_pred)))\n",
    "             \n",
    "print('Root Mean Squared Error of test dataset:', \n",
    "            \"%.3f\" % (np.sqrt(metrics.mean_squared_error(Y_test, y_pred))))"
   ]
  },
  {
   "cell_type": "code",
   "execution_count": null,
   "id": "3b928b04",
   "metadata": {},
   "outputs": [],
   "source": []
  }
 ],
 "metadata": {
  "kernelspec": {
   "display_name": "Python 3 (ipykernel)",
   "language": "python",
   "name": "python3"
  },
  "language_info": {
   "codemirror_mode": {
    "name": "ipython",
    "version": 3
   },
   "file_extension": ".py",
   "mimetype": "text/x-python",
   "name": "python",
   "nbconvert_exporter": "python",
   "pygments_lexer": "ipython3",
   "version": "3.8.10"
  }
 },
 "nbformat": 4,
 "nbformat_minor": 5
}
