{
 "cells": [
  {
   "cell_type": "code",
   "execution_count": 2,
   "id": "45128cd6",
   "metadata": {},
   "outputs": [
    {
     "name": "stdout",
     "output_type": "stream",
     "text": [
      "   age  bank_saving  y\n",
      "0   22        10000  0\n",
      "1   45       340000  1\n",
      "2   12         1000  0\n",
      "3   56       540000  1\n",
      "4   37       290000  0\n",
      "Confusion Matrix : \n",
      " [[1 0]\n",
      " [0 1]]\n",
      "Accuracy :  1.0\n"
     ]
    },
    {
     "data": {
      "image/png": "[encoded data removed]",
      "text/plain": [
       "<Figure size 432x288 with 1 Axes>"
      ]
     },
     "metadata": {
      "needs_background": "light"
     },
     "output_type": "display_data"
    }
   ],
   "source": [
    "import pandas as pd\n",
    "import numpy as np \n",
    "import matplotlib.pyplot as plt\n",
    "from sklearn.model_selection import train_test_split \n",
    "from sklearn.preprocessing import StandardScaler \n",
    "from sklearn.linear_model import LogisticRegression \n",
    "from sklearn.metrics import confusion_matrix \n",
    "from sklearn.metrics import accuracy_score \n",
    "from matplotlib.colors import ListedColormap \n",
    "\n",
    "import warnings\n",
    "warnings.filterwarnings(\"ignore\")\n",
    "\n",
    "#Leer el archivo de Excel y vea sus primeras 5 filas.\n",
    "df = pd.read_excel(\"datasets/reg-logistic.xlsx\") \n",
    "print (df.head())\n",
    "\n",
    "#Dividir el conjunto de datos en una variable independiente y dependiente.\n",
    "x = df.iloc[:,[0,1]].values\n",
    "y = df.iloc[:,2].values\n",
    "\n",
    "# Dividiendo los datos en datos de prueba y de tren.\n",
    "x_train, x_test, y_train, y_test = train_test_split(x, y, test_size = 0.25, random_state = 0)\n",
    "\n",
    "#Estandarizar los datos para que las variaciones en el número se vuelvan normales.\n",
    "sc_x = StandardScaler() \n",
    "x_train = sc_x.fit_transform(x_train)  \n",
    "x_test = sc_x.transform(x_test)\n",
    "\n",
    "#Adaptación del conjunto de entrenamiento al modelo.\n",
    "classifier = LogisticRegression(random_state = 0) \n",
    "classifier.fit(x_train, y_train)\n",
    "\n",
    "#Hacer la predicción con el clasificador.\n",
    "y_pred = classifier.predict(x_test)\n",
    "\n",
    "#Genere la matriz de confusión.\n",
    "conf_matrix = confusion_matrix(y_test, y_pred) \n",
    "print (\"Confusion Matrix : \\n\", conf_matrix)\n",
    "\n",
    "#Verificar la precisión del modelo logístico.\n",
    "print (\"Accuracy : \", accuracy_score(y_test, y_pred))\n",
    "\n",
    "#Trazar el modelo de clasificación binaria.\n",
    "X_set, y_set = x_test, y_test \n",
    "X1, X2 = np.meshgrid(np.arange(start = X_set[:, 0].min() - 1,  \n",
    "                               stop = X_set[:, 0].max() + 1, step = 0.01), \n",
    "                     np.arange(start = X_set[:, 1].min() - 1,  \n",
    "                               stop = X_set[:, 1].max() + 1, step = 0.01)) \n",
    "  \n",
    "plt.contourf(X1, X2, classifier.predict( \n",
    "             np.array([X1.ravel(), X2.ravel()]).T).reshape( \n",
    "             X1.shape), alpha = 0.75, cmap = ListedColormap(('red', 'green'))) \n",
    "  \n",
    "plt.xlim(X1.min(), X1.max()) \n",
    "plt.ylim(X2.min(), X2.max()) \n",
    "  \n",
    "for i, j in enumerate(np.unique(y_set)): \n",
    "    plt.scatter(X_set[y_set == j, 0], X_set[y_set == j, 1], \n",
    "                color = ListedColormap(('red', 'green'))(i), label = j) \n",
    "      \n",
    "plt.title('Classifier (Test set)') \n",
    "plt.xlabel('Age') \n",
    "plt.ylabel('Bank Saving') \n",
    "plt.legend() \n",
    "plt.show()"
   ]
  },
  {
   "cell_type": "code",
   "execution_count": null,
   "id": "ca9eef4a",
   "metadata": {},
   "outputs": [],
   "source": []
  }
 ],
 "metadata": {
  "kernelspec": {
   "display_name": "Python 3 (ipykernel)",
   "language": "python",
   "name": "python3"
  },
  "language_info": {
   "codemirror_mode": {
    "name": "ipython",
    "version": 3
   },
   "file_extension": ".py",
   "mimetype": "text/x-python",
   "name": "python",
   "nbconvert_exporter": "python",
   "pygments_lexer": "ipython3",
   "version": "3.8.10"
  }
 },
 "nbformat": 4,
 "nbformat_minor": 5
}
