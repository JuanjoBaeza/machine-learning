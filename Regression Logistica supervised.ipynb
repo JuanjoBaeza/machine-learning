{
 "cells": [
  {
   "cell_type": "code",
   "execution_count": 3,
   "id": "49710834",
   "metadata": {},
   "outputs": [
    {
     "name": "stdout",
     "output_type": "stream",
     "text": [
      "[0 0 1 1 1 1]\n",
      "[[0.87984046 0.12015954]\n",
      " [0.69895285 0.30104715]\n",
      " [0.42402118 0.57597882]\n",
      " [0.18924992 0.81075008]\n",
      " [0.06891381 0.93108619]\n",
      " [0.02293029 0.97706971]]\n"
     ]
    }
   ],
   "source": [
    "# https://www.iartificial.net/como-usar-regresion-logistica-en-python/\n",
    "\n",
    "# Paso 1: importamos la librería numérica NumPy\n",
    "import numpy as np\n",
    "\n",
    "# Paso 2: preparamos los datos\n",
    "X = np.array([0.5, 0.75, 1, 1.25, 1.5, 1.75, 1.75, 2, 2.25, 2.5, 2.75, 3, 3.25, 3.5, 4, 4.25, 4.5, 4.75, 5, 5.5]).reshape(-1,1)\n",
    "y = np.array([0, 0, 0, 0, 0, 0, 1, 0, 1, 0, 1, 0, 1, 0, 1, 1, 1, 1, 1, 1])\n",
    "\n",
    "# Paso 3: importamos la clase LogisticRegresion de scikit-learn\n",
    "from sklearn.linear_model import LogisticRegression\n",
    "\n",
    "# Paso 4: Creamos una instancia de la Regresión Logística\n",
    "regresion_logistica = LogisticRegression()\n",
    "\n",
    "# Paso 5: Entrena la regresión logística con los datos de entrenamiento\n",
    "regresion_logistica.fit(X,y)\n",
    "\n",
    "X_nuevo = np.array([1, 2, 3, 4, 5, 6]).reshape(-1,1)\n",
    "\n",
    "# Paso 6: Usa el modelo entrenado para obtener las predicciones con datos nuevos\n",
    "prediccion = regresion_logistica.predict(X_nuevo)\n",
    "print(prediccion)\n",
    "\n",
    "# produce el resultado: [0 0 1 1 1 1]\n",
    "\n",
    "# Paso 7: Opcionalmente, obtén las probabilidades de la predicción\n",
    "probabilidades_prediccion = regresion_logistica.predict_proba(X_nuevo)\n",
    "print(probabilidades_prediccion)\n",
    "\n",
    "# la primera columna es la probabilidad de suspender y la segunda columna es la probabilidad de aprobar"
   ]
  },
  {
   "cell_type": "code",
   "execution_count": 4,
   "id": "35167ede",
   "metadata": {},
   "outputs": [
    {
     "name": "stdout",
     "output_type": "stream",
     "text": [
      "[0.12015954 0.30104715 0.57597882 0.81075008 0.93108619 0.97706971]\n"
     ]
    }
   ],
   "source": [
    "# Como seguramente estamos más interesados en la probabilidad de aprobar, podemos centrarnos en la segunda columna\n",
    "print(probabilidades_prediccion[:,1])"
   ]
  }
 ],
 "metadata": {
  "kernelspec": {
   "display_name": "Python 3 (ipykernel)",
   "language": "python",
   "name": "python3"
  },
  "language_info": {
   "codemirror_mode": {
    "name": "ipython",
    "version": 3
   },
   "file_extension": ".py",
   "mimetype": "text/x-python",
   "name": "python",
   "nbconvert_exporter": "python",
   "pygments_lexer": "ipython3",
   "version": "3.8.10"
  }
 },
 "nbformat": 4,
 "nbformat_minor": 5
}
