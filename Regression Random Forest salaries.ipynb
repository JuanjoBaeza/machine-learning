{
 "cells": [
  {
   "cell_type": "code",
   "execution_count": 1,
   "id": "9b33ad72",
   "metadata": {},
   "outputs": [
    {
     "name": "stdout",
     "output_type": "stream",
     "text": [
      "Training dataset Score: 0.883197840979863\n",
      "Testing dataset Score: 0.9909168388429752\n",
      "Mean Absolute Error: 16250.0\n",
      "Root Mean Squared Error of train dataset: 101634.8626825461\n",
      "Root Mean Squared Error of test: 20967.236346261754\n",
      "[164100.]\n"
     ]
    },
    {
     "data": {
      "image/png": "[encoded data removed]",
      "text/plain": [
       "<Figure size 432x288 with 1 Axes>"
      ]
     },
     "metadata": {
      "needs_background": "light"
     },
     "output_type": "display_data"
    }
   ],
   "source": [
    "#importing all the libraries needed for the process\n",
    "import numpy as np\n",
    "import pandas as pd\n",
    "import seaborn as sns\n",
    "import matplotlib.pyplot as plt\n",
    "\n",
    "#reading the csv data using pandas to salary\n",
    "salary=pd.read_csv(\"datasets/rand-forest-position-salaries.csv\")\n",
    "\n",
    "#Using the scatterplot to find the relation between level and salary\n",
    "sns.scatterplot(data=salary,x='Level',y='Salary')\n",
    "\n",
    "# There is a polynomial relation between the variables that is if the level increase the salary also increases\n",
    "# The Salary is independent variable and the level is dependent variable\n",
    "\n",
    "#Now dividing the X and Y based on the variables.\n",
    "X=salary.iloc[:,1].values\n",
    "Y=salary.iloc[:,-1].values\n",
    "\n",
    "#importing the train_test_split method from sklearn\n",
    "from sklearn.model_selection import train_test_split\n",
    "\n",
    "X_train,X_test,Y_train,Y_test=train_test_split(X,Y,test_size=0.2,\n",
    "                                               random_state=0)\n",
    "\n",
    "#reshaping the train and test dataset to minimize the value error in the further process.\n",
    "\n",
    "X_train=np.array(X_train).reshape(-1, 1)\n",
    "Y_train=np.array(Y_train).reshape(-1, 1)\n",
    "X_test=np.array(X_test).reshape(-1, 1)\n",
    "Y_test=np.array(Y_test).reshape(-1, 1)\n",
    "\n",
    "#importing the Random tree regressor form the sklearn.ensemble\n",
    "from sklearn.ensemble import RandomForestRegressor\n",
    "rfr=RandomForestRegressor(n_estimators=100,random_state=1)\n",
    "rfr.fit(X_train,Y_train.ravel())\n",
    "\n",
    "print(\"Training dataset Score:\",rfr.score(X_train,Y_train))\n",
    "print(\"Testing dataset Score:\",rfr.score(X_test,Y_test))\n",
    "\n",
    "#Predicting the values\n",
    "x_pred=rfr.predict(X_train)\n",
    "y_pred=rfr.predict(X_test)\n",
    "\n",
    "from sklearn import metrics\n",
    "print('Mean Absolute Error:', \n",
    "            metrics.mean_absolute_error(Y_test, y_pred))\n",
    "\n",
    "print('Root Mean Squared Error of train dataset:', \n",
    "            np.sqrt(metrics.mean_squared_error(Y_train, x_pred)))\n",
    "\n",
    "print('Root Mean Squared Error of test:', \n",
    "            np.sqrt(metrics.mean_squared_error(Y_test, y_pred)))\n",
    "\n",
    "#Now predicting if he is being honest about his last salary by predicting the sal for the level 6.5\n",
    "new_val= np.array(6.5).reshape(-1,1)\n",
    "our_pred=rfr.predict(new_val)\n",
    "\n",
    "print(our_pred)"
   ]
  },
  {
   "cell_type": "code",
   "execution_count": null,
   "id": "071cabf4",
   "metadata": {},
   "outputs": [],
   "source": []
  }
 ],
 "metadata": {
  "kernelspec": {
   "display_name": "Python 3 (ipykernel)",
   "language": "python",
   "name": "python3"
  },
  "language_info": {
   "codemirror_mode": {
    "name": "ipython",
    "version": 3
   },
   "file_extension": ".py",
   "mimetype": "text/x-python",
   "name": "python",
   "nbconvert_exporter": "python",
   "pygments_lexer": "ipython3",
   "version": "3.8.10"
  }
 },
 "nbformat": 4,
 "nbformat_minor": 5
}
