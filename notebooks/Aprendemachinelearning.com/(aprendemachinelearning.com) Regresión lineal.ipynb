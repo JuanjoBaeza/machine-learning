{
 "cells": [
  {
   "cell_type": "code",
   "execution_count": 1,
   "id": "33dbacd6",
   "metadata": {},
   "outputs": [],
   "source": [
    "# Imports necesarios\n",
    "import numpy as np\n",
    "import pandas as pd\n",
    "import seaborn as sb\n",
    "import matplotlib.pyplot as plt\n",
    "%matplotlib inline\n",
    "from mpl_toolkits.mplot3d import Axes3D\n",
    "from matplotlib import cm\n",
    "plt.rcParams['figure.figsize'] = (16, 9)\n",
    "plt.style.use('ggplot')\n",
    "from sklearn import linear_model\n",
    "from sklearn.metrics import mean_squared_error, r2_score"
   ]
  },
  {
   "cell_type": "code",
   "execution_count": 2,
   "id": "3ee2537b",
   "metadata": {},
   "outputs": [
    {
     "data": {
      "text/plain": [
       "(161, 8)"
      ]
     },
     "execution_count": 2,
     "metadata": {},
     "output_type": "execute_result"
    }
   ],
   "source": [
    "#cargamos los datos de entrada\n",
    "data = pd.read_csv(\"../../data/datasets/articulos_ml2.csv\")\n",
    "#veamos cuantas dimensiones y registros contiene\n",
    "data.shape"
   ]
  },
  {
   "cell_type": "code",
   "execution_count": 3,
   "id": "b22b649a",
   "metadata": {},
   "outputs": [
    {
     "data": {
      "text/html": [
       "<div>\n",
       "<style scoped>\n",
       "    .dataframe tbody tr th:only-of-type {\n",
       "        vertical-align: middle;\n",
       "    }\n",
       "\n",
       "    .dataframe tbody tr th {\n",
       "        vertical-align: top;\n",
       "    }\n",
       "\n",
       "    .dataframe thead th {\n",
       "        text-align: right;\n",
       "    }\n",
       "</style>\n",
       "<table border=\"1\" class=\"dataframe\">\n",
       "  <thead>\n",
       "    <tr style=\"text-align: right;\">\n",
       "      <th></th>\n",
       "      <th>Title</th>\n",
       "      <th>url</th>\n",
       "      <th>Word count</th>\n",
       "      <th># of Links</th>\n",
       "      <th># of comments</th>\n",
       "      <th># Images video</th>\n",
       "      <th>Elapsed days</th>\n",
       "      <th># Shares</th>\n",
       "    </tr>\n",
       "  </thead>\n",
       "  <tbody>\n",
       "    <tr>\n",
       "      <th>0</th>\n",
       "      <td>What is Machine Learning and how do we use it ...</td>\n",
       "      <td>https://blog.signals.network/what-is-machine-l...</td>\n",
       "      <td>1888</td>\n",
       "      <td>1</td>\n",
       "      <td>2.0</td>\n",
       "      <td>2</td>\n",
       "      <td>34</td>\n",
       "      <td>200000</td>\n",
       "    </tr>\n",
       "    <tr>\n",
       "      <th>1</th>\n",
       "      <td>10 Companies Using Machine Learning in Cool Ways</td>\n",
       "      <td>NaN</td>\n",
       "      <td>1742</td>\n",
       "      <td>9</td>\n",
       "      <td>NaN</td>\n",
       "      <td>9</td>\n",
       "      <td>5</td>\n",
       "      <td>25000</td>\n",
       "    </tr>\n",
       "    <tr>\n",
       "      <th>2</th>\n",
       "      <td>How Artificial Intelligence Is Revolutionizing...</td>\n",
       "      <td>NaN</td>\n",
       "      <td>962</td>\n",
       "      <td>6</td>\n",
       "      <td>0.0</td>\n",
       "      <td>1</td>\n",
       "      <td>10</td>\n",
       "      <td>42000</td>\n",
       "    </tr>\n",
       "    <tr>\n",
       "      <th>3</th>\n",
       "      <td>Dbrain and the Blockchain of Artificial Intell...</td>\n",
       "      <td>NaN</td>\n",
       "      <td>1221</td>\n",
       "      <td>3</td>\n",
       "      <td>NaN</td>\n",
       "      <td>2</td>\n",
       "      <td>68</td>\n",
       "      <td>200000</td>\n",
       "    </tr>\n",
       "    <tr>\n",
       "      <th>4</th>\n",
       "      <td>Nasa finds entire solar system filled with eig...</td>\n",
       "      <td>NaN</td>\n",
       "      <td>2039</td>\n",
       "      <td>1</td>\n",
       "      <td>104.0</td>\n",
       "      <td>4</td>\n",
       "      <td>131</td>\n",
       "      <td>200000</td>\n",
       "    </tr>\n",
       "  </tbody>\n",
       "</table>\n",
       "</div>"
      ],
      "text/plain": [
       "                                               Title  \\\n",
       "0  What is Machine Learning and how do we use it ...   \n",
       "1   10 Companies Using Machine Learning in Cool Ways   \n",
       "2  How Artificial Intelligence Is Revolutionizing...   \n",
       "3  Dbrain and the Blockchain of Artificial Intell...   \n",
       "4  Nasa finds entire solar system filled with eig...   \n",
       "\n",
       "                                                 url  Word count  # of Links  \\\n",
       "0  https://blog.signals.network/what-is-machine-l...        1888           1   \n",
       "1                                                NaN        1742           9   \n",
       "2                                                NaN         962           6   \n",
       "3                                                NaN        1221           3   \n",
       "4                                                NaN        2039           1   \n",
       "\n",
       "   # of comments  # Images video  Elapsed days  # Shares  \n",
       "0            2.0               2            34    200000  \n",
       "1            NaN               9             5     25000  \n",
       "2            0.0               1            10     42000  \n",
       "3            NaN               2            68    200000  \n",
       "4          104.0               4           131    200000  "
      ]
     },
     "execution_count": 3,
     "metadata": {},
     "output_type": "execute_result"
    }
   ],
   "source": [
    "#son 161 registros con 8 columnas. Veamos los primeros registros\n",
    "data.head()"
   ]
  },
  {
   "cell_type": "code",
   "execution_count": 4,
   "id": "81ad1241",
   "metadata": {},
   "outputs": [
    {
     "data": {
      "text/html": [
       "<div>\n",
       "<style scoped>\n",
       "    .dataframe tbody tr th:only-of-type {\n",
       "        vertical-align: middle;\n",
       "    }\n",
       "\n",
       "    .dataframe tbody tr th {\n",
       "        vertical-align: top;\n",
       "    }\n",
       "\n",
       "    .dataframe thead th {\n",
       "        text-align: right;\n",
       "    }\n",
       "</style>\n",
       "<table border=\"1\" class=\"dataframe\">\n",
       "  <thead>\n",
       "    <tr style=\"text-align: right;\">\n",
       "      <th></th>\n",
       "      <th>Word count</th>\n",
       "      <th># of Links</th>\n",
       "      <th># of comments</th>\n",
       "      <th># Images video</th>\n",
       "      <th>Elapsed days</th>\n",
       "      <th># Shares</th>\n",
       "    </tr>\n",
       "  </thead>\n",
       "  <tbody>\n",
       "    <tr>\n",
       "      <th>count</th>\n",
       "      <td>161.000000</td>\n",
       "      <td>161.000000</td>\n",
       "      <td>129.000000</td>\n",
       "      <td>161.000000</td>\n",
       "      <td>161.000000</td>\n",
       "      <td>161.000000</td>\n",
       "    </tr>\n",
       "    <tr>\n",
       "      <th>mean</th>\n",
       "      <td>1808.260870</td>\n",
       "      <td>9.739130</td>\n",
       "      <td>8.782946</td>\n",
       "      <td>3.670807</td>\n",
       "      <td>98.124224</td>\n",
       "      <td>27948.347826</td>\n",
       "    </tr>\n",
       "    <tr>\n",
       "      <th>std</th>\n",
       "      <td>1141.919385</td>\n",
       "      <td>47.271625</td>\n",
       "      <td>13.142822</td>\n",
       "      <td>3.418290</td>\n",
       "      <td>114.337535</td>\n",
       "      <td>43408.006839</td>\n",
       "    </tr>\n",
       "    <tr>\n",
       "      <th>min</th>\n",
       "      <td>250.000000</td>\n",
       "      <td>0.000000</td>\n",
       "      <td>0.000000</td>\n",
       "      <td>1.000000</td>\n",
       "      <td>1.000000</td>\n",
       "      <td>0.000000</td>\n",
       "    </tr>\n",
       "    <tr>\n",
       "      <th>25%</th>\n",
       "      <td>990.000000</td>\n",
       "      <td>3.000000</td>\n",
       "      <td>2.000000</td>\n",
       "      <td>1.000000</td>\n",
       "      <td>31.000000</td>\n",
       "      <td>2800.000000</td>\n",
       "    </tr>\n",
       "    <tr>\n",
       "      <th>50%</th>\n",
       "      <td>1674.000000</td>\n",
       "      <td>5.000000</td>\n",
       "      <td>6.000000</td>\n",
       "      <td>3.000000</td>\n",
       "      <td>62.000000</td>\n",
       "      <td>16458.000000</td>\n",
       "    </tr>\n",
       "    <tr>\n",
       "      <th>75%</th>\n",
       "      <td>2369.000000</td>\n",
       "      <td>7.000000</td>\n",
       "      <td>12.000000</td>\n",
       "      <td>5.000000</td>\n",
       "      <td>124.000000</td>\n",
       "      <td>35691.000000</td>\n",
       "    </tr>\n",
       "    <tr>\n",
       "      <th>max</th>\n",
       "      <td>8401.000000</td>\n",
       "      <td>600.000000</td>\n",
       "      <td>104.000000</td>\n",
       "      <td>22.000000</td>\n",
       "      <td>1002.000000</td>\n",
       "      <td>350000.000000</td>\n",
       "    </tr>\n",
       "  </tbody>\n",
       "</table>\n",
       "</div>"
      ],
      "text/plain": [
       "        Word count  # of Links  # of comments  # Images video  Elapsed days  \\\n",
       "count   161.000000  161.000000     129.000000      161.000000    161.000000   \n",
       "mean   1808.260870    9.739130       8.782946        3.670807     98.124224   \n",
       "std    1141.919385   47.271625      13.142822        3.418290    114.337535   \n",
       "min     250.000000    0.000000       0.000000        1.000000      1.000000   \n",
       "25%     990.000000    3.000000       2.000000        1.000000     31.000000   \n",
       "50%    1674.000000    5.000000       6.000000        3.000000     62.000000   \n",
       "75%    2369.000000    7.000000      12.000000        5.000000    124.000000   \n",
       "max    8401.000000  600.000000     104.000000       22.000000   1002.000000   \n",
       "\n",
       "            # Shares  \n",
       "count     161.000000  \n",
       "mean    27948.347826  \n",
       "std     43408.006839  \n",
       "min         0.000000  \n",
       "25%      2800.000000  \n",
       "50%     16458.000000  \n",
       "75%     35691.000000  \n",
       "max    350000.000000  "
      ]
     },
     "execution_count": 4,
     "metadata": {},
     "output_type": "execute_result"
    }
   ],
   "source": [
    "# Ahora veamos algunas estadísticas de nuestros datos\n",
    "data.describe()"
   ]
  },
  {
   "cell_type": "code",
   "execution_count": 6,
   "id": "01d77276",
   "metadata": {},
   "outputs": [
    {
     "data": {
      "image/png": "[encoded data removed]",
      "text/plain": [
       "<Figure size 1600x900 with 1 Axes>"
      ]
     },
     "metadata": {},
     "output_type": "display_data"
    }
   ],
   "source": [
    "# Vamos a RECORTAR los datos en la zona donde se concentran más los puntos\n",
    "# esto es en el eje X: entre 0 y 3.500\n",
    "# y en el eje Y: entre 0 y 80.000\n",
    "filtered_data = data[(data['Word count'] <= 3500) & (data['# Shares'] <= 80000)]\n",
    " \n",
    "colores=['orange','blue']\n",
    "tamanios=[30,60]\n",
    " \n",
    "f1 = filtered_data['Word count'].values\n",
    "f2 = filtered_data['# Shares'].values\n",
    " \n",
    "# Vamos a pintar en colores los puntos por debajo y por encima de la media de Cantidad de Palabras\n",
    "asignar=[]\n",
    "for index, row in filtered_data.iterrows():\n",
    "    if(row['Word count']>1808):\n",
    "        asignar.append(colores[0])\n",
    "    else:\n",
    "        asignar.append(colores[1])\n",
    "    \n",
    "plt.scatter(f1, f2, c=asignar, s=tamanios[0])\n",
    "plt.show()"
   ]
  },
  {
   "cell_type": "code",
   "execution_count": 7,
   "id": "1bff4217",
   "metadata": {},
   "outputs": [
    {
     "name": "stdout",
     "output_type": "stream",
     "text": [
      "Coefficients: \n",
      " [5.69765366]\n",
      "Independent term: \n",
      " 11200.30322307416\n",
      "Mean squared error: 372888728.34\n",
      "Variance score: 0.06\n"
     ]
    }
   ],
   "source": [
    "# Asignamos nuestra variable de entrada X para entrenamiento y las etiquetas Y.\n",
    "dataX =filtered_data[[\"Word count\"]]\n",
    "X_train = np.array(dataX)\n",
    "y_train = filtered_data['# Shares'].values\n",
    " \n",
    "# Creamos el objeto de Regresión Linear\n",
    "regr = linear_model.LinearRegression()\n",
    " \n",
    "# Entrenamos nuestro modelo\n",
    "regr.fit(X_train, y_train)\n",
    " \n",
    "# Hacemos las predicciones que en definitiva una línea (en este caso, al ser 2D)\n",
    "y_pred = regr.predict(X_train)\n",
    " \n",
    "# Veamos los coeficienetes obtenidos, En nuestro caso, serán la Tangente\n",
    "print('Coefficients: \\n', regr.coef_)\n",
    "# Este es el valor donde corta el eje Y (en X=0)\n",
    "print('Independent term: \\n', regr.intercept_)\n",
    "# Error Cuadrado Medio\n",
    "print(\"Mean squared error: %.2f\" % mean_squared_error(y_train, y_pred))\n",
    "# Puntaje de Varianza. El mejor puntaje es un 1.0\n",
    "print('Variance score: %.2f' % r2_score(y_train, y_pred))"
   ]
  },
  {
   "cell_type": "code",
   "execution_count": 8,
   "id": "7cb8a34e",
   "metadata": {},
   "outputs": [
    {
     "name": "stdout",
     "output_type": "stream",
     "text": [
      "[22595.61053785]\n"
     ]
    }
   ],
   "source": [
    "#Vamos a comprobar:\n",
    "# Quiero predecir cuántos \"Shares\" voy a obtener por un artículo con 2.000 palabras,\n",
    "# según nuestro modelo, hacemos:\n",
    "y_Dosmil = regr.predict([[2000]])\n",
    "print(y_Dosmil)"
   ]
  },
  {
   "cell_type": "code",
   "execution_count": 9,
   "id": "52f7e901",
   "metadata": {},
   "outputs": [],
   "source": [
    "#Vamos a intentar mejorar el Modelo, con una dimensión más: \n",
    "# Para poder graficar en 3D, haremos una variable nueva que será la suma de los enlaces, comentarios e imágenes\n",
    "suma = (filtered_data[\"# of Links\"] + filtered_data['# of comments'].fillna(0) + filtered_data['# Images video'])\n",
    " \n",
    "dataX2 =  pd.DataFrame()\n",
    "dataX2[\"Word count\"] = filtered_data[\"Word count\"]\n",
    "dataX2[\"suma\"] = suma\n",
    "XY_train = np.array(dataX2)\n",
    "z_train = filtered_data['# Shares'].values"
   ]
  },
  {
   "cell_type": "code",
   "execution_count": 10,
   "id": "0fae05d7",
   "metadata": {},
   "outputs": [
    {
     "name": "stdout",
     "output_type": "stream",
     "text": [
      "Coefficients: \n",
      " [   6.63216324 -483.40753769]\n",
      "Mean squared error: 352122816.48\n",
      "Variance score: 0.11\n"
     ]
    }
   ],
   "source": [
    "# Creamos un nuevo objeto de Regresión Lineal\n",
    "regr2 = linear_model.LinearRegression()\n",
    " \n",
    "# Entrenamos el modelo, esta vez, con 2 dimensiones\n",
    "# obtendremos 2 coeficientes, para graficar un plano\n",
    "regr2.fit(XY_train, z_train)\n",
    " \n",
    "# Hacemos la predicción con la que tendremos puntos sobre el plano hallado\n",
    "z_pred = regr2.predict(XY_train)\n",
    " \n",
    "# Los coeficientes\n",
    "print('Coefficients: \\n', regr2.coef_)\n",
    "# Error cuadrático medio\n",
    "print(\"Mean squared error: %.2f\" % mean_squared_error(z_train, z_pred))\n",
    "# Evaluamos el puntaje de varianza (siendo 1.0 el mejor posible)\n",
    "print('Variance score: %.2f' % r2_score(z_train, z_pred))"
   ]
  },
  {
   "cell_type": "code",
   "execution_count": 11,
   "id": "a241bcb1",
   "metadata": {},
   "outputs": [
    {
     "data": {
      "text/plain": [
       "Text(0.5, 0.92, 'Regresión Lineal con Múltiples Variables')"
      ]
     },
     "execution_count": 11,
     "metadata": {},
     "output_type": "execute_result"
    },
    {
     "data": {
      "text/plain": [
       "<Figure size 1600x900 with 0 Axes>"
      ]
     },
     "metadata": {},
     "output_type": "display_data"
    }
   ],
   "source": [
    "fig = plt.figure()\n",
    "ax = Axes3D(fig)\n",
    " \n",
    "# Creamos una malla, sobre la cual graficaremos el plano\n",
    "xx, yy = np.meshgrid(np.linspace(0, 3500, num=10), np.linspace(0, 60, num=10))\n",
    " \n",
    "# calculamos los valores del plano para los puntos x e y\n",
    "nuevoX = (regr2.coef_[0] * xx)\n",
    "nuevoY = (regr2.coef_[1] * yy) \n",
    " \n",
    "# calculamos los correspondientes valores para z. Debemos sumar el punto de intercepción\n",
    "z = (nuevoX + nuevoY + regr2.intercept_)\n",
    " \n",
    "# Graficamos el plano\n",
    "ax.plot_surface(xx, yy, z, alpha=0.2, cmap='hot')\n",
    " \n",
    "# Graficamos en azul los puntos en 3D\n",
    "ax.scatter(XY_train[:, 0], XY_train[:, 1], z_train, c='blue',s=30)\n",
    " \n",
    "# Graficamos en rojo, los puntos que \n",
    "ax.scatter(XY_train[:, 0], XY_train[:, 1], z_pred, c='red',s=40)\n",
    " \n",
    "# con esto situamos la \"camara\" con la que visualizamos\n",
    "ax.view_init(elev=30., azim=65)\n",
    "        \n",
    "ax.set_xlabel('Cantidad de Palabras')\n",
    "ax.set_ylabel('Cantidad de Enlaces,Comentarios e Imagenes')\n",
    "ax.set_zlabel('Compartido en Redes')\n",
    "ax.set_title('Regresión Lineal con Múltiples Variables')"
   ]
  },
  {
   "cell_type": "code",
   "execution_count": 12,
   "id": "3246735c",
   "metadata": {},
   "outputs": [
    {
     "name": "stdout",
     "output_type": "stream",
     "text": [
      "[20518.0668244]\n"
     ]
    }
   ],
   "source": [
    "# Si quiero predecir cuántos \"Shares\" voy a obtener por un artículo con: \n",
    "# 2000 palabras y con enlaces: 10, comentarios: 4, imagenes: 6\n",
    "# según nuestro modelo, hacemos:\n",
    " \n",
    "z_Dosmil = regr2.predict([[2000, 10+4+6]])\n",
    "print(z_Dosmil)"
   ]
  },
  {
   "cell_type": "code",
   "execution_count": null,
   "id": "7f877fa7",
   "metadata": {},
   "outputs": [],
   "source": []
  }
 ],
 "metadata": {
  "kernelspec": {
   "display_name": "Python 3 (ipykernel)",
   "language": "python",
   "name": "python3"
  },
  "language_info": {
   "codemirror_mode": {
    "name": "ipython",
    "version": 3
   },
   "file_extension": ".py",
   "mimetype": "text/x-python",
   "name": "python",
   "nbconvert_exporter": "python",
   "pygments_lexer": "ipython3",
   "version": "3.10.6"
  }
 },
 "nbformat": 4,
 "nbformat_minor": 5
}
