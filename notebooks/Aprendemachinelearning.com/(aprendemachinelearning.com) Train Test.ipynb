{
 "cells": [
  {
   "cell_type": "code",
   "execution_count": 3,
   "id": "4aa97b5c",
   "metadata": {},
   "outputs": [
    {
     "name": "stdout",
     "output_type": "stream",
     "text": [
      "Metrica del modelo 0.9666666666666667\n",
      "Metricas cross_validation [0.95833333 0.95833333 1.         1.         0.875     ]\n",
      "Media de cross_validation 0.9583333333333334\n",
      "Metrica en Test 1.0\n"
     ]
    }
   ],
   "source": [
    "# https://www.aprendemachinelearning.com/sets-de-entrenamiento-test-validacion-cruzada/\n",
    "from sklearn import datasets, metrics\n",
    "from sklearn.model_selection import train_test_split\n",
    "from sklearn.model_selection import cross_val_score\n",
    "from sklearn.model_selection import KFold\n",
    "from sklearn.linear_model import LogisticRegression\n",
    " \n",
    "iris = datasets.load_iris()\n",
    " \n",
    "X_train, X_test, y_train, y_test = train_test_split(iris.data, iris.target, test_size=0.2, random_state=0)\n",
    " \n",
    "kf = KFold(n_splits=5)\n",
    " \n",
    "clf = LogisticRegression(max_iter=200)\n",
    " \n",
    "clf.fit(X_train, y_train)\n",
    " \n",
    "score = clf.score(X_train, y_train)\n",
    " \n",
    "print(\"Metrica del modelo\", score)\n",
    " \n",
    "scores = cross_val_score(clf, X_train, y_train, cv=kf, scoring=\"accuracy\")\n",
    " \n",
    "print(\"Metricas cross_validation\", scores)\n",
    " \n",
    "print(\"Media de cross_validation\", scores.mean())\n",
    " \n",
    "preds = clf.predict(X_test)\n",
    " \n",
    "score_pred = metrics.accuracy_score(y_test, preds)\n",
    " \n",
    "print(\"Metrica en Test\", score_pred)"
   ]
  },
  {
   "cell_type": "code",
   "execution_count": null,
   "id": "f4898e30",
   "metadata": {},
   "outputs": [],
   "source": []
  }
 ],
 "metadata": {
  "kernelspec": {
   "display_name": "Python 3 (ipykernel)",
   "language": "python",
   "name": "python3"
  },
  "language_info": {
   "codemirror_mode": {
    "name": "ipython",
    "version": 3
   },
   "file_extension": ".py",
   "mimetype": "text/x-python",
   "name": "python",
   "nbconvert_exporter": "python",
   "pygments_lexer": "ipython3",
   "version": "3.8.10"
  }
 },
 "nbformat": 4,
 "nbformat_minor": 5
}
