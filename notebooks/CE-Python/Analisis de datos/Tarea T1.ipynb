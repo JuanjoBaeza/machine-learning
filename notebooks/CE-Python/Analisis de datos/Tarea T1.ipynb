{
 "cells": [
  {
   "cell_type": "code",
   "execution_count": 15,
   "id": "95252444-ac31-405e-b486-ae2b4bc2a335",
   "metadata": {},
   "outputs": [],
   "source": [
    "import numpy as np\n",
    "import matplotlib.pyplot as plt\n",
    "\n",
    "nota_mat = np.array([6.3, 9.1, 7.2 , 4.8, 7.2, 4.4, 5.5, 4.2, 6.9, 3.3, 4.5, 5.6, 5.4, 6.8, 5.1])\n",
    "nota_len = np.array([7.1, 8.7, 6.5 , 7.5, 5.6, 6.2, 5.4, 4.8 , 8.6, 4.8, 6.4, 5.6, 5.1 , 8.4, 5.0])\n",
    "nota_fis = np.array([7.4, 9.7, 7.8 , 5.4, 8.4, 3.2, 5.8, 6.4, 7.3, 3.5, 3.4, 5.6, 6.2, 7.1, 5.2])\n",
    "alumnos = np.array([\"Juan\", \"Noelia\", \"Pedro\", \"Marta\", \"Antonio\", \"Carlos\", \"Patricia\", \"Carmen\", \n",
    "                    \"Manuel\", \"Jorge\", \"Jose\", \"Sara\", \"María\", \"Rubén\", \"Bárbara\"])"
   ]
  },
  {
   "cell_type": "code",
   "execution_count": 16,
   "id": "3d459b6b-9dac-480b-932d-48fc47bd7d24",
   "metadata": {},
   "outputs": [
    {
     "name": "stdout",
     "output_type": "stream",
     "text": [
      "15\n",
      "[1. 1. 1. 1. 1. 1. 1. 1. 1. 1. 1. 1. 1. 1. 1.]\n"
     ]
    },
    {
     "data": {
      "text/plain": [
       "dtype('float64')"
      ]
     },
     "execution_count": 16,
     "metadata": {},
     "output_type": "execute_result"
    }
   ],
   "source": [
    "# 1.1- Crea un array del mismo tamaño y tipo de datos que notas_mates llamado \"nuevo\" con los valores a 1\n",
    "p = len(nota_mat)\n",
    "print(p)\n",
    "\n",
    "nuevo = np.ones(15)\n",
    "print(nuevo)\n",
    "nuevo.dtype"
   ]
  },
  {
   "cell_type": "code",
   "execution_count": 17,
   "id": "b70bd3b4-c893-408d-b503-b00156182845",
   "metadata": {},
   "outputs": [
    {
     "name": "stdout",
     "output_type": "stream",
     "text": [
      "[ 7.3 10.1  8.2  5.8  8.2  5.4  6.5  5.2  7.9  4.3  5.5  6.6  6.4  7.8\n",
      "  6.1]\n"
     ]
    }
   ],
   "source": [
    "# 1.2,. Suma ambos arrays de forma vectorizada y guarda el resultado en array \"suma\". Imprime el resultado.\n",
    "suma = nota_mat + nuevo\n",
    "print(suma)"
   ]
  },
  {
   "cell_type": "code",
   "execution_count": 20,
   "id": "f3b68e63-021b-4147-98fd-8dbc8fb3985e",
   "metadata": {},
   "outputs": [
    {
     "name": "stdout",
     "output_type": "stream",
     "text": [
      "[21.9, 30.299999999999997, 24.599999999999998, 17.4, 24.599999999999998, 16.200000000000003, 19.5, 15.600000000000001, 23.700000000000003, 12.899999999999999, 16.5, 19.799999999999997, 19.200000000000003, 23.4, 18.299999999999997]\n"
     ]
    }
   ],
   "source": [
    "# 1.3.- Multiplica suma*3 y guarda el resultado en \"multiplica\". Imprime el resultado.\n",
    "multiplica = [n * 3 for n in suma]\n",
    "print(multiplica)"
   ]
  },
  {
   "cell_type": "code",
   "execution_count": 21,
   "id": "34d37cab-9625-42b2-9cb0-3f7c283f2ca9",
   "metadata": {},
   "outputs": [
    {
     "name": "stdout",
     "output_type": "stream",
     "text": [
      "[4.679743582719036, 5.504543577809153, 4.959838707054898, 4.171330722922842, 4.959838707054898, 4.024922359499622, 4.415880433163924, 3.9496835316263, 4.868264577855235, 3.591656999213594, 4.06201920231798, 4.449719092257397, 4.3817804600413295, 4.8373546489791295, 4.277849927241487]\n"
     ]
    }
   ],
   "source": [
    "# 1.4.- Calcula la raiz cuadrada de cada elemento de \"multiplica\" y guarda en \"raiz\". Imprime el resultado.\n",
    "raiz = [n ** 0.5 for n in multiplica]\n",
    "print(raiz)"
   ]
  },
  {
   "cell_type": "code",
   "execution_count": 22,
   "id": "39e0c5fd-e54b-4947-936e-88175adf4f99",
   "metadata": {},
   "outputs": [
    {
     "name": "stdout",
     "output_type": "stream",
     "text": [
      "[5, 6, 5, 4, 5, 4, 4, 4, 5, 4, 4, 4, 4, 5, 4]\n"
     ]
    }
   ],
   "source": [
    "# 1.5.- Redondea cada elemento de \"raiz\" al entero más cercano y guardalo en \"resultado\". Imprime el resultado.\n",
    "resultado = [int(round(n)) for n in raiz]\n",
    "print(resultado)"
   ]
  },
  {
   "cell_type": "code",
   "execution_count": 72,
   "id": "65e4f194-e5fb-40a4-8421-1155d02244e9",
   "metadata": {},
   "outputs": [
    {
     "name": "stdout",
     "output_type": "stream",
     "text": [
      "Alumno: Marta 4.8\n",
      "Alumno: Carlos 4.4\n",
      "Alumno: Carmen 4.2\n",
      "Alumno: Jorge 3.3\n",
      "Alumno: Jose 4.5\n"
     ]
    }
   ],
   "source": [
    "# 2.1.- Muestra el nombre de los alumnos que han suspendido matemáticas.\n",
    "m = nota_mat < 5\n",
    "k = -1\n",
    "\n",
    "for n in m:\n",
    "    k = k + 1\n",
    "\n",
    "    if n == True:\n",
    "        print(f\"Alumno: {alumnos[k]} {nota_mat[k]}\")"
   ]
  },
  {
   "cell_type": "code",
   "execution_count": 73,
   "id": "3b5da577-0465-4808-b024-30db35e79666",
   "metadata": {},
   "outputs": [
    {
     "name": "stdout",
     "output_type": "stream",
     "text": [
      "Media: 5.753333333333333\n",
      "Alumno: Juan 6.3\n",
      "Alumno: Noelia 9.1\n",
      "Alumno: Pedro 7.2\n",
      "Alumno: Antonio 7.2\n",
      "Alumno: Manuel 6.9\n",
      "Alumno: Rubén 6.8\n"
     ]
    }
   ],
   "source": [
    "# 2.2.- Muestra el nombre de los alumnos que han sacado, en matemáticas, mayor nota que la media de matemáticas\n",
    "mean = np.mean(nota_mat)\n",
    "print(\"Media:\", mean)\n",
    "\n",
    "m = nota_mat > mean\n",
    "k = -1\n",
    "\n",
    "for n in m:\n",
    "    k = k + 1\n",
    "\n",
    "    if n == True:\n",
    "        print(f\"Alumno: {alumnos[k]} {nota_mat[k]}\")"
   ]
  },
  {
   "cell_type": "code",
   "execution_count": 87,
   "id": "f33f28a0-9ee5-46eb-b655-0a632b392c0b",
   "metadata": {},
   "outputs": [
    {
     "name": "stdout",
     "output_type": "stream",
     "text": [
      "Alumno: Noelia\n",
      "Alumno: Pedro\n",
      "Alumno: Antonio\n",
      "Alumno: Patricia\n",
      "Alumno: María\n",
      "Alumno: Bárbara\n"
     ]
    }
   ],
   "source": [
    "# 2.3.- Muestra el nombre de los alumnos que han sacado mayor nota en mates que en lengua\n",
    "resultados = nota_mat > nota_len\n",
    "k = -1\n",
    "\n",
    "for n in resultados:\n",
    "    k = k + 1\n",
    "\n",
    "    if n == True:\n",
    "        print(f\"Alumno: {alumnos[k]}\")"
   ]
  },
  {
   "cell_type": "code",
   "execution_count": 113,
   "id": "6c35b412-7631-4130-ae31-ad82a5325a92",
   "metadata": {},
   "outputs": [
    {
     "name": "stdout",
     "output_type": "stream",
     "text": [
      "Alumnos suspensos mates: Marta 4.8\n",
      "Alumnos suspensos mates: Carlos 4.4\n",
      "Alumnos suspensos mates: Carmen 4.2\n",
      "Alumnos suspensos mates: Jorge 3.3\n",
      "Alumnos suspensos mates: Jose 4.5\n",
      "------------------\n",
      "Alumnos suspensos lengua: Carmen 4.8\n",
      "Alumnos suspensos lengua: Jorge 4.8\n",
      "------------------\n",
      "Suspensos ambas asignaturas: ['Carmen' 'Jorge']\n"
     ]
    }
   ],
   "source": [
    "# 2.4.- Muestra el nombre de los alumnos que han suspendido matemáticas y lengua\n",
    "suspensos_mates = []\n",
    "suspensos_lengu = []\n",
    "\n",
    "m = nota_mat < 5\n",
    "k = -1\n",
    "\n",
    "for n in m:\n",
    "    k = k + 1\n",
    "\n",
    "    if n == True:\n",
    "        print(f\"Alumnos suspensos mates: {alumnos[k]} {nota_mat[k]}\")\n",
    "        suspensos_mates = np.append(suspensos_mates, alumnos[k])\n",
    "\n",
    "print(\"------------------\")\n",
    "\n",
    "mm = nota_len < 5\n",
    "l = -1\n",
    "\n",
    "for o in mm:\n",
    "    l = l + 1\n",
    "\n",
    "    if o == True:\n",
    "        print(f\"Alumnos suspensos lengua: {alumnos[l]} {nota_len[l]}\")\n",
    "        suspensos_lengu = np.append(suspensos_lengu, alumnos[l])\n",
    "\n",
    "suspensos = np.intersect1d(suspensos_lengu, suspensos_mates)\n",
    "\n",
    "print(\"------------------\")\n",
    "\n",
    "print(f\"Suspensos ambas asignaturas: {suspensos}\")"
   ]
  },
  {
   "cell_type": "code",
   "execution_count": 114,
   "id": "5e3ab3af-9f89-4964-aeec-db2683371178",
   "metadata": {},
   "outputs": [
    {
     "name": "stdout",
     "output_type": "stream",
     "text": [
      "Alumnos suspensos: Marta 4.8\n",
      "Alumnos suspensos: Carlos 4.4\n",
      "Alumnos suspensos: Carmen 4.2\n",
      "Alumnos suspensos: Jorge 3.3\n",
      "Alumnos suspensos: Jose 4.5\n",
      "------------------\n",
      "Alumnos aprobados: Juan 6.3\n",
      "Alumnos aprobados: Noelia 9.1\n",
      "Alumnos aprobados: Pedro 7.2\n",
      "Alumnos aprobados: Antonio 7.2\n",
      "Alumnos aprobados: Patricia 5.5\n",
      "Alumnos aprobados: Manuel 6.9\n",
      "Alumnos aprobados: Sara 5.6\n",
      "Alumnos aprobados: María 5.4\n",
      "Alumnos aprobados: Rubén 6.8\n",
      "Alumnos aprobados: Bárbara 5.1\n"
     ]
    }
   ],
   "source": [
    "# 3.1.- Muestra cuantos alumnos han aprobado y cuantos han suspendido en matemáticas (se aprueba con 5 o más)\n",
    "m = nota_mat < 5\n",
    "k = -1\n",
    "\n",
    "for n in m:\n",
    "    k = k + 1\n",
    "\n",
    "    if n == True:\n",
    "        print(f\"Alumnos suspensos: {alumnos[k]} {nota_mat[k]}\")\n",
    "\n",
    "print(\"------------------\")\n",
    "\n",
    "mm = nota_mat > 5\n",
    "l = -1\n",
    "\n",
    "for n in mm:\n",
    "    l = l + 1\n",
    "\n",
    "    if n == True:\n",
    "        print(f\"Alumnos aprobados: {alumnos[l]} {nota_mat[l]}\")"
   ]
  },
  {
   "cell_type": "code",
   "execution_count": 131,
   "id": "606218ff-efd6-4fdb-8f8f-3560c38c5cac",
   "metadata": {},
   "outputs": [
    {
     "name": "stdout",
     "output_type": "stream",
     "text": [
      "['Carmen' 'Jorge'] 4.8\n"
     ]
    }
   ],
   "source": [
    "# 3.2.- Muestra el nombre del alumno que ha sacado menor nota en lengua\n",
    "a = nota_len.min()\n",
    "min = np.nonzero(nota_len == nota_len.min())\n",
    "\n",
    "print(alumnos[min], a)"
   ]
  },
  {
   "cell_type": "code",
   "execution_count": 138,
   "id": "23acee43-cfdd-47cc-a00e-bfdf1139f5bd",
   "metadata": {},
   "outputs": [
    {
     "name": "stdout",
     "output_type": "stream",
     "text": [
      "['Noelia'] 8.7\n",
      "['Noelia'] 9.1\n",
      "\n",
      "Matematicas es la mas alta almunno/a ['Noelia'] nota 9.1\n"
     ]
    }
   ],
   "source": [
    "# 3.3.- Muestra el nombre del alumno que ha sacado la nota más alta de todas entre matemáticas y lengua\n",
    "a = nota_len.max()\n",
    "b = nota_mat.max()\n",
    "len_max = np.nonzero(nota_len == nota_len.max())\n",
    "mat_max = np.nonzero(nota_mat == nota_mat.max())\n",
    "\n",
    "print(alumnos[len_max], a)\n",
    "print(alumnos[mat_max], b)\n",
    "print(\"\")\n",
    "\n",
    "if a > b:\n",
    "    print(f\"Lengua es la mas alta alumno/a {alumnos[len_max]} nota {a}\")\n",
    "elif b > a:\n",
    "    print(f\"Matemáticas es la mas alta almunno/a {alumnos[mat_max]} nota {b}\")"
   ]
  },
  {
   "cell_type": "code",
   "execution_count": 142,
   "id": "fd98a144-2bec-48ad-8c0a-ad724fec7121",
   "metadata": {},
   "outputs": [
    {
     "name": "stdout",
     "output_type": "stream",
     "text": [
      "Notas de matemáticas: [6.3 9.1 7.2 4.8 7.2 4.4 5.5 4.2 6.9 3.3 4.5 5.6 5.4 6.8 5.1]\n",
      "Notas de lengua: [7.1 8.7 6.5 7.5 5.6 6.2 5.4 4.8 8.6 4.8 6.4 5.6 5.1 8.4 5. ]\n",
      "\n",
      "Resultados por alumno: ['lengua' 'mates' 'mates' 'lengua' 'mates' 'lengua' 'mates' 'lengua'\n",
      " 'lengua' 'lengua' 'lengua' 'empate' 'mates' 'lengua' 'mates']\n",
      "\n",
      "['Juan: lengua' 'Noelia: mates' 'Pedro: mates' 'Marta: lengua'\n",
      " 'Antonio: mates' 'Carlos: lengua' 'Patricia: mates' 'Carmen: lengua'\n",
      " 'Manuel: lengua' 'Jorge: lengua' 'Jose: lengua' 'Sara: empate'\n",
      " 'María: mates' 'Rubén: lengua' 'Bárbara: mates']\n"
     ]
    }
   ],
   "source": [
    "# 3.4.- Genera un ndarray de strings, indicando en cada valor \"mates\" o \"lengua\". El array debe indicar, por cada alumno, \n",
    "# la asignatura donde cada alumno saca mayor nota entre mates y lengua. Posteriormente, imprime el ndarray generado\n",
    "resultados = np.where(nota_mat > nota_len, \"mates\", \n",
    "              np.where(nota_mat < nota_len, \"lengua\", \"empate\"))\n",
    "\n",
    "print(\"Notas de matemáticas:\", nota_mat)\n",
    "print(\"Notas de lengua:\", nota_len)\n",
    "print(\"\")\n",
    "print(\"Resultados por alumno:\", resultados)\n",
    "print(\"\")\n",
    "\n",
    "# Si además queremos mostrar el nombre del alumno\n",
    "resultados_finales = np.core.defchararray.add(np.core.defchararray.add(alumnos, \": \"), resultados)\n",
    "print(resultados_finales)"
   ]
  },
  {
   "cell_type": "code",
   "execution_count": 160,
   "id": "8f6e2be6-7ff8-467b-97fe-4c90ea208f11",
   "metadata": {},
   "outputs": [
    {
     "name": "stdout",
     "output_type": "stream",
     "text": [
      "Suma: [20.8 27.5 21.5 17.7 21.2 13.8 16.7 15.4 22.8 11.6 14.3 16.8 16.7 22.3\n",
      " 15.3]\n",
      "Media: [6.93 9.17 7.17 5.9  7.07 4.6  5.57 5.13 7.6  3.87 4.77 5.6  5.57 7.43\n",
      " 5.1 ]\n"
     ]
    }
   ],
   "source": [
    "# 3.5.- Genera un ndarray que guarde la nota media de las tres asignaturas. Posteriormente, imprímelo\n",
    "suma  = nota_mat + nota_len + nota_fis\n",
    "media = suma / 3; media_rounded = np.round(media, 2)\n",
    "\n",
    "print(\"Suma:\", suma)\n",
    "print(\"Media:\", media_rounded)"
   ]
  },
  {
   "cell_type": "code",
   "execution_count": 186,
   "id": "f6767d3d-637a-4504-876a-00d6cdf6a2eb",
   "metadata": {},
   "outputs": [
    {
     "data": {
      "image/png": "[encoded data removed]",
      "text/plain": [
       "<Figure size 640x480 with 1 Axes>"
      ]
     },
     "metadata": {},
     "output_type": "display_data"
    },
    {
     "data": {
      "image/png": "[encoded data removed]",
      "text/plain": [
       "<Figure size 640x480 with 1 Axes>"
      ]
     },
     "metadata": {},
     "output_type": "display_data"
    },
    {
     "data": {
      "image/png": "[encoded data removed]",
      "text/plain": [
       "<Figure size 640x480 with 1 Axes>"
      ]
     },
     "metadata": {},
     "output_type": "display_data"
    },
    {
     "data": {
      "image/png": "[encoded data removed]",
      "text/plain": [
       "<Figure size 640x480 with 1 Axes>"
      ]
     },
     "metadata": {},
     "output_type": "display_data"
    }
   ],
   "source": [
    "# 4.- Genera una figura con 4 gráficas:\n",
    "#    1.Histograma con las notas medias\n",
    "#    2.Nube de puntos notas de matemáticas con notas de lengua\n",
    "#    3.Nube de puntos notas de matemáticas con notas de física\n",
    "#    4.Nube de puntos notas de física con notas de lengua\n",
    "#\n",
    "# 1.- Notas medias\n",
    "data = media_rounded \n",
    "plt.hist(data, bins=20, color='skyblue', edgecolor='black', alpha=0.7)\n",
    "plt.xlabel('Valores X')\n",
    "plt.ylabel('Valores Y')\n",
    "plt.title('Histograma de datos')\n",
    "plt.show()\n",
    "\n",
    "# 2.- Mates y lengua\n",
    "plt.scatter(nota_mat, nota_len, c='blue', alpha=0.7, edgecolors='k')\n",
    "plt.xlabel('Eje X - Mates')\n",
    "plt.ylabel('Eje Y - Lengua')\n",
    "plt.title('Nube de puntos 1')\n",
    "plt.show()\n",
    "\n",
    "# 3.- Mates y física\n",
    "plt.scatter(nota_mat, nota_fis, c='red', alpha=0.7, edgecolors='k')\n",
    "plt.xlabel('Eje X - Mates')\n",
    "plt.ylabel('Eje Y - Fisica')\n",
    "plt.title('Nube de puntos 2')\n",
    "plt.show()\n",
    "\n",
    "# 4.- Fisica y lengua\n",
    "plt.scatter(nota_len, nota_fis, c='Yellow', alpha=0.7, edgecolors='k')\n",
    "plt.xlabel('Eje X - Lengua')\n",
    "plt.ylabel('Eje Y - Fisica')\n",
    "plt.title('Nube de puntos 2')\n",
    "plt.show()"
   ]
  },
  {
   "cell_type": "code",
   "execution_count": null,
   "id": "3405362c-e075-40c6-b71e-923edd08560d",
   "metadata": {},
   "outputs": [],
   "source": []
  }
 ],
 "metadata": {
  "kernelspec": {
   "display_name": "Python 3 (ipykernel)",
   "language": "python",
   "name": "python3"
  },
  "language_info": {
   "codemirror_mode": {
    "name": "ipython",
    "version": 3
   },
   "file_extension": ".py",
   "mimetype": "text/x-python",
   "name": "python",
   "nbconvert_exporter": "python",
   "pygments_lexer": "ipython3",
   "version": "3.11.4"
  }
 },
 "nbformat": 4,
 "nbformat_minor": 5
}
