{
 "cells": [
  {
   "cell_type": "code",
   "execution_count": 1,
   "id": "03d6dc7a-bb4d-45cd-bdd7-916918f83a26",
   "metadata": {},
   "outputs": [],
   "source": [
    "import pandas as pd\n",
    "\n",
    "###############\n",
    "# EJERCICIO 1 #\n",
    "###############\n",
    "\n",
    "# Ruta del archivo csv\n",
    "archivo_csv = 'C:\\\\Repo\\\\CE-Python\\\\Analisis de datos\\\\T2\\\\Ejercicios\\\\ventas_utf8.csv'\n",
    "\n",
    "# Abrimos el csv para lectura\n",
    "df = pd.read_csv(archivo_csv , encoding='utf-8')\n",
    "\n",
    "# Mostramos las 5 primeras filas\n",
    "primeras_filas = df.head()"
   ]
  },
  {
   "cell_type": "code",
   "execution_count": 2,
   "id": "b1bff4dd-426c-4df9-8274-b3657a943d94",
   "metadata": {},
   "outputs": [],
   "source": [
    "# Sumamos los valores nulos que hay en cada columna\n",
    "valores_nulos = df.isnull().sum()"
   ]
  },
  {
   "cell_type": "code",
   "execution_count": 3,
   "id": "d2d98332-4cc2-46b5-b45d-5ca9ea0fb3d7",
   "metadata": {},
   "outputs": [
    {
     "data": {
      "text/plain": [
       "(        Fecha    Producto  Cantidad  Precio_Unitario   Total     Ciudad  \\\n",
       " 0  2023-01-15    Portátil       2.0              800  1600.0     Madrid   \n",
       " 1  2023-01-16      Tablet       1.0              300   300.0  Barcelona   \n",
       " 2  2023-01-17  Smartphone      -3.0              500 -1500.0   Valencia   \n",
       " 3  2023-01-18     Monitor       5.0              200  1000.0     Madrid   \n",
       " 4  2023-01-19     Teclado       NaN               50     NaN    Sevilla   \n",
       " \n",
       "    Descuento  \n",
       " 0       0.10  \n",
       " 1        NaN  \n",
       " 2       0.20  \n",
       " 3       0.05  \n",
       " 4       0.00  ,\n",
       " Fecha              0\n",
       " Producto           0\n",
       " Cantidad           2\n",
       " Precio_Unitario    0\n",
       " Total              2\n",
       " Ciudad             2\n",
       " Descuento          2\n",
       " dtype: int64)"
      ]
     },
     "execution_count": 3,
     "metadata": {},
     "output_type": "execute_result"
    }
   ],
   "source": [
    "# Imprimimos la cabecera y el valor de nulos\n",
    "primeras_filas, valores_nulos"
   ]
  },
  {
   "cell_type": "code",
   "execution_count": 4,
   "id": "cb6b4e19-b022-40d3-a833-b0bc39bec1ab",
   "metadata": {},
   "outputs": [
    {
     "name": "stdout",
     "output_type": "stream",
     "text": [
      "\n"
     ]
    }
   ],
   "source": [
    "print(\"\")\n",
    "# Eliminar filas donde la columna \"Ciudad\" sea nula\n",
    "df_limpio = df.dropna(subset=[\"Ciudad\"])\n",
    "\n",
    "# Eliminar filas donde la columna \"Ciudad\" sea nula\n",
    "df_limpio = df.dropna(subset=[\"Ciudad\"]).copy()\n",
    "\n",
    "# Rellenar valores nulos en la columna \"Descuento\" con 0\n",
    "df_limpio.loc[:, \"Descuento\"] = df_limpio[\"Descuento\"].fillna(0)\n",
    "\n",
    "# Reemplazar valores negativos en \"Cantidad\" y \"Total\" por sus valores absolutos\n",
    "df_limpio.loc[:, \"Cantidad\"] = df_limpio[\"Cantidad\"].abs()\n",
    "df_limpio.loc[:, \"Total\"] = df_limpio[\"Total\"].abs()"
   ]
  },
  {
   "cell_type": "code",
   "execution_count": 5,
   "id": "b061d2a1-55f6-4033-a744-bcf6194b172c",
   "metadata": {},
   "outputs": [
    {
     "data": {
      "text/html": [
       "<div>\n",
       "<style scoped>\n",
       "    .dataframe tbody tr th:only-of-type {\n",
       "        vertical-align: middle;\n",
       "    }\n",
       "\n",
       "    .dataframe tbody tr th {\n",
       "        vertical-align: top;\n",
       "    }\n",
       "\n",
       "    .dataframe thead th {\n",
       "        text-align: right;\n",
       "    }\n",
       "</style>\n",
       "<table border=\"1\" class=\"dataframe\">\n",
       "  <thead>\n",
       "    <tr style=\"text-align: right;\">\n",
       "      <th></th>\n",
       "      <th>Fecha</th>\n",
       "      <th>Producto</th>\n",
       "      <th>Cantidad</th>\n",
       "      <th>Precio_Unitario</th>\n",
       "      <th>Total</th>\n",
       "      <th>Ciudad</th>\n",
       "      <th>Descuento</th>\n",
       "    </tr>\n",
       "  </thead>\n",
       "  <tbody>\n",
       "    <tr>\n",
       "      <th>0</th>\n",
       "      <td>2023-01-15</td>\n",
       "      <td>Portátil</td>\n",
       "      <td>2.0</td>\n",
       "      <td>800</td>\n",
       "      <td>1600.0</td>\n",
       "      <td>Madrid</td>\n",
       "      <td>0.10</td>\n",
       "    </tr>\n",
       "    <tr>\n",
       "      <th>1</th>\n",
       "      <td>2023-01-16</td>\n",
       "      <td>Tablet</td>\n",
       "      <td>1.0</td>\n",
       "      <td>300</td>\n",
       "      <td>300.0</td>\n",
       "      <td>Barcelona</td>\n",
       "      <td>0.00</td>\n",
       "    </tr>\n",
       "    <tr>\n",
       "      <th>2</th>\n",
       "      <td>2023-01-17</td>\n",
       "      <td>Smartphone</td>\n",
       "      <td>3.0</td>\n",
       "      <td>500</td>\n",
       "      <td>1500.0</td>\n",
       "      <td>Valencia</td>\n",
       "      <td>0.20</td>\n",
       "    </tr>\n",
       "    <tr>\n",
       "      <th>3</th>\n",
       "      <td>2023-01-18</td>\n",
       "      <td>Monitor</td>\n",
       "      <td>5.0</td>\n",
       "      <td>200</td>\n",
       "      <td>1000.0</td>\n",
       "      <td>Madrid</td>\n",
       "      <td>0.05</td>\n",
       "    </tr>\n",
       "    <tr>\n",
       "      <th>4</th>\n",
       "      <td>2023-01-19</td>\n",
       "      <td>Teclado</td>\n",
       "      <td>NaN</td>\n",
       "      <td>50</td>\n",
       "      <td>NaN</td>\n",
       "      <td>Sevilla</td>\n",
       "      <td>0.00</td>\n",
       "    </tr>\n",
       "  </tbody>\n",
       "</table>\n",
       "</div>"
      ],
      "text/plain": [
       "        Fecha    Producto  Cantidad  Precio_Unitario   Total     Ciudad  \\\n",
       "0  2023-01-15    Portátil       2.0              800  1600.0     Madrid   \n",
       "1  2023-01-16      Tablet       1.0              300   300.0  Barcelona   \n",
       "2  2023-01-17  Smartphone       3.0              500  1500.0   Valencia   \n",
       "3  2023-01-18     Monitor       5.0              200  1000.0     Madrid   \n",
       "4  2023-01-19     Teclado       NaN               50     NaN    Sevilla   \n",
       "\n",
       "   Descuento  \n",
       "0       0.10  \n",
       "1       0.00  \n",
       "2       0.20  \n",
       "3       0.05  \n",
       "4       0.00  "
      ]
     },
     "execution_count": 5,
     "metadata": {},
     "output_type": "execute_result"
    }
   ],
   "source": [
    "df_limpio.head()"
   ]
  },
  {
   "cell_type": "code",
   "execution_count": 6,
   "id": "7206933a-63b9-42bd-b2d8-b363d84c2e36",
   "metadata": {},
   "outputs": [],
   "source": [
    "# a. Crear una nueva columna llamada Precio_Final\n",
    "df_limpio[\"Precio_Final\"] = df_limpio[\"Total\"] * (1 - df_limpio[\"Descuento\"])\n",
    "\n",
    "# b. Convertir la columna Fecha al tipo datetime\n",
    "df_limpio[\"Fecha\"] = pd.to_datetime(df_limpio[\"Fecha\"])"
   ]
  },
  {
   "cell_type": "code",
   "execution_count": 7,
   "id": "7cb1dfb5-1180-4d7f-8ea2-5f32948eafba",
   "metadata": {},
   "outputs": [
    {
     "data": {
      "text/html": [
       "<div>\n",
       "<style scoped>\n",
       "    .dataframe tbody tr th:only-of-type {\n",
       "        vertical-align: middle;\n",
       "    }\n",
       "\n",
       "    .dataframe tbody tr th {\n",
       "        vertical-align: top;\n",
       "    }\n",
       "\n",
       "    .dataframe thead th {\n",
       "        text-align: right;\n",
       "    }\n",
       "</style>\n",
       "<table border=\"1\" class=\"dataframe\">\n",
       "  <thead>\n",
       "    <tr style=\"text-align: right;\">\n",
       "      <th></th>\n",
       "      <th>Fecha</th>\n",
       "      <th>Producto</th>\n",
       "      <th>Cantidad</th>\n",
       "      <th>Precio_Unitario</th>\n",
       "      <th>Total</th>\n",
       "      <th>Ciudad</th>\n",
       "      <th>Descuento</th>\n",
       "      <th>Precio_Final</th>\n",
       "    </tr>\n",
       "  </thead>\n",
       "  <tbody>\n",
       "    <tr>\n",
       "      <th>0</th>\n",
       "      <td>2023-01-15</td>\n",
       "      <td>Portátil</td>\n",
       "      <td>2.0</td>\n",
       "      <td>800</td>\n",
       "      <td>1600.0</td>\n",
       "      <td>Madrid</td>\n",
       "      <td>0.10</td>\n",
       "      <td>1440.0</td>\n",
       "    </tr>\n",
       "    <tr>\n",
       "      <th>1</th>\n",
       "      <td>2023-01-16</td>\n",
       "      <td>Tablet</td>\n",
       "      <td>1.0</td>\n",
       "      <td>300</td>\n",
       "      <td>300.0</td>\n",
       "      <td>Barcelona</td>\n",
       "      <td>0.00</td>\n",
       "      <td>300.0</td>\n",
       "    </tr>\n",
       "    <tr>\n",
       "      <th>2</th>\n",
       "      <td>2023-01-17</td>\n",
       "      <td>Smartphone</td>\n",
       "      <td>3.0</td>\n",
       "      <td>500</td>\n",
       "      <td>1500.0</td>\n",
       "      <td>Valencia</td>\n",
       "      <td>0.20</td>\n",
       "      <td>1200.0</td>\n",
       "    </tr>\n",
       "    <tr>\n",
       "      <th>3</th>\n",
       "      <td>2023-01-18</td>\n",
       "      <td>Monitor</td>\n",
       "      <td>5.0</td>\n",
       "      <td>200</td>\n",
       "      <td>1000.0</td>\n",
       "      <td>Madrid</td>\n",
       "      <td>0.05</td>\n",
       "      <td>950.0</td>\n",
       "    </tr>\n",
       "    <tr>\n",
       "      <th>4</th>\n",
       "      <td>2023-01-19</td>\n",
       "      <td>Teclado</td>\n",
       "      <td>NaN</td>\n",
       "      <td>50</td>\n",
       "      <td>NaN</td>\n",
       "      <td>Sevilla</td>\n",
       "      <td>0.00</td>\n",
       "      <td>NaN</td>\n",
       "    </tr>\n",
       "  </tbody>\n",
       "</table>\n",
       "</div>"
      ],
      "text/plain": [
       "       Fecha    Producto  Cantidad  Precio_Unitario   Total     Ciudad  \\\n",
       "0 2023-01-15    Portátil       2.0              800  1600.0     Madrid   \n",
       "1 2023-01-16      Tablet       1.0              300   300.0  Barcelona   \n",
       "2 2023-01-17  Smartphone       3.0              500  1500.0   Valencia   \n",
       "3 2023-01-18     Monitor       5.0              200  1000.0     Madrid   \n",
       "4 2023-01-19     Teclado       NaN               50     NaN    Sevilla   \n",
       "\n",
       "   Descuento  Precio_Final  \n",
       "0       0.10        1440.0  \n",
       "1       0.00         300.0  \n",
       "2       0.20        1200.0  \n",
       "3       0.05         950.0  \n",
       "4       0.00           NaN  "
      ]
     },
     "execution_count": 7,
     "metadata": {},
     "output_type": "execute_result"
    }
   ],
   "source": [
    "df_limpio.head()"
   ]
  },
  {
   "cell_type": "code",
   "execution_count": 8,
   "id": "9ff69d19-e223-4ff2-9a62-1d615c67e6f9",
   "metadata": {},
   "outputs": [
    {
     "name": "stdout",
     "output_type": "stream",
     "text": [
      "Promedio de Precio_Final en Madrid: 872.9166666666666\n"
     ]
    }
   ],
   "source": [
    "ventas_madrid = df_limpio[df_limpio[\"Ciudad\"] == \"Madrid\"]\n",
    "promedio_precio_madrid = ventas_madrid[\"Precio_Final\"].mean()\n",
    "print(\"Promedio de Precio_Final en Madrid:\", promedio_precio_madrid)"
   ]
  },
  {
   "cell_type": "code",
   "execution_count": 9,
   "id": "888521a7-86cb-486c-aa8d-687ab78b8095",
   "metadata": {},
   "outputs": [
    {
     "name": "stdout",
     "output_type": "stream",
     "text": [
      "Producto\n",
      "Auriculares     4.0\n",
      "Impresora       3.0\n",
      "Monitor         6.0\n",
      "Portátil        5.0\n",
      "Ratón          25.0\n",
      "Smartphone      8.0\n",
      "Tablet          3.0\n",
      "Teclado         8.0\n",
      "Name: Cantidad, dtype: float64\n"
     ]
    }
   ],
   "source": [
    "cantidad_por_producto = df_limpio.groupby(\"Producto\")[\"Cantidad\"].sum()\n",
    "print(cantidad_por_producto)"
   ]
  },
  {
   "cell_type": "code",
   "execution_count": 10,
   "id": "5c639001-7045-410f-a9f2-73e23fd36998",
   "metadata": {},
   "outputs": [
    {
     "name": "stdout",
     "output_type": "stream",
     "text": [
      "        Fecha    Producto  Cantidad  Precio_Unitario   Total    Ciudad  \\\n",
      "10 2023-01-25  Smartphone       5.0              600  3000.0  Valencia   \n",
      "\n",
      "    Descuento  Precio_Final  \n",
      "10        0.1        2700.0  \n"
     ]
    }
   ],
   "source": [
    "Q1 = df_limpio[\"Total\"].quantile(0.25)\n",
    "Q3 = df_limpio[\"Total\"].quantile(0.75)\n",
    "IQR = Q3 - Q1\n",
    "\n",
    "# Limites para detectar outliers\n",
    "limite_inferior = Q1 - 1.5 * IQR\n",
    "limite_superior = Q3 + 1.5 * IQR\n",
    "\n",
    "# Filtrar filas atípicas\n",
    "outliers_total = df_limpio[(df_limpio[\"Total\"] < limite_inferior) | (df_limpio[\"Total\"] > limite_superior)]\n",
    "print(outliers_total)"
   ]
  },
  {
   "cell_type": "code",
   "execution_count": 11,
   "id": "c310ceab-fb8f-4263-9af4-2187274a5649",
   "metadata": {},
   "outputs": [],
   "source": [
    "df_limpio.to_csv(\"C:\\\\Repo\\\\CE-Python\\\\Analisis de datos\\\\T2\\\\Ejercicios\\\\ventas_limpias_Juan_Jose_Baeza_Lopez.csv\", index=False)"
   ]
  },
  {
   "cell_type": "code",
   "execution_count": 12,
   "id": "fdcbfa8f-c20a-4c06-a081-004c4d2633be",
   "metadata": {},
   "outputs": [],
   "source": [
    "###############\n",
    "# EJERCICIO 2 #\n",
    "###############"
   ]
  },
  {
   "cell_type": "code",
   "execution_count": 13,
   "id": "07b6aa73-a430-4697-afa1-183f26043ec5",
   "metadata": {},
   "outputs": [
    {
     "name": "stdout",
     "output_type": "stream",
     "text": [
      "            Nombre  Edad     Género         Carrera  Calificación_Curso  \\\n",
      "0        Ana López    22   Femenino      Ingeniería                 8.5   \n",
      "1      Carlos Ruiz    28  Masculino        Medicina                 6.0   \n",
      "2       Marta Díaz    19   Femenino         Derecho                 NaN   \n",
      "3        Ana López    22   Femenino      Ingeniería                 8.5   \n",
      "4     Jorge Méndez    40  Masculino  Administración                 4.5   \n",
      "5    Miguel Suarez    31  Masculino  Administración                 7.5   \n",
      "6  Ángeles Campeón    26   Femenino      Ingeniería                10.0   \n",
      "7      Luisa Pérez    34   Femenino        Medicina                 6.6   \n",
      "\n",
      "   Satisfacción  \n",
      "0             4  \n",
      "1             5  \n",
      "2             3  \n",
      "3             4  \n",
      "4             2  \n",
      "5             3  \n",
      "6             5  \n",
      "7             3  \n"
     ]
    }
   ],
   "source": [
    "import json\n",
    "\n",
    "with open('C:\\\\Repo\\\\CE-Python\\\\Analisis de datos\\\\T2\\\\Ejercicios\\\\encuestas.json', 'r', encoding='utf-8') as f:\n",
    "    data = json.load(f)\n",
    "\n",
    "# Convertir la lista bajo 'datos' a un DataFrame\n",
    "df = pd.DataFrame(data['datos'])\n",
    "\n",
    "print(df)\n",
    "\n",
    "# Eliminar duplicados basándonos en la columna 'Nombre'\n",
    "df = df.drop_duplicates(subset='Nombre')\n",
    "\n",
    "# Rellenar valores nulos en 'Calificación_Curso' con la mediana\n",
    "mediana = df['Calificación_Curso'].median()\n",
    "df['Calificación_Curso'] = df['Calificación_Curso'].fillna(mediana)"
   ]
  },
  {
   "cell_type": "code",
   "execution_count": 14,
   "id": "1a03bd9e-4859-4dda-9dcd-461fbecc6490",
   "metadata": {},
   "outputs": [
    {
     "data": {
      "text/html": [
       "<div>\n",
       "<style scoped>\n",
       "    .dataframe tbody tr th:only-of-type {\n",
       "        vertical-align: middle;\n",
       "    }\n",
       "\n",
       "    .dataframe tbody tr th {\n",
       "        vertical-align: top;\n",
       "    }\n",
       "\n",
       "    .dataframe thead th {\n",
       "        text-align: right;\n",
       "    }\n",
       "</style>\n",
       "<table border=\"1\" class=\"dataframe\">\n",
       "  <thead>\n",
       "    <tr style=\"text-align: right;\">\n",
       "      <th></th>\n",
       "      <th>Nombre</th>\n",
       "      <th>Edad</th>\n",
       "      <th>Género</th>\n",
       "      <th>Carrera</th>\n",
       "      <th>Calificación_Curso</th>\n",
       "      <th>Satisfacción</th>\n",
       "    </tr>\n",
       "  </thead>\n",
       "  <tbody>\n",
       "    <tr>\n",
       "      <th>0</th>\n",
       "      <td>Ana López</td>\n",
       "      <td>22</td>\n",
       "      <td>Femenino</td>\n",
       "      <td>Ingeniería</td>\n",
       "      <td>8.50</td>\n",
       "      <td>4</td>\n",
       "    </tr>\n",
       "    <tr>\n",
       "      <th>1</th>\n",
       "      <td>Carlos Ruiz</td>\n",
       "      <td>28</td>\n",
       "      <td>Masculino</td>\n",
       "      <td>Medicina</td>\n",
       "      <td>6.00</td>\n",
       "      <td>5</td>\n",
       "    </tr>\n",
       "    <tr>\n",
       "      <th>2</th>\n",
       "      <td>Marta Díaz</td>\n",
       "      <td>19</td>\n",
       "      <td>Femenino</td>\n",
       "      <td>Derecho</td>\n",
       "      <td>7.05</td>\n",
       "      <td>3</td>\n",
       "    </tr>\n",
       "    <tr>\n",
       "      <th>4</th>\n",
       "      <td>Jorge Méndez</td>\n",
       "      <td>40</td>\n",
       "      <td>Masculino</td>\n",
       "      <td>Administración</td>\n",
       "      <td>4.50</td>\n",
       "      <td>2</td>\n",
       "    </tr>\n",
       "    <tr>\n",
       "      <th>5</th>\n",
       "      <td>Miguel Suarez</td>\n",
       "      <td>31</td>\n",
       "      <td>Masculino</td>\n",
       "      <td>Administración</td>\n",
       "      <td>7.50</td>\n",
       "      <td>3</td>\n",
       "    </tr>\n",
       "  </tbody>\n",
       "</table>\n",
       "</div>"
      ],
      "text/plain": [
       "          Nombre  Edad     Género         Carrera  Calificación_Curso  \\\n",
       "0      Ana López    22   Femenino      Ingeniería                8.50   \n",
       "1    Carlos Ruiz    28  Masculino        Medicina                6.00   \n",
       "2     Marta Díaz    19   Femenino         Derecho                7.05   \n",
       "4   Jorge Méndez    40  Masculino  Administración                4.50   \n",
       "5  Miguel Suarez    31  Masculino  Administración                7.50   \n",
       "\n",
       "   Satisfacción  \n",
       "0             4  \n",
       "1             5  \n",
       "2             3  \n",
       "4             2  \n",
       "5             3  "
      ]
     },
     "execution_count": 14,
     "metadata": {},
     "output_type": "execute_result"
    }
   ],
   "source": [
    "df.head()"
   ]
  },
  {
   "cell_type": "code",
   "execution_count": 15,
   "id": "7308353b-b6ca-400d-862f-c7a0bba851c4",
   "metadata": {},
   "outputs": [
    {
     "name": "stdout",
     "output_type": "stream",
     "text": [
      "            Nombre  Edad     Género         Carrera  Calificación_Curso  \\\n",
      "0        Ana López    22   Femenino      Ingeniería                8.50   \n",
      "1      Carlos Ruiz    28  Masculino        Medicina                6.00   \n",
      "2       Marta Díaz    19   Femenino         Derecho                7.05   \n",
      "4     Jorge Méndez    40  Masculino  Administración                4.50   \n",
      "5    Miguel Suarez    31  Masculino  Administración                7.50   \n",
      "6  Ángeles Campeón    26   Femenino      Ingeniería               10.00   \n",
      "7      Luisa Pérez    34   Femenino        Medicina                6.60   \n",
      "\n",
      "   Satisfacción  \n",
      "0             4  \n",
      "1             5  \n",
      "2             3  \n",
      "4             2  \n",
      "5             3  \n",
      "6             5  \n",
      "7             3  \n"
     ]
    }
   ],
   "source": [
    "print(df)"
   ]
  },
  {
   "cell_type": "code",
   "execution_count": 16,
   "id": "66263606-e2a7-4db4-a18c-73a4878fc005",
   "metadata": {},
   "outputs": [
    {
     "name": "stdout",
     "output_type": "stream",
     "text": [
      "   Edad Categoría_Edad  Calificación_Curso Rendimiento\n",
      "0    22          Joven                8.50        Alto\n",
      "1    28   Adulto Joven                6.00       Medio\n",
      "2    19          Joven                7.05        Alto\n",
      "4    40         Adulto                4.50        Bajo\n",
      "5    31   Adulto Joven                7.50        Alto\n",
      "6    26   Adulto Joven               10.00        Alto\n",
      "7    34   Adulto Joven                6.60       Medio\n"
     ]
    }
   ],
   "source": [
    "import numpy as np\n",
    "\n",
    "# Discretiza la columna Edad en categorías\n",
    "bins = [17, 25, 35, 60]\n",
    "labels = ['Joven', 'Adulto Joven', 'Adulto']\n",
    "df['Categoría_Edad'] = pd.cut(df['Edad'], bins=bins, labels=labels, right=True)\n",
    "\n",
    "# Crea la columna Rendimiento según Calificación_Curso\n",
    "conditions = [\n",
    "    df['Calificación_Curso'] < 5,\n",
    "    (df['Calificación_Curso'] >= 5) & (df['Calificación_Curso'] < 7),\n",
    "    df['Calificación_Curso'] >= 7\n",
    "]\n",
    "choices = ['Bajo', 'Medio', 'Alto']\n",
    "df['Rendimiento'] = np.select(conditions, choices)\n",
    "\n",
    "print(df[['Edad', 'Categoría_Edad', 'Calificación_Curso', 'Rendimiento']])"
   ]
  },
  {
   "cell_type": "code",
   "execution_count": 17,
   "id": "37a76432-b4e1-4118-8d3e-6d54d55967e2",
   "metadata": {},
   "outputs": [
    {
     "name": "stdout",
     "output_type": "stream",
     "text": [
      "          Carrera  Promedio_Satisfacción\n",
      "0      Ingeniería                    4.5\n",
      "1        Medicina                    4.0\n",
      "2         Derecho                    3.0\n",
      "3  Administración                    2.5\n",
      "\n",
      "   Satisfacción  Frecuencia\n",
      "0             3           2\n",
      "1             4           1\n",
      "2             5           1\n"
     ]
    }
   ],
   "source": [
    "# Promedio de Satisfacción por Carrera, ordenado de mayor a menor\n",
    "promedio_satisfaccion = df.groupby('Carrera')['Satisfacción'].mean().sort_values(ascending=False)\n",
    "promedio_satisfaccion = promedio_satisfaccion.reset_index() \n",
    "promedio_satisfaccion.columns = ['Carrera', 'Promedio_Satisfacción']\n",
    "\n",
    "print(promedio_satisfaccion)\n",
    "\n",
    "print(\"\")\n",
    "\n",
    "# Filtrar estudiantes con Rendimiento \"Alto\" y mostrar la frecuencia de Satisfacción\n",
    "frecuencia_satisfaccion_alto = df[df['Rendimiento'] == 'Alto']['Satisfacción'].value_counts().sort_index()\n",
    "frecuencia_satisfaccion_alto = frecuencia_satisfaccion_alto.reset_index() \n",
    "frecuencia_satisfaccion_alto.columns = ['Satisfacción', 'Frecuencia']\n",
    "\n",
    "print(frecuencia_satisfaccion_alto)"
   ]
  },
  {
   "cell_type": "code",
   "execution_count": null,
   "id": "337dbc38-77b3-487d-9d31-db09be88d0f7",
   "metadata": {},
   "outputs": [],
   "source": []
  },
  {
   "cell_type": "code",
   "execution_count": null,
   "id": "b52f626f-be1e-46d8-9688-b25cbd7497a7",
   "metadata": {},
   "outputs": [],
   "source": []
  }
 ],
 "metadata": {
  "kernelspec": {
   "display_name": "Python 3 (ipykernel)",
   "language": "python",
   "name": "python3"
  },
  "language_info": {
   "codemirror_mode": {
    "name": "ipython",
    "version": 3
   },
   "file_extension": ".py",
   "mimetype": "text/x-python",
   "name": "python",
   "nbconvert_exporter": "python",
   "pygments_lexer": "ipython3",
   "version": "3.11.4"
  }
 },
 "nbformat": 4,
 "nbformat_minor": 5
}
