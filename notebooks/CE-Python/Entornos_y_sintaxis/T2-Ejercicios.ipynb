{
 "cells": [
  {
   "cell_type": "code",
   "execution_count": 24,
   "id": "f1d73de8-5f96-4ea8-b9c8-b2c9d61347a2",
   "metadata": {},
   "outputs": [
    {
     "name": "stdout",
     "output_type": "stream",
     "text": [
      "JUANJO BAEZA LOPEZ\n",
      "------\n",
      "ZEPOL AZEAB OJNAUJ\n",
      "------\n",
      "juanjo*baeza*lopez\n",
      "------\n",
      "['juanjo', 'baeza', 'lopez']\n"
     ]
    }
   ],
   "source": [
    "### EJERCICIO 1 ###\n",
    "\n",
    "#Capitalizar el string\n",
    "x = \"juanjo baeza lopez\"\n",
    "y = x.upper()\n",
    "print(y)\n",
    "\n",
    "print('------')\n",
    "\n",
    "#Hacer el reverse del string\n",
    "x = \"juanjo baeza lopez\"[::-1]\n",
    "y = x.upper()\n",
    "print(y)\n",
    "\n",
    "print('------')\n",
    "\n",
    "#Reemplazar caracteres\n",
    "x = \"juanjo baeza lopez\"\n",
    "y=x.replace(' ','*')\n",
    "print(y)\n",
    "\n",
    "print('------')\n",
    "\n",
    "#Crear lista y añadir elementos\n",
    "lista = []\n",
    "\n",
    "x = \"juanjo baeza lopez\"\n",
    "\n",
    "nombre = (x).split(' ')[0]\n",
    "apell1 = (x).split(' ')[1]\n",
    "apell2 = (x).split(' ')[2]\n",
    "\n",
    "lista.append(nombre); lista.append(apell1); lista.append(apell2)\n",
    "\n",
    "print(lista)"
   ]
  },
  {
   "cell_type": "code",
   "execution_count": 28,
   "id": "3dc7165f-9123-487f-a611-aa22781a4e8a",
   "metadata": {},
   "outputs": [
    {
     "name": "stdout",
     "output_type": "stream",
     "text": [
      "[10, 8, 7, 5, 4, 3, 2]\n",
      "------\n",
      "[8, 7, 5, 4, 3, 2]\n",
      "------\n",
      "29\n"
     ]
    }
   ],
   "source": [
    "### EJERCICIO 2 ###\n",
    "\n",
    "lista = [2, 7, 4, 8, 10, 3, 5]\n",
    "\n",
    "#Ordenar lista e imprimir\n",
    "lista.sort(reverse = True)\n",
    "print(lista)\n",
    "\n",
    "print('------')\n",
    "\n",
    "#Eliminar numero mayor de la lista\n",
    "lista.remove(max(lista))\n",
    "print(lista)\n",
    "\n",
    "print('------')\n",
    "\n",
    "#Calcular suma de la lista\n",
    "print(sum(lista))"
   ]
  },
  {
   "cell_type": "code",
   "execution_count": 46,
   "id": "f53371da-a04a-4a66-a35b-224995c5141e",
   "metadata": {},
   "outputs": [
    {
     "name": "stdout",
     "output_type": "stream",
     "text": [
      "2\n",
      "------\n",
      "2\n",
      "------\n",
      "Primer elemento: 10 Ultimo elemento: 10\n"
     ]
    }
   ],
   "source": [
    "### EJERCICIO 3 ###\n",
    "\n",
    "tupla = (10, 20, 30, 40, 50, 30, 10)\n",
    "\n",
    "#Numero de indice del elemento 30\n",
    "elemento = 30\n",
    "a = tupla.index(elemento)\n",
    "print(a)\n",
    "\n",
    "print('------')\n",
    "\n",
    "# Numero de ocurrencias del numero 10\n",
    "def countX(tupla, x):\n",
    "    count = 0\n",
    "    for ele in tupla:\n",
    "        if (ele == x):\n",
    "            count = count + 1\n",
    "    return(count)\n",
    "\n",
    "print(countX(tupla, 10))\n",
    "\n",
    "print('------')\n",
    "\n",
    "#Imprimir primer y último elemento de la tupla\n",
    "first = tupla[:1][0]\n",
    "last  = tupla[-1:][0]\n",
    "\n",
    "print(f\"Primer elemento:\",first, \"Ultimo elemento:\",last)"
   ]
  },
  {
   "cell_type": "code",
   "execution_count": 56,
   "id": "884658be-c7f7-40a5-b85a-01250eb1e33d",
   "metadata": {},
   "outputs": [
    {
     "name": "stdout",
     "output_type": "stream",
     "text": [
      "{'nombre': 'Juan', 'edad': 20, 'carrera': 'Informática', 'notas': [8.5, 9.0, 7.5, 10], 'IES': 'Suarez de Figueroa'}\n",
      "------\n",
      "{'nombre': 'Juan', 'edad': 21, 'carrera': 'Informática', 'notas': [8.5, 9.0, 7.5, 10], 'IES': 'Suarez de Figueroa'}\n",
      "------\n",
      "Error\n"
     ]
    }
   ],
   "source": [
    "### EJERCICIO 4 ###\n",
    "\n",
    "estudiante = {\"nombre\": \"Juan\", \"edad\": 20,\"carrera\": \"Informática\", \"notas\": [8.5, 9.0, 7.5, 10] }\n",
    "\n",
    "#Añadir clave:valor\n",
    "estudiante['IES'] = 'Suarez de Figueroa'\n",
    "print(estudiante)\n",
    "\n",
    "print('------')\n",
    "\n",
    "#Modificar la edad del estudiante a 21 años\n",
    "estudiante['edad'] = 21\n",
    "print(estudiante)\n",
    "\n",
    "print('------')\n",
    "\n",
    "#Imprimir la clave beca, si no existe error\n",
    "my_var = estudiante.get('beca')\n",
    "\n",
    "if my_var == None: \n",
    "    my_var = \"Error\"\n",
    "\n",
    "print(my_var)"
   ]
  },
  {
   "cell_type": "code",
   "execution_count": 62,
   "id": "4a0118b1-61a1-4625-b725-94cdd8e6d61a",
   "metadata": {},
   "outputs": [
    {
     "name": "stdout",
     "output_type": "stream",
     "text": [
      "{1, 2, 3, 4, 5, 6, 7, 8}\n",
      "------\n",
      "{4, 5}\n",
      "------\n",
      "{1, 2, 3}\n",
      "------\n",
      "{1, 3, 4, 5, 9}\n",
      "------\n"
     ]
    }
   ],
   "source": [
    "### EJERCICIO 5 ###\n",
    "\n",
    "conjunto1 = {1, 2, 3, 4, 5}\n",
    "conjunto2 = {4, 5, 6, 7, 8}\n",
    "\n",
    "#Union de 2 conjuntos\n",
    "conjunto3 = conjunto1 | conjunto2\n",
    "print(conjunto3)\n",
    "\n",
    "print('------')\n",
    "\n",
    "#Intersección de 2 conjuntos\n",
    "interseccion = conjunto1 & conjunto2\n",
    "print(interseccion) \n",
    "\n",
    "print('------')\n",
    "\n",
    "#Diferencia de conjuntos\n",
    "diferencia = conjunto1 - conjunto2\n",
    "print(diferencia)\n",
    "\n",
    "print('------')\n",
    "\n",
    "#Añadir elemento y quitar otro\n",
    "conjunto1.add(9)\n",
    "conjunto1.remove(2)\n",
    "\n",
    "print(conjunto1)\n",
    "\n",
    "print('------')"
   ]
  },
  {
   "cell_type": "code",
   "execution_count": 73,
   "id": "4568c7b9-d139-4473-a963-aa1220b1cf56",
   "metadata": {},
   "outputs": [
    {
     "name": "stdin",
     "output_type": "stream",
     "text": [
      "Introduce numero real:  100.36\n"
     ]
    },
    {
     "name": "stdout",
     "output_type": "stream",
     "text": [
      "10000\n",
      "------\n",
      "El cuadrado es grande\n",
      "------\n",
      "El numero es par\n"
     ]
    }
   ],
   "source": [
    "### EJERCICIO 6 ###\n",
    "\n",
    "#Solicitamos numero real flotante\n",
    "numero = float (input('Introduce numero real: '))\n",
    "\n",
    "#Lo convertimos a entero, integer\n",
    "numero = int(numero)\n",
    "\n",
    "#Lo elevamos al cuadrado\n",
    "numero = numero * numero\n",
    "print(numero)\n",
    "\n",
    "print('------')\n",
    "\n",
    "#Condicion\n",
    "if numero > 1000:\n",
    "    print(\"El cuadrado es grande\")\n",
    "elif numero < 1000:\n",
    "    print(\"El cuadrado es pequeño\")\n",
    "\n",
    "print('------')\n",
    "\n",
    "#Comprobar que es par\n",
    "if numero % 2 == 0:\n",
    "    print(\"El numero es par\")\n",
    "else:\n",
    "    print(\"El numero es impar\")"
   ]
  },
  {
   "cell_type": "code",
   "execution_count": null,
   "id": "0a19e957-bc05-47f7-a31a-704f621bef66",
   "metadata": {},
   "outputs": [],
   "source": []
  }
 ],
 "metadata": {
  "kernelspec": {
   "display_name": "Python 3 (ipykernel)",
   "language": "python",
   "name": "python3"
  },
  "language_info": {
   "codemirror_mode": {
    "name": "ipython",
    "version": 3
   },
   "file_extension": ".py",
   "mimetype": "text/x-python",
   "name": "python",
   "nbconvert_exporter": "python",
   "pygments_lexer": "ipython3",
   "version": "3.11.4"
  }
 },
 "nbformat": 4,
 "nbformat_minor": 5
}
