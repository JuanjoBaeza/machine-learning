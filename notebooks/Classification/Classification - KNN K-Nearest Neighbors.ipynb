{
 "cells": [
  {
   "cell_type": "code",
   "execution_count": 5,
   "id": "281ca138",
   "metadata": {},
   "outputs": [
    {
     "name": "stdout",
     "output_type": "stream",
     "text": [
      "    mean radius  mean texture  mean perimeter  mean area  mean smoothness  \\\n",
      "0         17.99         10.38          122.80     1001.0          0.11840   \n",
      "1         20.57         17.77          132.90     1326.0          0.08474   \n",
      "2         19.69         21.25          130.00     1203.0          0.10960   \n",
      "3         11.42         20.38           77.58      386.1          0.14250   \n",
      "4         20.29         14.34          135.10     1297.0          0.10030   \n",
      "5         12.45         15.70           82.57      477.1          0.12780   \n",
      "6         18.25         19.98          119.60     1040.0          0.09463   \n",
      "7         13.71         20.83           90.20      577.9          0.11890   \n",
      "8         13.00         21.82           87.50      519.8          0.12730   \n",
      "9         12.46         24.04           83.97      475.9          0.11860   \n",
      "10        16.02         23.24          102.70      797.8          0.08206   \n",
      "11        15.78         17.89          103.60      781.0          0.09710   \n",
      "12        19.17         24.80          132.40     1123.0          0.09740   \n",
      "13        15.85         23.95          103.70      782.7          0.08401   \n",
      "14        13.73         22.61           93.60      578.3          0.11310   \n",
      "\n",
      "    mean compactness  mean concavity  mean concave points  mean symmetry  \\\n",
      "0            0.27760         0.30010              0.14710         0.2419   \n",
      "1            0.07864         0.08690              0.07017         0.1812   \n",
      "2            0.15990         0.19740              0.12790         0.2069   \n",
      "3            0.28390         0.24140              0.10520         0.2597   \n",
      "4            0.13280         0.19800              0.10430         0.1809   \n",
      "5            0.17000         0.15780              0.08089         0.2087   \n",
      "6            0.10900         0.11270              0.07400         0.1794   \n",
      "7            0.16450         0.09366              0.05985         0.2196   \n",
      "8            0.19320         0.18590              0.09353         0.2350   \n",
      "9            0.23960         0.22730              0.08543         0.2030   \n",
      "10           0.06669         0.03299              0.03323         0.1528   \n",
      "11           0.12920         0.09954              0.06606         0.1842   \n",
      "12           0.24580         0.20650              0.11180         0.2397   \n",
      "13           0.10020         0.09938              0.05364         0.1847   \n",
      "14           0.22930         0.21280              0.08025         0.2069   \n",
      "\n",
      "    mean fractal dimension  ...  worst texture  worst perimeter  worst area  \\\n",
      "0                  0.07871  ...          17.33           184.60      2019.0   \n",
      "1                  0.05667  ...          23.41           158.80      1956.0   \n",
      "2                  0.05999  ...          25.53           152.50      1709.0   \n",
      "3                  0.09744  ...          26.50            98.87       567.7   \n",
      "4                  0.05883  ...          16.67           152.20      1575.0   \n",
      "5                  0.07613  ...          23.75           103.40       741.6   \n",
      "6                  0.05742  ...          27.66           153.20      1606.0   \n",
      "7                  0.07451  ...          28.14           110.60       897.0   \n",
      "8                  0.07389  ...          30.73           106.20       739.3   \n",
      "9                  0.08243  ...          40.68            97.65       711.4   \n",
      "10                 0.05697  ...          33.88           123.80      1150.0   \n",
      "11                 0.06082  ...          27.28           136.50      1299.0   \n",
      "12                 0.07800  ...          29.94           151.70      1332.0   \n",
      "13                 0.05338  ...          27.66           112.00       876.5   \n",
      "14                 0.07682  ...          32.01           108.80       697.7   \n",
      "\n",
      "    worst smoothness  worst compactness  worst concavity  \\\n",
      "0             0.1622             0.6656           0.7119   \n",
      "1             0.1238             0.1866           0.2416   \n",
      "2             0.1444             0.4245           0.4504   \n",
      "3             0.2098             0.8663           0.6869   \n",
      "4             0.1374             0.2050           0.4000   \n",
      "5             0.1791             0.5249           0.5355   \n",
      "6             0.1442             0.2576           0.3784   \n",
      "7             0.1654             0.3682           0.2678   \n",
      "8             0.1703             0.5401           0.5390   \n",
      "9             0.1853             1.0580           1.1050   \n",
      "10            0.1181             0.1551           0.1459   \n",
      "11            0.1396             0.5609           0.3965   \n",
      "12            0.1037             0.3903           0.3639   \n",
      "13            0.1131             0.1924           0.2322   \n",
      "14            0.1651             0.7725           0.6943   \n",
      "\n",
      "    worst concave points  worst symmetry  worst fractal dimension  Mal/Ben  \n",
      "0                0.26540          0.4601                  0.11890        0  \n",
      "1                0.18600          0.2750                  0.08902        0  \n",
      "2                0.24300          0.3613                  0.08758        0  \n",
      "3                0.25750          0.6638                  0.17300        0  \n",
      "4                0.16250          0.2364                  0.07678        0  \n",
      "5                0.17410          0.3985                  0.12440        0  \n",
      "6                0.19320          0.3063                  0.08368        0  \n",
      "7                0.15560          0.3196                  0.11510        0  \n",
      "8                0.20600          0.4378                  0.10720        0  \n",
      "9                0.22100          0.4366                  0.20750        0  \n",
      "10               0.09975          0.2948                  0.08452        0  \n",
      "11               0.18100          0.3792                  0.10480        0  \n",
      "12               0.17670          0.3176                  0.10230        0  \n",
      "13               0.11190          0.2809                  0.06287        0  \n",
      "14               0.22080          0.3596                  0.14310        0  \n",
      "\n",
      "[15 rows x 31 columns]\n"
     ]
    },
    {
     "data": {
      "text/html": [
       "<style>#sk-container-id-2 {color: black;background-color: white;}#sk-container-id-2 pre{padding: 0;}#sk-container-id-2 div.sk-toggleable {background-color: white;}#sk-container-id-2 label.sk-toggleable__label {cursor: pointer;display: block;width: 100%;margin-bottom: 0;padding: 0.3em;box-sizing: border-box;text-align: center;}#sk-container-id-2 label.sk-toggleable__label-arrow:before {content: \"▸\";float: left;margin-right: 0.25em;color: #696969;}#sk-container-id-2 label.sk-toggleable__label-arrow:hover:before {color: black;}#sk-container-id-2 div.sk-estimator:hover label.sk-toggleable__label-arrow:before {color: black;}#sk-container-id-2 div.sk-toggleable__content {max-height: 0;max-width: 0;overflow: hidden;text-align: left;background-color: #f0f8ff;}#sk-container-id-2 div.sk-toggleable__content pre {margin: 0.2em;color: black;border-radius: 0.25em;background-color: #f0f8ff;}#sk-container-id-2 input.sk-toggleable__control:checked~div.sk-toggleable__content {max-height: 200px;max-width: 100%;overflow: auto;}#sk-container-id-2 input.sk-toggleable__control:checked~label.sk-toggleable__label-arrow:before {content: \"▾\";}#sk-container-id-2 div.sk-estimator input.sk-toggleable__control:checked~label.sk-toggleable__label {background-color: #d4ebff;}#sk-container-id-2 div.sk-label input.sk-toggleable__control:checked~label.sk-toggleable__label {background-color: #d4ebff;}#sk-container-id-2 input.sk-hidden--visually {border: 0;clip: rect(1px 1px 1px 1px);clip: rect(1px, 1px, 1px, 1px);height: 1px;margin: -1px;overflow: hidden;padding: 0;position: absolute;width: 1px;}#sk-container-id-2 div.sk-estimator {font-family: monospace;background-color: #f0f8ff;border: 1px dotted black;border-radius: 0.25em;box-sizing: border-box;margin-bottom: 0.5em;}#sk-container-id-2 div.sk-estimator:hover {background-color: #d4ebff;}#sk-container-id-2 div.sk-parallel-item::after {content: \"\";width: 100%;border-bottom: 1px solid gray;flex-grow: 1;}#sk-container-id-2 div.sk-label:hover label.sk-toggleable__label {background-color: #d4ebff;}#sk-container-id-2 div.sk-serial::before {content: \"\";position: absolute;border-left: 1px solid gray;box-sizing: border-box;top: 0;bottom: 0;left: 50%;z-index: 0;}#sk-container-id-2 div.sk-serial {display: flex;flex-direction: column;align-items: center;background-color: white;padding-right: 0.2em;padding-left: 0.2em;position: relative;}#sk-container-id-2 div.sk-item {position: relative;z-index: 1;}#sk-container-id-2 div.sk-parallel {display: flex;align-items: stretch;justify-content: center;background-color: white;position: relative;}#sk-container-id-2 div.sk-item::before, #sk-container-id-2 div.sk-parallel-item::before {content: \"\";position: absolute;border-left: 1px solid gray;box-sizing: border-box;top: 0;bottom: 0;left: 50%;z-index: -1;}#sk-container-id-2 div.sk-parallel-item {display: flex;flex-direction: column;z-index: 1;position: relative;background-color: white;}#sk-container-id-2 div.sk-parallel-item:first-child::after {align-self: flex-end;width: 50%;}#sk-container-id-2 div.sk-parallel-item:last-child::after {align-self: flex-start;width: 50%;}#sk-container-id-2 div.sk-parallel-item:only-child::after {width: 0;}#sk-container-id-2 div.sk-dashed-wrapped {border: 1px dashed gray;margin: 0 0.4em 0.5em 0.4em;box-sizing: border-box;padding-bottom: 0.4em;background-color: white;}#sk-container-id-2 div.sk-label label {font-family: monospace;font-weight: bold;display: inline-block;line-height: 1.2em;}#sk-container-id-2 div.sk-label-container {text-align: center;}#sk-container-id-2 div.sk-container {/* jupyter's `normalize.less` sets `[hidden] { display: none; }` but bootstrap.min.css set `[hidden] { display: none !important; }` so we also need the `!important` here to be able to override the default hidden behavior on the sphinx rendered scikit-learn.org. See: https://github.com/scikit-learn/scikit-learn/issues/21755 */display: inline-block !important;position: relative;}#sk-container-id-2 div.sk-text-repr-fallback {display: none;}</style><div id=\"sk-container-id-2\" class=\"sk-top-container\"><div class=\"sk-text-repr-fallback\"><pre>KNeighborsClassifier(n_neighbors=6)</pre><b>In a Jupyter environment, please rerun this cell to show the HTML representation or trust the notebook. <br />On GitHub, the HTML representation is unable to render, please try loading this page with nbviewer.org.</b></div><div class=\"sk-container\" hidden><div class=\"sk-item\"><div class=\"sk-estimator sk-toggleable\"><input class=\"sk-toggleable__control sk-hidden--visually\" id=\"sk-estimator-id-2\" type=\"checkbox\" checked><label for=\"sk-estimator-id-2\" class=\"sk-toggleable__label sk-toggleable__label-arrow\">KNeighborsClassifier</label><div class=\"sk-toggleable__content\"><pre>KNeighborsClassifier(n_neighbors=6)</pre></div></div></div></div></div>"
      ],
      "text/plain": [
       "KNeighborsClassifier(n_neighbors=6)"
      ]
     },
     "execution_count": 5,
     "metadata": {},
     "output_type": "execute_result"
    }
   ],
   "source": [
    "import pandas as pd\n",
    "from sklearn import datasets\n",
    "import numpy as np\n",
    "\n",
    "data = datasets.load_breast_cancer()\n",
    "\n",
    "# Read the DataFrame, first using the feature data\n",
    "df = pd.DataFrame(data.data, columns=data.feature_names)\n",
    "\n",
    "# Add a target column, and fill it with the target data, 0 será Benigno y 1 Maligno\n",
    "df['Mal/Ben'] = data.target\n",
    "\n",
    "# Show the first five rows\n",
    "print(df.head(15))\n",
    "\n",
    "# Store the feature data\n",
    "X = data.data\n",
    "# store the target data\n",
    "y = data.target\n",
    "\n",
    "# split the data using Scikit-Learn's train_test_split\n",
    "from sklearn.model_selection import train_test_split \n",
    "X_train, X_test, y_train, y_test = train_test_split(X, y)\n",
    "\n",
    "from sklearn.neighbors import KNeighborsClassifier\n",
    "logreg = KNeighborsClassifier(n_neighbors=6)\n",
    "logreg.fit(X_train, y_train)"
   ]
  },
  {
   "cell_type": "code",
   "execution_count": 6,
   "id": "18c63942",
   "metadata": {},
   "outputs": [
    {
     "name": "stdout",
     "output_type": "stream",
     "text": [
      "0.937 % precisión predictiva.\n"
     ]
    }
   ],
   "source": [
    "print(round(logreg.score(X_test, y_test),3), \"% precisión predictiva.\")"
   ]
  },
  {
   "cell_type": "code",
   "execution_count": null,
   "id": "4c33def1",
   "metadata": {},
   "outputs": [],
   "source": []
  }
 ],
 "metadata": {
  "kernelspec": {
   "display_name": "Python 3 (ipykernel)",
   "language": "python",
   "name": "python3"
  },
  "language_info": {
   "codemirror_mode": {
    "name": "ipython",
    "version": 3
   },
   "file_extension": ".py",
   "mimetype": "text/x-python",
   "name": "python",
   "nbconvert_exporter": "python",
   "pygments_lexer": "ipython3",
   "version": "3.8.10"
  }
 },
 "nbformat": 4,
 "nbformat_minor": 5
}
