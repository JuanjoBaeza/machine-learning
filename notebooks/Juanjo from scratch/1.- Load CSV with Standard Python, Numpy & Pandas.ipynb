{
 "cells": [
  {
   "cell_type": "code",
   "execution_count": 10,
   "id": "e7ad8305",
   "metadata": {},
   "outputs": [],
   "source": [
    "#Load CSV with Standard library\n",
    "import csv\n",
    "import numpy as np\n",
    "\n",
    "path = r\"../../data/datasets/iris.csv\"\n",
    "\n",
    "with open(path,'r') as f:\n",
    "    reader = csv.reader(f,delimiter = ',')\n",
    "    headers = next(reader)\n",
    "    data = list(reader)\n",
    "    data = np.array(data)"
   ]
  },
  {
   "cell_type": "code",
   "execution_count": 11,
   "id": "8dc1edeb",
   "metadata": {},
   "outputs": [
    {
     "name": "stdout",
     "output_type": "stream",
     "text": [
      "['5.1', '3.5', '1.4', '0.2', 'Iris-setosa']\n"
     ]
    }
   ],
   "source": [
    "print(headers)"
   ]
  },
  {
   "cell_type": "code",
   "execution_count": 12,
   "id": "aca318a0",
   "metadata": {},
   "outputs": [
    {
     "name": "stdout",
     "output_type": "stream",
     "text": [
      "(149, 5)\n"
     ]
    }
   ],
   "source": [
    "print(data.shape)"
   ]
  },
  {
   "cell_type": "code",
   "execution_count": 13,
   "id": "4d6d489b",
   "metadata": {},
   "outputs": [
    {
     "name": "stdout",
     "output_type": "stream",
     "text": [
      "[['4.9' '3.0' '1.4' '0.2' 'Iris-setosa']\n",
      " ['4.7' '3.2' '1.3' '0.2' 'Iris-setosa']\n",
      " ['4.6' '3.1' '1.5' '0.2' 'Iris-setosa']]\n"
     ]
    }
   ],
   "source": [
    "print(data[:3])"
   ]
  },
  {
   "cell_type": "code",
   "execution_count": 17,
   "id": "7a20349e",
   "metadata": {},
   "outputs": [
    {
     "name": "stdout",
     "output_type": "stream",
     "text": [
      "(768, 9)\n",
      "[[  6.    148.     72.     35.      0.     33.6     0.627  50.      1.   ]\n",
      " [  1.     85.     66.     29.      0.     26.6     0.351  31.      0.   ]\n",
      " [  8.    183.     64.      0.      0.     23.3     0.672  32.      1.   ]]\n"
     ]
    }
   ],
   "source": [
    "#Load CSV with Numpy and Loadtxt\n",
    "from numpy import loadtxt\n",
    "\n",
    "path = r\"../../data/datasets/pima-indians-diabetes.data.txt\"\n",
    "datapath = open(path, 'r')\n",
    "data = loadtxt(datapath, delimiter=\",\")\n",
    "\n",
    "print(data.shape)\n",
    "print(data[:3])"
   ]
  },
  {
   "cell_type": "code",
   "execution_count": 20,
   "id": "ed4d2fc6",
   "metadata": {},
   "outputs": [
    {
     "name": "stdout",
     "output_type": "stream",
     "text": [
      "(769, 9)\n",
      "               preg                  plas                      pres  \\\n",
      "0  time_pregnant_no  plasma_concentration  diastolic_blood_pressure   \n",
      "1                 6                   148                        72   \n",
      "2                 1                    85                        66   \n",
      "\n",
      "                         skin           test  mass               pedi  age  \\\n",
      "0  triceps_skinfold_thickness  serum_insulin   bmi  diabetes_pedigree  age   \n",
      "1                          35              0  33.6              0.627   50   \n",
      "2                          29              0  26.6              0.351   31   \n",
      "\n",
      "   class  \n",
      "0  class  \n",
      "1      1  \n",
      "2      0  \n"
     ]
    }
   ],
   "source": [
    "#Load CSV with Pandas CSV\n",
    "from pandas import read_csv\n",
    "\n",
    "path = r\"../../data/datasets/pima_indians_diabetes.csv\"\n",
    "headernames = ['preg', 'plas', 'pres', 'skin', 'test', 'mass', 'pedi', 'age', 'class']\n",
    "data = read_csv(path, names=headernames)\n",
    "\n",
    "print(data.shape)\n",
    "print(data[:3])"
   ]
  },
  {
   "cell_type": "code",
   "execution_count": 21,
   "id": "a864963a",
   "metadata": {},
   "outputs": [
    {
     "name": "stdout",
     "output_type": "stream",
     "text": [
      "                preg                  plas                      pres  \\\n",
      "0   time_pregnant_no  plasma_concentration  diastolic_blood_pressure   \n",
      "1                  6                   148                        72   \n",
      "2                  1                    85                        66   \n",
      "3                  8                   183                        64   \n",
      "4                  1                    89                        66   \n",
      "5                  0                   137                        40   \n",
      "6                  5                   116                        74   \n",
      "7                  3                    78                        50   \n",
      "8                 10                   115                         0   \n",
      "9                  2                   197                        70   \n",
      "10                 8                   125                        96   \n",
      "11                 4                   110                        92   \n",
      "12                10                   168                        74   \n",
      "13                10                   139                        80   \n",
      "14                 1                   189                        60   \n",
      "15                 5                   166                        72   \n",
      "16                 7                   100                         0   \n",
      "17                 0                   118                        84   \n",
      "18                 7                   107                        74   \n",
      "19                 1                   103                        30   \n",
      "20                 1                   115                        70   \n",
      "21                 3                   126                        88   \n",
      "22                 8                    99                        84   \n",
      "23                 7                   196                        90   \n",
      "24                 9                   119                        80   \n",
      "25                11                   143                        94   \n",
      "26                10                   125                        70   \n",
      "27                 7                   147                        76   \n",
      "28                 1                    97                        66   \n",
      "29                13                   145                        82   \n",
      "30                 5                   117                        92   \n",
      "31                 5                   109                        75   \n",
      "32                 3                   158                        76   \n",
      "33                 3                    88                        58   \n",
      "34                 6                    92                        92   \n",
      "35                10                   122                        78   \n",
      "36                 4                   103                        60   \n",
      "37                11                   138                        76   \n",
      "38                 9                   102                        76   \n",
      "39                 2                    90                        68   \n",
      "40                 4                   111                        72   \n",
      "41                 3                   180                        64   \n",
      "42                 7                   133                        84   \n",
      "43                 7                   106                        92   \n",
      "44                 9                   171                       110   \n",
      "45                 7                   159                        64   \n",
      "46                 0                   180                        66   \n",
      "47                 1                   146                        56   \n",
      "48                 2                    71                        70   \n",
      "49                 7                   103                        66   \n",
      "\n",
      "                          skin           test  mass               pedi  age  \\\n",
      "0   triceps_skinfold_thickness  serum_insulin   bmi  diabetes_pedigree  age   \n",
      "1                           35              0  33.6              0.627   50   \n",
      "2                           29              0  26.6              0.351   31   \n",
      "3                            0              0  23.3              0.672   32   \n",
      "4                           23             94  28.1              0.167   21   \n",
      "5                           35            168  43.1              2.288   33   \n",
      "6                            0              0  25.6              0.201   30   \n",
      "7                           32             88  31.0              0.248   26   \n",
      "8                            0              0  35.3              0.134   29   \n",
      "9                           45            543  30.5              0.158   53   \n",
      "10                           0              0   0.0              0.232   54   \n",
      "11                           0              0  37.6              0.191   30   \n",
      "12                           0              0  38.0              0.537   34   \n",
      "13                           0              0  27.1              1.441   57   \n",
      "14                          23            846  30.1              0.398   59   \n",
      "15                          19            175  25.8              0.587   51   \n",
      "16                           0              0  30.0              0.484   32   \n",
      "17                          47            230  45.8              0.551   31   \n",
      "18                           0              0  29.6              0.254   31   \n",
      "19                          38             83  43.3              0.183   33   \n",
      "20                          30             96  34.6              0.529   32   \n",
      "21                          41            235  39.3              0.704   27   \n",
      "22                           0              0  35.4              0.388   50   \n",
      "23                           0              0  39.8              0.451   41   \n",
      "24                          35              0  29.0              0.263   29   \n",
      "25                          33            146  36.6              0.254   51   \n",
      "26                          26            115  31.1              0.205   41   \n",
      "27                           0              0  39.4              0.257   43   \n",
      "28                          15            140  23.2              0.487   22   \n",
      "29                          19            110  22.2              0.245   57   \n",
      "30                           0              0  34.1              0.337   38   \n",
      "31                          26              0  36.0              0.546   60   \n",
      "32                          36            245  31.6              0.851   28   \n",
      "33                          11             54  24.8              0.267   22   \n",
      "34                           0              0  19.9              0.188   28   \n",
      "35                          31              0  27.6              0.512   45   \n",
      "36                          33            192  24.0              0.966   33   \n",
      "37                           0              0  33.2              0.420   35   \n",
      "38                          37              0  32.9              0.665   46   \n",
      "39                          42              0  38.2              0.503   27   \n",
      "40                          47            207  37.1              1.390   56   \n",
      "41                          25             70  34.0              0.271   26   \n",
      "42                           0              0  40.2              0.696   37   \n",
      "43                          18              0  22.7              0.235   48   \n",
      "44                          24            240  45.4              0.721   54   \n",
      "45                           0              0  27.4              0.294   40   \n",
      "46                          39              0  42.0              1.893   25   \n",
      "47                           0              0  29.7              0.564   29   \n",
      "48                          27              0  28.0              0.586   22   \n",
      "49                          32              0  39.1              0.344   31   \n",
      "\n",
      "    class  \n",
      "0   class  \n",
      "1       1  \n",
      "2       0  \n",
      "3       1  \n",
      "4       0  \n",
      "5       1  \n",
      "6       0  \n",
      "7       1  \n",
      "8       0  \n",
      "9       1  \n",
      "10      1  \n",
      "11      0  \n",
      "12      1  \n",
      "13      0  \n",
      "14      1  \n",
      "15      1  \n",
      "16      1  \n",
      "17      1  \n",
      "18      1  \n",
      "19      0  \n",
      "20      1  \n",
      "21      0  \n",
      "22      0  \n",
      "23      1  \n",
      "24      1  \n",
      "25      1  \n",
      "26      1  \n",
      "27      1  \n",
      "28      0  \n",
      "29      0  \n",
      "30      0  \n",
      "31      0  \n",
      "32      1  \n",
      "33      0  \n",
      "34      0  \n",
      "35      0  \n",
      "36      0  \n",
      "37      0  \n",
      "38      1  \n",
      "39      1  \n",
      "40      1  \n",
      "41      0  \n",
      "42      0  \n",
      "43      0  \n",
      "44      1  \n",
      "45      0  \n",
      "46      1  \n",
      "47      0  \n",
      "48      0  \n",
      "49      1  \n"
     ]
    }
   ],
   "source": [
    "#Load CSV with Pandas CSV\n",
    "from pandas import read_csv\n",
    "\n",
    "path = r\"../../data/datasets/pima_indians_diabetes.csv\"\n",
    "headernames = ['preg', 'plas', 'pres', 'skin', 'test', 'mass', 'pedi', 'age', 'class']\n",
    "data = read_csv(path, names=headernames)\n",
    "\n",
    "print(data.head(50))"
   ]
  },
  {
   "cell_type": "code",
   "execution_count": 24,
   "id": "78ab0bf7",
   "metadata": {},
   "outputs": [
    {
     "name": "stdout",
     "output_type": "stream",
     "text": [
      "5.1            float64\n",
      "3.5            float64\n",
      "1.4            float64\n",
      "0.2            float64\n",
      "Iris-setosa     object\n",
      "dtype: object\n"
     ]
    }
   ],
   "source": [
    "#Load CSV Pandas library\n",
    "from pandas import read_csv\n",
    "\n",
    "path = r\"../../data/datasets/iris.csv\"\n",
    "data = read_csv(path)\n",
    "\n",
    "print(data.dtypes)"
   ]
  },
  {
   "cell_type": "code",
   "execution_count": 28,
   "id": "f9aa4e61",
   "metadata": {},
   "outputs": [
    {
     "name": "stdout",
     "output_type": "stream",
     "text": [
      "(769, 9)\n",
      "       preg plas pres skin test  mass   pedi  age class\n",
      "count   769  769  769  769  769   769    769  769   769\n",
      "unique   18  137   48   52  187   249    518   53     3\n",
      "top       1  100   70    0    0  32.0  0.254   22     0\n",
      "freq    135   17   57  227  374    13      6   72   500\n"
     ]
    }
   ],
   "source": [
    "#Statistical Summary of Data\n",
    "from pandas import read_csv\n",
    "from pandas import set_option\n",
    "\n",
    "path = r\"../../data/datasets/pima_indians_diabetes.csv\"\n",
    "names = ['preg', 'plas', 'pres', 'skin', 'test', 'mass', 'pedi', 'age', 'class']\n",
    "data = read_csv(path, names=names)\n",
    "\n",
    "set_option('display.width', 100)\n",
    "\n",
    "print(data.shape)\n",
    "print(data.describe())"
   ]
  },
  {
   "cell_type": "code",
   "execution_count": 29,
   "id": "a1773511",
   "metadata": {},
   "outputs": [
    {
     "name": "stdout",
     "output_type": "stream",
     "text": [
      "class\n",
      "0        500\n",
      "1        268\n",
      "class      1\n",
      "dtype: int64\n"
     ]
    }
   ],
   "source": [
    "#Reviewing Class Distribution\n",
    "from pandas import read_csv\n",
    "\n",
    "path = r\"../../data/datasets/pima_indians_diabetes.csv\"\n",
    "names = ['preg', 'plas', 'pres', 'skin', 'test', 'mass', 'pedi', 'age', 'class']\n",
    "data = read_csv(path, names=names)\n",
    "\n",
    "count_class = data.groupby('class').size()\n",
    "\n",
    "print(count_class)"
   ]
  },
  {
   "cell_type": "code",
   "execution_count": 40,
   "id": "1b43fdee",
   "metadata": {},
   "outputs": [
    {
     "name": "stdout",
     "output_type": "stream",
     "text": [
      "           preg      plas      pres      skin      test      mass      pedi       age     class\n",
      "preg   1.000000  0.129459  0.141282 -0.081672 -0.073535  0.017683 -0.033523  0.544341  0.221898\n",
      "plas   0.129459  1.000000  0.152590  0.057328  0.331357  0.221071  0.137337  0.263514  0.466581\n",
      "pres   0.141282  0.152590  1.000000  0.207371  0.088933  0.281805  0.041265  0.239528  0.065068\n",
      "skin  -0.081672  0.057328  0.207371  1.000000  0.436783  0.392573  0.183928 -0.113970  0.074752\n",
      "test  -0.073535  0.331357  0.088933  0.436783  1.000000  0.197859  0.185071 -0.042163  0.130548\n",
      "mass   0.017683  0.221071  0.281805  0.392573  0.197859  1.000000  0.140647  0.036242  0.292695\n",
      "pedi  -0.033523  0.137337  0.041265  0.183928  0.185071  0.140647  1.000000  0.033561  0.173844\n",
      "age    0.544341  0.263514  0.239528 -0.113970 -0.042163  0.036242  0.033561  1.000000  0.238356\n",
      "class  0.221898  0.466581  0.065068  0.074752  0.130548  0.292695  0.173844  0.238356  1.000000\n"
     ]
    }
   ],
   "source": [
    "#Reviewing Correlation between Attributes\n",
    "from pandas import read_csv\n",
    "from pandas import set_option\n",
    "\n",
    "path = r\"../../data/datasets/pima_indians_diabetes.csv\"\n",
    "names = ['preg', 'plas', 'pres', 'skin', 'test', 'mass', 'pedi', 'age', 'class']\n",
    "data = read_csv(path, names=names, skiprows=[0])\n",
    "\n",
    "set_option('display.width', 100)\n",
    "correlations = data.corr(method='pearson')\n",
    "\n",
    "print(correlations)"
   ]
  },
  {
   "cell_type": "code",
   "execution_count": 41,
   "id": "f9795022",
   "metadata": {},
   "outputs": [
    {
     "name": "stdout",
     "output_type": "stream",
     "text": [
      "preg     0.901674\n",
      "plas     0.173754\n",
      "pres    -1.843608\n",
      "skin     0.109372\n",
      "test     2.272251\n",
      "mass    -0.428982\n",
      "pedi     1.919911\n",
      "age      1.129597\n",
      "class    0.635017\n",
      "dtype: float64\n"
     ]
    }
   ],
   "source": [
    "#Reviewing Skew of Attribute Distribution\n",
    "from pandas import read_csv\n",
    "\n",
    "path = r\"../../data/datasets/pima_indians_diabetes.csv\"\n",
    "\n",
    "names = ['preg', 'plas', 'pres', 'skin', 'test', 'mass', 'pedi', 'age', 'class']\n",
    "\n",
    "data = read_csv(path, names=names, skiprows=[0])\n",
    "\n",
    "print(data.skew())"
   ]
  },
  {
   "cell_type": "code",
   "execution_count": null,
   "id": "bf101939",
   "metadata": {},
   "outputs": [],
   "source": []
  }
 ],
 "metadata": {
  "kernelspec": {
   "display_name": "Python 3 (ipykernel)",
   "language": "python",
   "name": "python3"
  },
  "language_info": {
   "codemirror_mode": {
    "name": "ipython",
    "version": 3
   },
   "file_extension": ".py",
   "mimetype": "text/x-python",
   "name": "python",
   "nbconvert_exporter": "python",
   "pygments_lexer": "ipython3",
   "version": "3.10.12"
  }
 },
 "nbformat": 4,
 "nbformat_minor": 5
}
