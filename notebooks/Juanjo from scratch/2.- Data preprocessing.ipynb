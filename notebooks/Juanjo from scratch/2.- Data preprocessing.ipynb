{
 "cells": [
  {
   "cell_type": "code",
   "execution_count": 3,
   "id": "37d76e42",
   "metadata": {},
   "outputs": [
    {
     "name": "stdout",
     "output_type": "stream",
     "text": [
      "\n",
      "Scaled data:\n",
      " [[0.4 0.7 0.6 0.4 0.  0.5 0.2 0.5 1. ]\n",
      " [0.1 0.4 0.5 0.3 0.  0.4 0.1 0.2 0. ]\n",
      " [0.5 0.9 0.5 0.  0.  0.3 0.3 0.2 1. ]\n",
      " [0.1 0.4 0.5 0.2 0.1 0.4 0.  0.  0. ]\n",
      " [0.  0.7 0.3 0.4 0.2 0.6 0.9 0.2 1. ]\n",
      " [0.3 0.6 0.6 0.  0.  0.4 0.1 0.2 0. ]\n",
      " [0.2 0.4 0.4 0.3 0.1 0.5 0.1 0.1 1. ]\n",
      " [0.6 0.6 0.  0.  0.  0.5 0.  0.1 0. ]\n",
      " [0.1 1.  0.6 0.5 0.6 0.5 0.  0.5 1. ]\n",
      " [0.5 0.6 0.8 0.  0.  0.  0.1 0.6 1. ]]\n"
     ]
    }
   ],
   "source": [
    "#Data Pre-processing Techniques: Scaling\n",
    "from pandas import read_csv\n",
    "from numpy import set_printoptions\n",
    "from sklearn import preprocessing\n",
    "\n",
    "path = r\"../../data/datasets/pima_indians_diabetes.csv\"\n",
    "names = ['preg', 'plas', 'pres', 'skin', 'test', 'mass', 'pedi', 'age', 'class']\n",
    "dataframe = read_csv(path, names=names, skiprows=[0])\n",
    "\n",
    "array = dataframe.values\n",
    "\n",
    "data_scaler = preprocessing.MinMaxScaler(feature_range=(0,1))\n",
    "data_rescaled = data_scaler.fit_transform(array)\n",
    "set_printoptions(precision=1)\n",
    "\n",
    "print (\"\\nScaled data:\\n\", data_rescaled[0:10])"
   ]
  },
  {
   "cell_type": "code",
   "execution_count": 4,
   "id": "ae21ce82",
   "metadata": {},
   "outputs": [
    {
     "name": "stdout",
     "output_type": "stream",
     "text": [
      "\n",
      "Normalized data:\n",
      " [[0.02 0.43 0.21 0.1  0.   0.1  0.   0.14 0.  ]\n",
      " [0.   0.36 0.28 0.12 0.   0.11 0.   0.13 0.  ]\n",
      " [0.03 0.59 0.21 0.   0.   0.07 0.   0.1  0.  ]]\n"
     ]
    }
   ],
   "source": [
    "#Data Pre-processing Techniques: L1 Normalization\n",
    "from pandas import read_csv\n",
    "from numpy import set_printoptions\n",
    "from sklearn.preprocessing import Normalizer\n",
    "\n",
    "path = r\"../../data/datasets/pima_indians_diabetes.csv\"\n",
    "names = ['preg', 'plas', 'pres', 'skin', 'test', 'mass', 'pedi', 'age', 'class']\n",
    "dataframe = read_csv(path, names=names, skiprows=[0])\n",
    "\n",
    "array = dataframe.values\n",
    "\n",
    "Data_normalizer = Normalizer(norm='l1').fit(array)\n",
    "Data_normalized = Data_normalizer.transform(array)\n",
    "set_printoptions(precision=2)\n",
    "\n",
    "print (\"\\nNormalized data:\\n\", Data_normalized [0:3])"
   ]
  },
  {
   "cell_type": "code",
   "execution_count": 5,
   "id": "580ff10b",
   "metadata": {},
   "outputs": [
    {
     "name": "stdout",
     "output_type": "stream",
     "text": [
      "\n",
      "Normalized data:\n",
      " [[0.03 0.83 0.4  0.2  0.   0.19 0.   0.28 0.01]\n",
      " [0.01 0.72 0.56 0.24 0.   0.22 0.   0.26 0.  ]\n",
      " [0.04 0.92 0.32 0.   0.   0.12 0.   0.16 0.01]]\n"
     ]
    }
   ],
   "source": [
    "#Data Pre-processing Techniques: L2 Normalization\n",
    "from pandas import read_csv\n",
    "from numpy import set_printoptions\n",
    "from sklearn.preprocessing import Normalizer\n",
    "\n",
    "path = r\"../../data/datasets/pima_indians_diabetes.csv\"\n",
    "names = ['preg', 'plas', 'pres', 'skin', 'test', 'mass', 'pedi', 'age', 'class']\n",
    "dataframe = read_csv(path, names=names, skiprows=[0])\n",
    "\n",
    "array = dataframe.values\n",
    "\n",
    "Data_normalizer = Normalizer(norm='l2').fit(array)\n",
    "Data_normalized = Data_normalizer.transform(array)\n",
    "set_printoptions(precision=2)\n",
    "\n",
    "print (\"\\nNormalized data:\\n\", Data_normalized [0:3])"
   ]
  },
  {
   "cell_type": "code",
   "execution_count": 8,
   "id": "ba7fed01",
   "metadata": {},
   "outputs": [
    {
     "name": "stdout",
     "output_type": "stream",
     "text": [
      "\n",
      "Binary data:\n",
      " [[1. 1. 1. 1. 0. 1. 1. 1. 1.]\n",
      " [1. 1. 1. 1. 0. 1. 0. 1. 0.]\n",
      " [1. 1. 1. 0. 0. 1. 1. 1. 1.]\n",
      " [1. 1. 1. 1. 1. 1. 0. 1. 0.]\n",
      " [0. 1. 1. 1. 1. 1. 1. 1. 1.]]\n"
     ]
    }
   ],
   "source": [
    "#Data Pre-processing Techniques: Binarization\n",
    "from pandas import read_csv\n",
    "from sklearn.preprocessing import Binarizer\n",
    "\n",
    "path = r\"../../data/datasets/pima_indians_diabetes.csv\"\n",
    "names = ['preg', 'plas', 'pres', 'skin', 'test', 'mass', 'pedi', 'age', 'class']\n",
    "dataframe = read_csv(path, names=names, skiprows=[0])\n",
    "\n",
    "array = dataframe.values\n",
    "\n",
    "binarizer = Binarizer(threshold=0.5).fit(array)\n",
    "Data_binarized = binarizer.transform(array)\n",
    "\n",
    "print (\"\\nBinary data:\\n\", Data_binarized [0:5])"
   ]
  },
  {
   "cell_type": "code",
   "execution_count": 9,
   "id": "b30a0fb7",
   "metadata": {},
   "outputs": [
    {
     "name": "stdout",
     "output_type": "stream",
     "text": [
      "\n",
      "Rescaled data:\n",
      " [[ 0.64  0.85  0.15  0.91 -0.69  0.2   0.47  1.43  1.37]\n",
      " [-0.84 -1.12 -0.16  0.53 -0.69 -0.68 -0.37 -0.19 -0.73]\n",
      " [ 1.23  1.94 -0.26 -1.29 -0.69 -1.1   0.6  -0.11  1.37]\n",
      " [-0.84 -1.   -0.16  0.15  0.12 -0.49 -0.92 -1.04 -0.73]\n",
      " [-1.14  0.5  -1.5   0.91  0.77  1.41  5.48 -0.02  1.37]]\n"
     ]
    }
   ],
   "source": [
    "#Data Pre-processing Techniques: Standarization\n",
    "from sklearn.preprocessing import StandardScaler\n",
    "from pandas import read_csv\n",
    "from numpy import set_printoptions\n",
    "\n",
    "path = r\"../../data/datasets/pima_indians_diabetes.csv\"\n",
    "names = ['preg', 'plas', 'pres', 'skin', 'test', 'mass', 'pedi', 'age', 'class']\n",
    "dataframe = read_csv(path, names=names, skiprows=[0])\n",
    "\n",
    "array = dataframe.values\n",
    "\n",
    "data_scaler = StandardScaler().fit(array)\n",
    "data_rescaled = data_scaler.transform(array)\n",
    "set_printoptions(precision=2)\n",
    "\n",
    "print (\"\\nRescaled data:\\n\", data_rescaled [0:5])"
   ]
  },
  {
   "cell_type": "code",
   "execution_count": 10,
   "id": "ed29c46f",
   "metadata": {},
   "outputs": [
    {
     "name": "stdout",
     "output_type": "stream",
     "text": [
      "\n",
      "Labels = ['green', 'red', 'black']\n",
      "Encoded values = [1, 2, 0]\n",
      "\n",
      "Encoded values = [3, 0, 4, 1]\n",
      "\n",
      "Decoded labels = ['white', 'black', 'yellow', 'green']\n"
     ]
    }
   ],
   "source": [
    "#Data Pre-processing Techniques: Label Encoding\n",
    "import numpy as np\n",
    "from sklearn import preprocessing\n",
    "\n",
    "input_labels = ['red','black','red','green','black','yellow','white']\n",
    "\n",
    "encoder = preprocessing.LabelEncoder()\n",
    "encoder.fit(input_labels)\n",
    "\n",
    "test_labels = ['green','red','black']\n",
    "encoded_values = encoder.transform(test_labels)\n",
    "\n",
    "print(\"\\nLabels =\", test_labels)\n",
    "print(\"Encoded values =\", list(encoded_values))\n",
    "\n",
    "encoded_values = [3,0,4,1]\n",
    "decoded_list = encoder.inverse_transform(encoded_values)\n",
    "\n",
    "print(\"\\nEncoded values =\", encoded_values)\n",
    "print(\"\\nDecoded labels =\", list(decoded_list))"
   ]
  }
 ],
 "metadata": {
  "kernelspec": {
   "display_name": "Python 3 (ipykernel)",
   "language": "python",
   "name": "python3"
  },
  "language_info": {
   "codemirror_mode": {
    "name": "ipython",
    "version": 3
   },
   "file_extension": ".py",
   "mimetype": "text/x-python",
   "name": "python",
   "nbconvert_exporter": "python",
   "pygments_lexer": "ipython3",
   "version": "3.10.12"
  }
 },
 "nbformat": 4,
 "nbformat_minor": 5
}
