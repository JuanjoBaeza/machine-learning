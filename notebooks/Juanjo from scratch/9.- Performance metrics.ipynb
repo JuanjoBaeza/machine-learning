{
 "cells": [
  {
   "cell_type": "code",
   "execution_count": 3,
   "id": "aabba1b3",
   "metadata": {},
   "outputs": [
    {
     "name": "stdout",
     "output_type": "stream",
     "text": [
      "Confusion Matrix :\n",
      "[[3 3]\n",
      " [1 3]] \n",
      "\n",
      "Accuracy Score is 0.6 \n",
      "\n",
      "Classification Report : \n",
      "              precision    recall  f1-score   support\n",
      "\n",
      "           0       0.75      0.50      0.60         6\n",
      "           1       0.50      0.75      0.60         4\n",
      "\n",
      "    accuracy                           0.60        10\n",
      "   macro avg       0.62      0.62      0.60        10\n",
      "weighted avg       0.65      0.60      0.60        10\n",
      " \n",
      "\n",
      "AUC-ROC: 0.625 \n",
      "\n",
      "LOGLOSS Value is 14.41746135564686\n"
     ]
    }
   ],
   "source": [
    "#Confusion Matrix\n",
    "#Classification Accuracy\n",
    "#Classification Report\n",
    "#AUC (Area Under ROC curve)\n",
    "#LOGLOSS (Logarithmic Loss)\n",
    "\n",
    "from sklearn.metrics import confusion_matrix\n",
    "from sklearn.metrics import accuracy_score\n",
    "from sklearn.metrics import classification_report\n",
    "from sklearn.metrics import roc_auc_score\n",
    "from sklearn.metrics import log_loss\n",
    "\n",
    "X_actual = [1, 1, 0, 1, 0, 0, 1, 0, 0, 0]\n",
    "Y_predic = [1, 0, 1, 1, 1, 0, 1, 1, 0, 0]\n",
    "\n",
    "results = confusion_matrix(X_actual, Y_predic)\n",
    "\n",
    "print ('Confusion Matrix :')\n",
    "print (results, '\\n')\n",
    "print ('Accuracy Score is',accuracy_score(X_actual, Y_predic), '\\n')\n",
    "print ('Classification Report : ')\n",
    "print (classification_report(X_actual, Y_predic), '\\n')\n",
    "print ('AUC-ROC:',roc_auc_score(X_actual, Y_predic), '\\n')\n",
    "print ('LOGLOSS Value is',log_loss(X_actual, Y_predic))"
   ]
  },
  {
   "cell_type": "code",
   "execution_count": 4,
   "id": "1d8c33ad",
   "metadata": {},
   "outputs": [
    {
     "name": "stdout",
     "output_type": "stream",
     "text": [
      "R Squared = 0.9656060606060606 \n",
      "\n",
      "MAE = 0.42499999999999993 \n",
      "\n",
      "MSE = 0.5674999999999999\n"
     ]
    }
   ],
   "source": [
    "#Mean Absolute Error (MAE)\n",
    "#Mean Square Error (MSE)\n",
    "#R Squared (R2)\n",
    "\n",
    "from sklearn.metrics import r2_score\n",
    "from sklearn.metrics import mean_absolute_error\n",
    "from sklearn.metrics import mean_squared_error\n",
    "\n",
    "X_actual = [5, -1, 2, 10]\n",
    "Y_predic = [3.5, -0.9, 2, 9.9]\n",
    "\n",
    "print ('R Squared =',r2_score(X_actual, Y_predic), '\\n')\n",
    "print ('MAE =',mean_absolute_error(X_actual, Y_predic), '\\n')\n",
    "print ('MSE =',mean_squared_error(X_actual, Y_predic))"
   ]
  },
  {
   "cell_type": "code",
   "execution_count": null,
   "id": "2af3f473",
   "metadata": {},
   "outputs": [],
   "source": []
  }
 ],
 "metadata": {
  "kernelspec": {
   "display_name": "Python 3 (ipykernel)",
   "language": "python",
   "name": "python3"
  },
  "language_info": {
   "codemirror_mode": {
    "name": "ipython",
    "version": 3
   },
   "file_extension": ".py",
   "mimetype": "text/x-python",
   "name": "python",
   "nbconvert_exporter": "python",
   "pygments_lexer": "ipython3",
   "version": "3.10.12"
  }
 },
 "nbformat": 4,
 "nbformat_minor": 5
}
