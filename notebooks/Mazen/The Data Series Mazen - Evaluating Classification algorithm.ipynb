{
 "cells": [
  {
   "cell_type": "code",
   "execution_count": 1,
   "id": "bc23ceb2",
   "metadata": {},
   "outputs": [],
   "source": [
    "# Building the Classification algorithm\n",
    "\n",
    "import warnings\n",
    "warnings.filterwarnings(\"ignore\")\n",
    "\n",
    "import pandas as pd\n",
    "\n",
    "# read data\n",
    "star_data = pd.read_csv(\"datasets/pulsar_data.csv\")"
   ]
  },
  {
   "cell_type": "code",
   "execution_count": 2,
   "id": "4b78d234",
   "metadata": {},
   "outputs": [],
   "source": [
    "# drop rows containing missing values\n",
    "star_data.dropna(inplace = True)\n",
    "\n",
    "# remove spaces in column headings\n",
    "star_data.columns = star_data.columns.str.strip()\n",
    "\n",
    "# define input (X) and outpit (y) data of the algorithm\n",
    "X = star_data.drop('target_class', 1)\n",
    "y = star_data['target_class']"
   ]
  },
  {
   "cell_type": "code",
   "execution_count": 3,
   "id": "00e8c7d0",
   "metadata": {},
   "outputs": [],
   "source": [
    "# perform data standardization\n",
    "from sklearn.preprocessing import StandardScaler\n",
    "\n",
    "s_scaler = StandardScaler()\n",
    "\n",
    "X_ss = pd.DataFrame(s_scaler.fit_transform(X), columns = X.columns)\n",
    "\n",
    "# split the data into a training and test set\n",
    "from sklearn.model_selection import train_test_split\n",
    "\n",
    "X_train, X_test, y_train, y_test = train_test_split(X_ss, y, test_size=0.25, random_state=42)"
   ]
  },
  {
   "cell_type": "code",
   "execution_count": 4,
   "id": "65d49679",
   "metadata": {},
   "outputs": [],
   "source": [
    "# build the support vector machine\n",
    "from sklearn import svm \n",
    "clf_rbf = svm.SVC(kernel = 'rbf', C = 10)\n",
    "\n",
    "clf_rbf.fit(X_train, y_train)\n",
    "\n",
    "# obtain a set a of predictions\n",
    "y_pred = clf_rbf.predict(X_test)"
   ]
  },
  {
   "cell_type": "code",
   "execution_count": 7,
   "id": "f51e16ef",
   "metadata": {},
   "outputs": [
    {
     "name": "stdout",
     "output_type": "stream",
     "text": [
      "[0. 0. 0. ... 0. 0. 0.]\n"
     ]
    }
   ],
   "source": [
    "print(y_pred)"
   ]
  },
  {
   "cell_type": "code",
   "execution_count": 8,
   "id": "0467db17",
   "metadata": {},
   "outputs": [],
   "source": [
    "# Evaluating the Classification Algorithm\n",
    "\n",
    "# obtain true positives, false positives, true negatives and false negatives\n",
    "from sklearn.metrics import confusion_matrix\n",
    "\n",
    "CM = confusion_matrix(y_test, y_pred)\n",
    "\n",
    "TP = CM[1][1]\n",
    "FP = CM[0][1]\n",
    "TN = CM[0][0]\n",
    "FN = CM[1][0]"
   ]
  },
  {
   "cell_type": "code",
   "execution_count": 9,
   "id": "e95298a8",
   "metadata": {},
   "outputs": [
    {
     "data": {
      "text/plain": [
       "0.9805950840879689"
      ]
     },
     "execution_count": 9,
     "metadata": {},
     "output_type": "execute_result"
    }
   ],
   "source": [
    "from sklearn.metrics import accuracy_score\n",
    "\n",
    "accuracy_score(y_test, y_pred)"
   ]
  },
  {
   "cell_type": "code",
   "execution_count": 10,
   "id": "4af1ec44",
   "metadata": {},
   "outputs": [
    {
     "data": {
      "text/plain": [
       "0.9395604395604396"
      ]
     },
     "execution_count": 10,
     "metadata": {},
     "output_type": "execute_result"
    }
   ],
   "source": [
    "from sklearn.metrics import precision_score\n",
    "\n",
    "precision_score(y_test, y_pred)"
   ]
  },
  {
   "cell_type": "code",
   "execution_count": 11,
   "id": "40a5431f",
   "metadata": {},
   "outputs": [
    {
     "data": {
      "text/plain": [
       "0.8341463414634146"
      ]
     },
     "execution_count": 11,
     "metadata": {},
     "output_type": "execute_result"
    }
   ],
   "source": [
    "from sklearn.metrics import recall_score\n",
    "\n",
    "recall_score(y_test, y_pred)"
   ]
  },
  {
   "cell_type": "code",
   "execution_count": 12,
   "id": "968fc96d",
   "metadata": {},
   "outputs": [
    {
     "data": {
      "text/plain": [
       "0.005203405865657522"
      ]
     },
     "execution_count": 12,
     "metadata": {},
     "output_type": "execute_result"
    }
   ],
   "source": [
    "False_Positive_Rate = FP/(FP + TN)\n",
    "\n",
    "False_Positive_Rate"
   ]
  },
  {
   "cell_type": "code",
   "execution_count": 13,
   "id": "8bd2c94f",
   "metadata": {},
   "outputs": [
    {
     "data": {
      "text/plain": [
       "0.9947965941343425"
      ]
     },
     "execution_count": 13,
     "metadata": {},
     "output_type": "execute_result"
    }
   ],
   "source": [
    "Specificity = TN/(TN + FP)\n",
    "\n",
    "Specificity"
   ]
  },
  {
   "cell_type": "code",
   "execution_count": 15,
   "id": "4c25223b",
   "metadata": {},
   "outputs": [
    {
     "data": {
      "text/plain": [
       "0.8341463414634146"
      ]
     },
     "execution_count": 15,
     "metadata": {},
     "output_type": "execute_result"
    }
   ],
   "source": [
    "Sensitivity= TP/(TP + FN)\n",
    "\n",
    "Sensitivity"
   ]
  },
  {
   "cell_type": "code",
   "execution_count": 16,
   "id": "c7fb0e4c",
   "metadata": {},
   "outputs": [
    {
     "data": {
      "text/plain": [
       "0.883720930232558"
      ]
     },
     "execution_count": 16,
     "metadata": {},
     "output_type": "execute_result"
    }
   ],
   "source": [
    "from sklearn.metrics import f1_score\n",
    "\n",
    "f1_score(y_test, y_pred)"
   ]
  },
  {
   "cell_type": "code",
   "execution_count": 17,
   "id": "6ea31337",
   "metadata": {},
   "outputs": [
    {
     "data": {
      "text/plain": [
       "<sklearn.metrics._plot.roc_curve.RocCurveDisplay at 0x7feb7d094eb0>"
      ]
     },
     "execution_count": 17,
     "metadata": {},
     "output_type": "execute_result"
    },
    {
     "data": {
      "image/png": "[encoded data removed]",
      "text/plain": [
       "<Figure size 432x288 with 1 Axes>"
      ]
     },
     "metadata": {
      "needs_background": "light"
     },
     "output_type": "display_data"
    }
   ],
   "source": [
    "from sklearn import metrics\n",
    "\n",
    "metrics.plot_roc_curve(clf_rbf, X_test, y_test) "
   ]
  },
  {
   "cell_type": "code",
   "execution_count": 18,
   "id": "6146a817",
   "metadata": {},
   "outputs": [
    {
     "data": {
      "text/plain": [
       "0.9649883471398574"
      ]
     },
     "execution_count": 18,
     "metadata": {},
     "output_type": "execute_result"
    }
   ],
   "source": [
    "from sklearn.metrics import roc_auc_score\n",
    "\n",
    "roc_auc_score(y_test, clf_rbf.decision_function(X_test))"
   ]
  },
  {
   "cell_type": "code",
   "execution_count": null,
   "id": "03ffdf8a",
   "metadata": {},
   "outputs": [],
   "source": []
  }
 ],
 "metadata": {
  "kernelspec": {
   "display_name": "Python 3 (ipykernel)",
   "language": "python",
   "name": "python3"
  },
  "language_info": {
   "codemirror_mode": {
    "name": "ipython",
    "version": 3
   },
   "file_extension": ".py",
   "mimetype": "text/x-python",
   "name": "python",
   "nbconvert_exporter": "python",
   "pygments_lexer": "ipython3",
   "version": "3.8.10"
  }
 },
 "nbformat": 4,
 "nbformat_minor": 5
}
