{
 "cells": [
  {
   "cell_type": "code",
   "execution_count": 1,
   "id": "46f84d87",
   "metadata": {},
   "outputs": [
    {
     "data": {
      "text/plain": [
       "(9273, 9)"
      ]
     },
     "execution_count": 1,
     "metadata": {},
     "output_type": "execute_result"
    }
   ],
   "source": [
    "import pandas as pd\n",
    "import numpy as np\n",
    "import warnings\n",
    "\n",
    "warnings.filterwarnings(\"ignore\")\n",
    "\n",
    "# read the data\n",
    "star_data = pd.read_csv(\"datasets/pulsar_data.csv\")\n",
    "\n",
    "star_data = star_data.dropna()\n",
    "\n",
    "# check data frame shape\n",
    "star_data.shape"
   ]
  },
  {
   "cell_type": "code",
   "execution_count": 2,
   "id": "949f8dac",
   "metadata": {},
   "outputs": [
    {
     "data": {
      "text/plain": [
       "0.0    8423\n",
       "1.0     850\n",
       "Name: target_class, dtype: int64"
      ]
     },
     "execution_count": 2,
     "metadata": {},
     "output_type": "execute_result"
    }
   ],
   "source": [
    "# split into input and target data\n",
    "X = star_data.drop('target_class', 1)\n",
    "y = star_data['target_class']\n",
    "\n",
    "y.value_counts()"
   ]
  },
  {
   "cell_type": "code",
   "execution_count": 3,
   "id": "96dd73a3",
   "metadata": {},
   "outputs": [],
   "source": [
    "from sklearn.preprocessing import StandardScaler\n",
    "\n",
    "s_scaler = StandardScaler()\n",
    "\n",
    "X_ss = pd.DataFrame(s_scaler.fit_transform(X), columns = X.columns)"
   ]
  },
  {
   "cell_type": "code",
   "execution_count": 4,
   "id": "440cc55d",
   "metadata": {},
   "outputs": [],
   "source": [
    "from sklearn.model_selection import train_test_split\n",
    "\n",
    "X_train, X_test, y_train, y_test = train_test_split(X_ss, y, test_size=0.25, random_state=42)"
   ]
  },
  {
   "cell_type": "code",
   "execution_count": 5,
   "id": "d2404346",
   "metadata": {},
   "outputs": [
    {
     "data": {
      "text/plain": [
       "'0.23.2'"
      ]
     },
     "execution_count": 5,
     "metadata": {},
     "output_type": "execute_result"
    }
   ],
   "source": [
    "import sklearn \n",
    "sklearn.__version__"
   ]
  },
  {
   "cell_type": "code",
   "execution_count": 6,
   "id": "7034e77b",
   "metadata": {},
   "outputs": [
    {
     "data": {
      "text/plain": [
       "SVC(C=10, kernel='linear')"
      ]
     },
     "execution_count": 6,
     "metadata": {},
     "output_type": "execute_result"
    }
   ],
   "source": [
    "# Implementing SVM\n",
    "\n",
    "from sklearn import svm \n",
    "\n",
    "clf = svm.SVC(kernel = 'linear', C = 10)\n",
    "\n",
    "clf.fit(X_train, y_train)"
   ]
  },
  {
   "cell_type": "code",
   "execution_count": 7,
   "id": "24385dd7",
   "metadata": {},
   "outputs": [
    {
     "data": {
      "text/plain": [
       "<sklearn.metrics._plot.confusion_matrix.ConfusionMatrixDisplay at 0x7f42931888b0>"
      ]
     },
     "execution_count": 7,
     "metadata": {},
     "output_type": "execute_result"
    },
    {
     "data": {
      "image/png": "[encoded data removed]",
      "text/plain": [
       "<Figure size 432x288 with 2 Axes>"
      ]
     },
     "metadata": {
      "needs_background": "light"
     },
     "output_type": "display_data"
    }
   ],
   "source": [
    "from sklearn.metrics import plot_confusion_matrix\n",
    "\n",
    "plot_confusion_matrix(clf, X_test, y_test)  "
   ]
  },
  {
   "cell_type": "code",
   "execution_count": 8,
   "id": "794b4c44",
   "metadata": {},
   "outputs": [
    {
     "data": {
      "text/plain": [
       "0.8720626631853786"
      ]
     },
     "execution_count": 8,
     "metadata": {},
     "output_type": "execute_result"
    }
   ],
   "source": [
    "from sklearn.metrics import f1_score, precision_score\n",
    "\n",
    "y_pred = clf.predict(X_test)\n",
    "\n",
    "f1_score(y_test, y_pred)"
   ]
  },
  {
   "cell_type": "markdown",
   "id": "0ea1fcd1",
   "metadata": {},
   "source": [
    "Here we choose to optimize four hyperparameters for a support vector machine classifier, these are:\n",
    "- **C:** regularization parameter\n",
    "- **kernel:** pecifies the kernel type to be used in the algorithm (linear, poly, rbf, sigmoid, precomputed)\n",
    "- **poly**: degree of the polynomial kernel function (poly)\n",
    "- **gamma**: kernel coefficient for rbf, poly and sigmoid"
   ]
  },
  {
   "cell_type": "code",
   "execution_count": 9,
   "id": "cb481a8a",
   "metadata": {},
   "outputs": [],
   "source": [
    "# Defining hyperparameter space\n",
    "\n",
    "hyperparameters = {\"C\":[0.001, 0.01, 0.1, 1, 10, 100] , \n",
    "                  \"kernel\" : [\"linear\", \"poly\", \"rbf\", \"sigmoid\"], \n",
    "                  \"degree\" : [1, 2, 3, 4],\n",
    "                  \"gamma\": [0.0001, 0.001, 0.01, 0.1, 1, 10]}"
   ]
  },
  {
   "cell_type": "code",
   "execution_count": 10,
   "id": "e1bb6f62",
   "metadata": {},
   "outputs": [
    {
     "data": {
      "text/plain": [
       "0.883720930232558"
      ]
     },
     "execution_count": 10,
     "metadata": {},
     "output_type": "execute_result"
    }
   ],
   "source": [
    "# set model hyperparameters\n",
    "clf_rbf = svm.SVC(kernel = 'rbf', C = 10, gamma = 0.1)\n",
    "\n",
    "# fit the model to the training data\n",
    "clf_rbf.fit(X_train, y_train)\n",
    "\n",
    "#generate a set of predictions\n",
    "y_pred = clf_rbf.predict(X_test)\n",
    "\n",
    "# model evaluation\n",
    "f1_score(y_test, y_pred)"
   ]
  },
  {
   "cell_type": "code",
   "execution_count": 11,
   "id": "bdb7b45e",
   "metadata": {},
   "outputs": [
    {
     "data": {
      "text/plain": [
       "{'kernel': 'poly', 'gamma': 0.1, 'degree': 2, 'C': 0.001}"
      ]
     },
     "execution_count": 11,
     "metadata": {},
     "output_type": "execute_result"
    }
   ],
   "source": [
    "# Select best hyperparams from a Random search\n",
    "from sklearn.model_selection import RandomizedSearchCV\n",
    "\n",
    "# perform random search\n",
    "clf_rs = RandomizedSearchCV(svm.SVC(), hyperparameters, cv = 3, scoring = \"f1\", n_iter = 5) # Bajamos a 5 estaba en 20\n",
    "random_search = clf_rs.fit(X_train, y_train)\n",
    "\n",
    "# identify best parameters from random search\n",
    "random_search.best_params_"
   ]
  },
  {
   "cell_type": "code",
   "execution_count": 12,
   "id": "13b8ef76",
   "metadata": {},
   "outputs": [
    {
     "data": {
      "text/plain": [
       "0.6535947712418301"
      ]
     },
     "execution_count": 12,
     "metadata": {},
     "output_type": "execute_result"
    }
   ],
   "source": [
    "# set model hyperparameters\n",
    "y_pred_rs = random_search.best_estimator_.predict(X_test)\n",
    "\n",
    "# model evaluation\n",
    "f1_score(y_test, y_pred_rs)"
   ]
  },
  {
   "cell_type": "code",
   "execution_count": null,
   "id": "6f4d8a14",
   "metadata": {},
   "outputs": [],
   "source": [
    "# Select best hyperparams from a Grid search\n",
    "from sklearn.model_selection import GridSearchCV\n",
    "\n",
    "# perform grid search\n",
    "clf_gs = GridSearchCV(svm.SVC(), hyperparameters, cv = 3, scoring = \"f1\", n_jobs=1)\n",
    "\n",
    "grid_search = clf_gs.fit(X_train, y_train)\n",
    "\n",
    "# identify best parameters from grid search\n",
    "grid_search.best_params_"
   ]
  },
  {
   "cell_type": "code",
   "execution_count": null,
   "id": "18cf273f",
   "metadata": {},
   "outputs": [],
   "source": [
    "# set model hyperparameters\n",
    "y_pred_gs = grid_search.best_estimator_.predict(X_test)\n",
    "\n",
    "# model evaluation\n",
    "f1_score(y_test, y_pred_gs)"
   ]
  },
  {
   "cell_type": "code",
   "execution_count": null,
   "id": "137e83ab",
   "metadata": {},
   "outputs": [],
   "source": [
    "# Bayesian Optimization\n",
    "from skopt import BayesSearchCV\n",
    "\n",
    "# perform bayesian optimization\n",
    "clf_bo = BayesSearchCV(svm.SVC(), hyperparameters, cv =3, scoring = \"f1\", n_iter = 20)\n",
    "bayes_search = clf_bo.fit(X_train, y_train)\n",
    "\n",
    "# identify best parameters from bayesian optimization\n",
    "bayes_search.best_params_"
   ]
  },
  {
   "cell_type": "code",
   "execution_count": null,
   "id": "00531aa3",
   "metadata": {},
   "outputs": [],
   "source": [
    "y_pred_bo = bayes_search.best_estimator_.predict(X_test)\n",
    "\n",
    "f1_score(y_test, y_pred_bo)"
   ]
  }
 ],
 "metadata": {
  "kernelspec": {
   "display_name": "Python 3 (ipykernel)",
   "language": "python",
   "name": "python3"
  },
  "language_info": {
   "codemirror_mode": {
    "name": "ipython",
    "version": 3
   },
   "file_extension": ".py",
   "mimetype": "text/x-python",
   "name": "python",
   "nbconvert_exporter": "python",
   "pygments_lexer": "ipython3",
   "version": "3.8.10"
  }
 },
 "nbformat": 4,
 "nbformat_minor": 5
}
