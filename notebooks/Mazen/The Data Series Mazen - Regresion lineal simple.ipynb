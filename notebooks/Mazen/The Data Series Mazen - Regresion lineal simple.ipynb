{
 "cells": [
  {
   "cell_type": "code",
   "execution_count": 6,
   "id": "de104b7b",
   "metadata": {},
   "outputs": [
    {
     "data": {
      "text/plain": [
       "<bound method NDFrame.head of     Temperature(C)  Humidity\n",
       "0         9.472222      0.89\n",
       "1         9.355556      0.86\n",
       "2         9.377778      0.89\n",
       "3         8.288889      0.83\n",
       "4         8.755556      0.83\n",
       "5         9.222222      0.85\n",
       "6         7.733333      0.95\n",
       "7         8.772222      0.89\n",
       "8        10.822222      0.82\n",
       "9        13.772222      0.72\n",
       "10       16.016667      0.67\n",
       "11       17.144444      0.54\n",
       "12       17.800000      0.55\n",
       "13       17.333333      0.51\n",
       "14       18.877778      0.47\n",
       "15       18.911111      0.46\n",
       "16       15.388889      0.60\n",
       "17       15.550000      0.63\n",
       "18       14.255556      0.69\n",
       "19       13.144444      0.70\n",
       "20       11.550000      0.77\n",
       "21       11.183333      0.76\n",
       "22       10.116667      0.79\n",
       "23       10.200000      0.77\n",
       "24       10.422222      0.62\n",
       "25        9.911111      0.66\n",
       "26       11.183333      0.80\n",
       "27        7.155556      0.79\n",
       "28        6.111111      0.82\n",
       "29        6.788889      0.83\n",
       "30        7.261111      0.85\n",
       "31        7.800000      0.83\n",
       "32        9.872222      0.78\n",
       "33       12.222222      0.72\n",
       "34       15.094444      0.61\n",
       "35       17.355556      0.52\n",
       "36       19.005556      0.46\n",
       "37       20.044444      0.40\n",
       "38       21.050000      0.40\n",
       "39       21.183333      0.37\n",
       "40       20.116667      0.40\n",
       "41       20.216667      0.36\n",
       "42       20.000000      0.43\n",
       "43       17.800000      0.50\n",
       "44       16.061111      0.53\n",
       "45       15.022222      0.55\n",
       "46       14.422222      0.58\n",
       "47       14.255556      0.59\n",
       "48       13.772222      0.60\n",
       "49       13.283333      0.63>"
      ]
     },
     "execution_count": 6,
     "metadata": {},
     "output_type": "execute_result"
    }
   ],
   "source": [
    "# https://github.com/Mazen-ALG/The-Data-Series/blob/master/Episode%204.3/Simple%20Linear%20Regression.ipynb  \n",
    "# Import Pandas Library, used for data manipulation\n",
    "# Import matplotlib, used to plot our data\n",
    "# Import numpy for mathemtical operations\n",
    "import pandas as pd\n",
    "import matplotlib.pyplot as plt\n",
    "import numpy as np\n",
    "\n",
    "# Import our WeatherData and store it in the variable weather_data\n",
    "weather_data = pd.read_csv(\"datasets/WeatherData.csv\") \n",
    "\n",
    "# Display the data in the notebook\n",
    "weather_data.head"
   ]
  },
  {
   "cell_type": "code",
   "execution_count": 3,
   "id": "412179f0",
   "metadata": {},
   "outputs": [
    {
     "data": {
      "text/plain": [
       "Text(0, 0.5, 'Humidity')"
      ]
     },
     "execution_count": 3,
     "metadata": {},
     "output_type": "execute_result"
    },
    {
     "data": {
      "image/png": "[encoded data removed]",
      "text/plain": [
       "<Figure size 432x288 with 1 Axes>"
      ]
     },
     "metadata": {
      "needs_background": "light"
     },
     "output_type": "display_data"
    }
   ],
   "source": [
    "# Set x to our input Temperature\n",
    "x = weather_data['Temperature(C)']\n",
    "\n",
    "# Set y to our output humidity, this is the value we trying to predict\n",
    "y = weather_data['Humidity']\n",
    "\n",
    "# Plot Humidity against Temperature\n",
    "plt.scatter(x, y)\n",
    "\n",
    "# Add labels to the graph\n",
    "plt.xlabel('Temperature(C)')\n",
    "plt.ylabel('Humidity')"
   ]
  },
  {
   "cell_type": "code",
   "execution_count": 4,
   "id": "ec7298b0",
   "metadata": {},
   "outputs": [
    {
     "data": {
      "text/plain": [
       "[<matplotlib.lines.Line2D at 0x7f9ad732fd30>]"
      ]
     },
     "execution_count": 4,
     "metadata": {},
     "output_type": "execute_result"
    },
    {
     "data": {
      "image/png": "[encoded data removed]",
      "text/plain": [
       "<Figure size 432x288 with 1 Axes>"
      ]
     },
     "metadata": {
      "needs_background": "light"
     },
     "output_type": "display_data"
    }
   ],
   "source": [
    "from sklearn.linear_model import LinearRegression\n",
    "\n",
    "x = weather_data['Temperature(C)'].values.reshape(-1,1)\n",
    "y = weather_data['Humidity']\n",
    "\n",
    "lr_model = LinearRegression()\n",
    "lr_model.fit(x, y)\n",
    "y_pred = lr_model.predict(x)\n",
    "\n",
    "plt.scatter(x, y)\n",
    "plt.xlabel('Temperature(C)')\n",
    "plt.ylabel('Humidity')\n",
    "\n",
    "plt.plot(x, y_pred)"
   ]
  },
  {
   "cell_type": "code",
   "execution_count": 11,
   "id": "56add11d",
   "metadata": {},
   "outputs": [
    {
     "data": {
      "text/plain": [
       "array([0.07706043])"
      ]
     },
     "execution_count": 11,
     "metadata": {},
     "output_type": "execute_result"
    }
   ],
   "source": [
    "y_pred = lr_model.predict(np.array([30]).reshape(1, 1))\n",
    "y_pred"
   ]
  }
 ],
 "metadata": {
  "kernelspec": {
   "display_name": "Python 3 (ipykernel)",
   "language": "python",
   "name": "python3"
  },
  "language_info": {
   "codemirror_mode": {
    "name": "ipython",
    "version": 3
   },
   "file_extension": ".py",
   "mimetype": "text/x-python",
   "name": "python",
   "nbconvert_exporter": "python",
   "pygments_lexer": "ipython3",
   "version": "3.8.10"
  }
 },
 "nbformat": 4,
 "nbformat_minor": 5
}
