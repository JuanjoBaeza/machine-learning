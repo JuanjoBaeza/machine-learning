{
 "cells": [
  {
   "cell_type": "code",
   "execution_count": 18,
   "id": "951f8c45",
   "metadata": {},
   "outputs": [],
   "source": [
    "#https://towardsdatascience.com/topic-modeling-and-latent-dirichlet-allocation-in-python-9bf156893c24\n",
    "import pandas as pd\n",
    "\n",
    "data = pd.read_csv('datasets/abcnews-date-text.csv');\n",
    "data_text = data[['headline_text']]\n",
    "data_text['index'] = data_text.index\n",
    "documents = data_text"
   ]
  },
  {
   "cell_type": "code",
   "execution_count": 34,
   "id": "13b08daf",
   "metadata": {},
   "outputs": [
    {
     "name": "stderr",
     "output_type": "stream",
     "text": [
      "[nltk_data] Downloading package wordnet to /home/juanjo/nltk_data...\n",
      "[nltk_data]   Package wordnet is already up-to-date!\n"
     ]
    }
   ],
   "source": [
    "import gensim\n",
    "from gensim.utils import simple_preprocess\n",
    "from gensim.parsing.preprocessing import STOPWORDS\n",
    "from nltk.stem import WordNetLemmatizer, SnowballStemmer\n",
    "from nltk.stem.porter import *\n",
    "import nltk.stem as stemmer\n",
    "import numpy as np\n",
    "np.random.seed(2018)\n",
    "import nltk\n",
    "nltk.download('wordnet')\n",
    "\n",
    "stemmer = PorterStemmer()"
   ]
  },
  {
   "cell_type": "code",
   "execution_count": 35,
   "id": "7f3eab70",
   "metadata": {},
   "outputs": [],
   "source": [
    "def lemmatize_stemming(text):\n",
    "    return stemmer.stem(WordNetLemmatizer().lemmatize(text, pos='v'))\n",
    "\n",
    "def preprocess(text):\n",
    "    result = []\n",
    "    for token in gensim.utils.simple_preprocess(text):\n",
    "        if token not in gensim.parsing.preprocessing.STOPWORDS and len(token) > 3:\n",
    "            result.append(lemmatize_stemming(token))\n",
    "    return result"
   ]
  },
  {
   "cell_type": "code",
   "execution_count": 36,
   "id": "207831c1",
   "metadata": {},
   "outputs": [
    {
     "name": "stdout",
     "output_type": "stream",
     "text": [
      "original document: \n",
      "['rain', 'helps', 'dampen', 'bushfires']\n",
      "\n",
      "\n",
      " tokenized and lemmatized document: \n",
      "['rain', 'help', 'dampen', 'bushfir']\n"
     ]
    }
   ],
   "source": [
    "doc_sample = documents[documents['index'] == 4310].values[0][0]\n",
    "print('original document: ')\n",
    "words = []\n",
    "\n",
    "for word in doc_sample.split(' '):\n",
    "    words.append(word)\n",
    "    \n",
    "print(words)\n",
    "print('\\n\\n tokenized and lemmatized document: ')\n",
    "print(preprocess(doc_sample))"
   ]
  },
  {
   "cell_type": "code",
   "execution_count": 37,
   "id": "738cc56c",
   "metadata": {},
   "outputs": [
    {
     "name": "stdout",
     "output_type": "stream",
     "text": [
      "1082168\n",
      "                                       headline_text  index\n",
      "0  aba decides against community broadcasting lic...      0\n",
      "1     act fire witnesses must be aware of defamation      1\n",
      "2     a g calls for infrastructure protection summit      2\n",
      "3           air nz staff in aust strike for pay rise      3\n",
      "4      air nz strike to affect australian travellers      4\n"
     ]
    }
   ],
   "source": [
    "print(len(documents))\n",
    "print(documents[:5])"
   ]
  },
  {
   "cell_type": "code",
   "execution_count": 38,
   "id": "80f51a26",
   "metadata": {},
   "outputs": [
    {
     "data": {
      "text/plain": [
       "0               [decid, commun, broadcast, licenc]\n",
       "1                               [wit, awar, defam]\n",
       "2           [call, infrastructur, protect, summit]\n",
       "3                      [staff, aust, strike, rise]\n",
       "4             [strike, affect, australian, travel]\n",
       "5               [ambiti, olsson, win, tripl, jump]\n",
       "6           [antic, delight, record, break, barca]\n",
       "7    [aussi, qualifi, stosur, wast, memphi, match]\n",
       "8            [aust, address, secur, council, iraq]\n",
       "9                         [australia, lock, timet]\n",
       "Name: headline_text, dtype: object"
      ]
     },
     "execution_count": 38,
     "metadata": {},
     "output_type": "execute_result"
    }
   ],
   "source": [
    "processed_docs = documents['headline_text'].map(preprocess)\n",
    "processed_docs[:10]"
   ]
  },
  {
   "cell_type": "code",
   "execution_count": 39,
   "id": "384c7093",
   "metadata": {},
   "outputs": [
    {
     "name": "stdout",
     "output_type": "stream",
     "text": [
      "0 broadcast\n",
      "1 commun\n",
      "2 decid\n",
      "3 licenc\n",
      "4 awar\n",
      "5 defam\n",
      "6 wit\n",
      "7 call\n",
      "8 infrastructur\n",
      "9 protect\n",
      "10 summit\n"
     ]
    }
   ],
   "source": [
    "dictionary = gensim.corpora.Dictionary(processed_docs)\n",
    "count = 0\n",
    "\n",
    "for k, v in dictionary.iteritems():\n",
    "    print(k, v)\n",
    "    count += 1\n",
    "    if count > 10:\n",
    "        break"
   ]
  },
  {
   "cell_type": "code",
   "execution_count": 40,
   "id": "a4e3c700",
   "metadata": {},
   "outputs": [],
   "source": [
    "dictionary.filter_extremes(no_below=15, no_above=0.5, keep_n=100000)"
   ]
  },
  {
   "cell_type": "code",
   "execution_count": 41,
   "id": "feaf1e17",
   "metadata": {},
   "outputs": [
    {
     "data": {
      "text/plain": [
       "[(76, 1), (112, 1), (483, 1), (4015, 1)]"
      ]
     },
     "execution_count": 41,
     "metadata": {},
     "output_type": "execute_result"
    }
   ],
   "source": [
    "bow_corpus = [dictionary.doc2bow(doc) for doc in processed_docs]\n",
    "bow_corpus[4310]"
   ]
  },
  {
   "cell_type": "code",
   "execution_count": 42,
   "id": "4ca08664",
   "metadata": {},
   "outputs": [
    {
     "name": "stdout",
     "output_type": "stream",
     "text": [
      "Word 76 (\"bushfir\") appears 1 time.\n",
      "Word 112 (\"help\") appears 1 time.\n",
      "Word 483 (\"rain\") appears 1 time.\n",
      "Word 4015 (\"dampen\") appears 1 time.\n"
     ]
    }
   ],
   "source": [
    "bow_doc_4310 = bow_corpus[4310]\n",
    "for i in range(len(bow_doc_4310)):\n",
    "    print(\"Word {} (\\\"{}\\\") appears {} time.\".format(bow_doc_4310[i][0], dictionary[bow_doc_4310[i][0]], bow_doc_4310[i][1]))"
   ]
  },
  {
   "cell_type": "code",
   "execution_count": 52,
   "id": "81b4c28d",
   "metadata": {},
   "outputs": [
    {
     "name": "stdout",
     "output_type": "stream",
     "text": [
      "[(0, 0.5913144510648105),\n",
      " (1, 0.38522584492986706),\n",
      " (2, 0.49651004561935946),\n",
      " (3, 0.5053969162540006)]\n"
     ]
    }
   ],
   "source": [
    "from gensim import corpora, models\n",
    "\n",
    "tfidf = models.TfidfModel(bow_corpus)\n",
    "corpus_tfidf = tfidf[bow_corpus]\n",
    "\n",
    "from pprint import pprint\n",
    "for doc in corpus_tfidf:\n",
    "    pprint(doc)\n",
    "    break"
   ]
  },
  {
   "cell_type": "code",
   "execution_count": 53,
   "id": "8a1f5f8e",
   "metadata": {},
   "outputs": [],
   "source": [
    "# Running LDA using Bag of Words\n",
    "lda_model = gensim.models.LdaMulticore(bow_corpus, num_topics=10, id2word=dictionary, passes=2, workers=2)"
   ]
  },
  {
   "cell_type": "code",
   "execution_count": 45,
   "id": "8ffd232f",
   "metadata": {},
   "outputs": [
    {
     "name": "stdout",
     "output_type": "stream",
     "text": [
      "Topic: 0 \n",
      "Words: 0.030*\"queensland\" + 0.023*\"perth\" + 0.023*\"market\" + 0.019*\"jail\" + 0.019*\"hospit\" + 0.018*\"china\" + 0.016*\"share\" + 0.015*\"power\" + 0.013*\"year\" + 0.013*\"donald\"\n",
      "Topic: 1 \n",
      "Words: 0.054*\"australia\" + 0.021*\"countri\" + 0.019*\"rural\" + 0.017*\"hour\" + 0.017*\"live\" + 0.015*\"nation\" + 0.015*\"west\" + 0.012*\"busi\" + 0.012*\"peopl\" + 0.011*\"farmer\"\n",
      "Topic: 2 \n",
      "Words: 0.056*\"polic\" + 0.025*\"death\" + 0.023*\"sydney\" + 0.022*\"attack\" + 0.020*\"crash\" + 0.020*\"woman\" + 0.017*\"die\" + 0.014*\"shoot\" + 0.013*\"investig\" + 0.013*\"arrest\"\n",
      "Topic: 3 \n",
      "Words: 0.031*\"south\" + 0.023*\"north\" + 0.015*\"kill\" + 0.014*\"park\" + 0.014*\"protest\" + 0.013*\"close\" + 0.011*\"build\" + 0.011*\"program\" + 0.011*\"coast\" + 0.010*\"young\"\n",
      "Topic: 4 \n",
      "Words: 0.031*\"govern\" + 0.019*\"council\" + 0.017*\"say\" + 0.017*\"plan\" + 0.014*\"rise\" + 0.014*\"water\" + 0.012*\"concern\" + 0.011*\"industri\" + 0.009*\"polit\" + 0.009*\"resid\"\n",
      "Topic: 5 \n",
      "Words: 0.021*\"adelaid\" + 0.018*\"open\" + 0.016*\"australian\" + 0.015*\"women\" + 0.015*\"final\" + 0.015*\"brisban\" + 0.015*\"melbourn\" + 0.014*\"world\" + 0.012*\"gold\" + 0.011*\"win\"\n",
      "Topic: 6 \n",
      "Words: 0.021*\"school\" + 0.018*\"interview\" + 0.015*\"labor\" + 0.014*\"indigen\" + 0.013*\"children\" + 0.013*\"fund\" + 0.013*\"life\" + 0.012*\"student\" + 0.012*\"commun\" + 0.012*\"miss\"\n",
      "Topic: 7 \n",
      "Words: 0.035*\"court\" + 0.024*\"charg\" + 0.023*\"face\" + 0.022*\"murder\" + 0.018*\"accus\" + 0.016*\"child\" + 0.016*\"trial\" + 0.014*\"abus\" + 0.013*\"guilti\" + 0.013*\"tell\"\n",
      "Topic: 8 \n",
      "Words: 0.028*\"trump\" + 0.015*\"tasmania\" + 0.013*\"record\" + 0.012*\"time\" + 0.012*\"break\" + 0.012*\"leagu\" + 0.012*\"fall\" + 0.011*\"news\" + 0.010*\"show\" + 0.009*\"john\"\n",
      "Topic: 9 \n",
      "Words: 0.032*\"elect\" + 0.018*\"hous\" + 0.016*\"chang\" + 0.016*\"price\" + 0.015*\"canberra\" + 0.014*\"lose\" + 0.013*\"tasmanian\" + 0.013*\"health\" + 0.013*\"farm\" + 0.011*\"public\"\n"
     ]
    }
   ],
   "source": [
    "for idx, topic in lda_model.print_topics(-1):\n",
    "    print('Topic: {} \\nWords: {}'.format(idx, topic))"
   ]
  },
  {
   "cell_type": "code",
   "execution_count": 46,
   "id": "0eab30f9",
   "metadata": {},
   "outputs": [
    {
     "name": "stdout",
     "output_type": "stream",
     "text": [
      "Topic: 0 Word: 0.011*\"govern\" + 0.008*\"health\" + 0.008*\"fund\" + 0.007*\"plan\" + 0.007*\"council\" + 0.006*\"elect\" + 0.006*\"say\" + 0.005*\"mine\" + 0.005*\"budget\" + 0.005*\"hill\"\n",
      "Topic: 1 Word: 0.026*\"countri\" + 0.024*\"hour\" + 0.018*\"market\" + 0.011*\"share\" + 0.008*\"busi\" + 0.006*\"australian\" + 0.006*\"august\" + 0.006*\"syria\" + 0.006*\"islam\" + 0.006*\"wall\"\n",
      "Topic: 2 Word: 0.009*\"live\" + 0.009*\"royal\" + 0.008*\"commiss\" + 0.007*\"trade\" + 0.006*\"australia\" + 0.006*\"dairi\" + 0.006*\"obama\" + 0.006*\"scott\" + 0.005*\"white\" + 0.005*\"china\"\n",
      "Topic: 3 Word: 0.009*\"david\" + 0.008*\"monday\" + 0.008*\"june\" + 0.007*\"open\" + 0.006*\"toni\" + 0.006*\"updat\" + 0.006*\"abbott\" + 0.006*\"social\" + 0.005*\"extend\" + 0.005*\"quiz\"\n",
      "Topic: 4 Word: 0.019*\"polic\" + 0.016*\"charg\" + 0.012*\"crash\" + 0.012*\"woman\" + 0.011*\"interview\" + 0.010*\"kill\" + 0.010*\"shoot\" + 0.009*\"attack\" + 0.009*\"arrest\" + 0.008*\"murder\"\n",
      "Topic: 5 Word: 0.011*\"podcast\" + 0.009*\"australia\" + 0.009*\"leagu\" + 0.008*\"final\" + 0.008*\"world\" + 0.008*\"sport\" + 0.006*\"juli\" + 0.006*\"win\" + 0.005*\"test\" + 0.005*\"cricket\"\n",
      "Topic: 6 Word: 0.008*\"price\" + 0.008*\"turnbul\" + 0.006*\"climat\" + 0.006*\"bushfir\" + 0.006*\"flood\" + 0.006*\"wednesday\" + 0.006*\"cattl\" + 0.006*\"christma\" + 0.006*\"rain\" + 0.006*\"hous\"\n",
      "Topic: 7 Word: 0.011*\"drum\" + 0.009*\"murder\" + 0.009*\"court\" + 0.008*\"jail\" + 0.008*\"donald\" + 0.008*\"death\" + 0.008*\"sentenc\" + 0.007*\"friday\" + 0.007*\"octob\" + 0.007*\"tuesday\"\n",
      "Topic: 8 Word: 0.024*\"trump\" + 0.011*\"weather\" + 0.009*\"michael\" + 0.009*\"septemb\" + 0.007*\"fiji\" + 0.007*\"rugbi\" + 0.006*\"explain\" + 0.006*\"breakfast\" + 0.006*\"wild\" + 0.006*\"shorten\"\n",
      "Topic: 9 Word: 0.029*\"rural\" + 0.012*\"news\" + 0.009*\"violenc\" + 0.008*\"nation\" + 0.007*\"thursday\" + 0.007*\"domest\" + 0.006*\"cancer\" + 0.006*\"april\" + 0.005*\"disabl\" + 0.005*\"research\"\n"
     ]
    }
   ],
   "source": [
    "# Running LDA using TF-IDF\n",
    "lda_model_tfidf = gensim.models.LdaMulticore(corpus_tfidf, num_topics=10, id2word=dictionary, passes=2, workers=4)\n",
    "for idx, topic in lda_model_tfidf.print_topics(-1):\n",
    "    print('Topic: {} Word: {}'.format(idx, topic))"
   ]
  },
  {
   "cell_type": "code",
   "execution_count": 55,
   "id": "9f3f2c24",
   "metadata": {},
   "outputs": [
    {
     "data": {
      "text/plain": [
       "['rain', 'help', 'dampen', 'bushfir']"
      ]
     },
     "execution_count": 55,
     "metadata": {},
     "output_type": "execute_result"
    }
   ],
   "source": [
    "processed_docs[4310]"
   ]
  },
  {
   "cell_type": "code",
   "execution_count": 47,
   "id": "01f76751",
   "metadata": {},
   "outputs": [
    {
     "name": "stdout",
     "output_type": "stream",
     "text": [
      "\n",
      "Score: 0.41980382800102234\t \n",
      "Topic: 0.035*\"court\" + 0.024*\"charg\" + 0.023*\"face\" + 0.022*\"murder\" + 0.018*\"accus\" + 0.016*\"child\" + 0.016*\"trial\" + 0.014*\"abus\" + 0.013*\"guilti\" + 0.013*\"tell\"\n",
      "\n",
      "Score: 0.2200627624988556\t \n",
      "Topic: 0.021*\"school\" + 0.018*\"interview\" + 0.015*\"labor\" + 0.014*\"indigen\" + 0.013*\"children\" + 0.013*\"fund\" + 0.013*\"life\" + 0.012*\"student\" + 0.012*\"commun\" + 0.012*\"miss\"\n",
      "\n",
      "Score: 0.22005252540111542\t \n",
      "Topic: 0.031*\"south\" + 0.023*\"north\" + 0.015*\"kill\" + 0.014*\"park\" + 0.014*\"protest\" + 0.013*\"close\" + 0.011*\"build\" + 0.011*\"program\" + 0.011*\"coast\" + 0.010*\"young\"\n",
      "\n",
      "Score: 0.02001926489174366\t \n",
      "Topic: 0.021*\"adelaid\" + 0.018*\"open\" + 0.016*\"australian\" + 0.015*\"women\" + 0.015*\"final\" + 0.015*\"brisban\" + 0.015*\"melbourn\" + 0.014*\"world\" + 0.012*\"gold\" + 0.011*\"win\"\n",
      "\n",
      "Score: 0.020015599206089973\t \n",
      "Topic: 0.032*\"elect\" + 0.018*\"hous\" + 0.016*\"chang\" + 0.016*\"price\" + 0.015*\"canberra\" + 0.014*\"lose\" + 0.013*\"tasmanian\" + 0.013*\"health\" + 0.013*\"farm\" + 0.011*\"public\"\n",
      "\n",
      "Score: 0.020010704174637794\t \n",
      "Topic: 0.054*\"australia\" + 0.021*\"countri\" + 0.019*\"rural\" + 0.017*\"hour\" + 0.017*\"live\" + 0.015*\"nation\" + 0.015*\"west\" + 0.012*\"busi\" + 0.012*\"peopl\" + 0.011*\"farmer\"\n",
      "\n",
      "Score: 0.02001013420522213\t \n",
      "Topic: 0.028*\"trump\" + 0.015*\"tasmania\" + 0.013*\"record\" + 0.012*\"time\" + 0.012*\"break\" + 0.012*\"leagu\" + 0.012*\"fall\" + 0.011*\"news\" + 0.010*\"show\" + 0.009*\"john\"\n",
      "\n",
      "Score: 0.020009970292448997\t \n",
      "Topic: 0.056*\"polic\" + 0.025*\"death\" + 0.023*\"sydney\" + 0.022*\"attack\" + 0.020*\"crash\" + 0.020*\"woman\" + 0.017*\"die\" + 0.014*\"shoot\" + 0.013*\"investig\" + 0.013*\"arrest\"\n",
      "\n",
      "Score: 0.020007595419883728\t \n",
      "Topic: 0.030*\"queensland\" + 0.023*\"perth\" + 0.023*\"market\" + 0.019*\"jail\" + 0.019*\"hospit\" + 0.018*\"china\" + 0.016*\"share\" + 0.015*\"power\" + 0.013*\"year\" + 0.013*\"donald\"\n",
      "\n",
      "Score: 0.020007595419883728\t \n",
      "Topic: 0.031*\"govern\" + 0.019*\"council\" + 0.017*\"say\" + 0.017*\"plan\" + 0.014*\"rise\" + 0.014*\"water\" + 0.012*\"concern\" + 0.011*\"industri\" + 0.009*\"polit\" + 0.009*\"resid\"\n"
     ]
    }
   ],
   "source": [
    "# Performance evaluation by classifying sample document using LDA Bag of Words model\n",
    "for index, score in sorted(lda_model[bow_corpus[4310]], key=lambda tup: -1*tup[1]):\n",
    "    print(\"\\nScore: {}\\t \\nTopic: {}\".format(score, lda_model.print_topic(index, 10)))"
   ]
  },
  {
   "cell_type": "code",
   "execution_count": 48,
   "id": "c605ff89",
   "metadata": {},
   "outputs": [
    {
     "name": "stdout",
     "output_type": "stream",
     "text": [
      "\n",
      "Score: 0.8199660778045654\t \n",
      "Topic: 0.008*\"price\" + 0.008*\"turnbul\" + 0.006*\"climat\" + 0.006*\"bushfir\" + 0.006*\"flood\" + 0.006*\"wednesday\" + 0.006*\"cattl\" + 0.006*\"christma\" + 0.006*\"rain\" + 0.006*\"hous\"\n",
      "\n",
      "Score: 0.02000577002763748\t \n",
      "Topic: 0.029*\"rural\" + 0.012*\"news\" + 0.009*\"violenc\" + 0.008*\"nation\" + 0.007*\"thursday\" + 0.007*\"domest\" + 0.006*\"cancer\" + 0.006*\"april\" + 0.005*\"disabl\" + 0.005*\"research\"\n",
      "\n",
      "Score: 0.02000419795513153\t \n",
      "Topic: 0.011*\"govern\" + 0.008*\"health\" + 0.008*\"fund\" + 0.007*\"plan\" + 0.007*\"council\" + 0.006*\"elect\" + 0.006*\"say\" + 0.005*\"mine\" + 0.005*\"budget\" + 0.005*\"hill\"\n",
      "\n",
      "Score: 0.020003696903586388\t \n",
      "Topic: 0.024*\"trump\" + 0.011*\"weather\" + 0.009*\"michael\" + 0.009*\"septemb\" + 0.007*\"fiji\" + 0.007*\"rugbi\" + 0.006*\"explain\" + 0.006*\"breakfast\" + 0.006*\"wild\" + 0.006*\"shorten\"\n",
      "\n",
      "Score: 0.020003532990813255\t \n",
      "Topic: 0.019*\"polic\" + 0.016*\"charg\" + 0.012*\"crash\" + 0.012*\"woman\" + 0.011*\"interview\" + 0.010*\"kill\" + 0.010*\"shoot\" + 0.009*\"attack\" + 0.009*\"arrest\" + 0.008*\"murder\"\n",
      "\n",
      "Score: 0.020003514364361763\t \n",
      "Topic: 0.011*\"drum\" + 0.009*\"murder\" + 0.009*\"court\" + 0.008*\"jail\" + 0.008*\"donald\" + 0.008*\"death\" + 0.008*\"sentenc\" + 0.007*\"friday\" + 0.007*\"octob\" + 0.007*\"tuesday\"\n",
      "\n",
      "Score: 0.02000347711145878\t \n",
      "Topic: 0.009*\"live\" + 0.009*\"royal\" + 0.008*\"commiss\" + 0.007*\"trade\" + 0.006*\"australia\" + 0.006*\"dairi\" + 0.006*\"obama\" + 0.006*\"scott\" + 0.005*\"white\" + 0.005*\"china\"\n",
      "\n",
      "Score: 0.02000325731933117\t \n",
      "Topic: 0.011*\"podcast\" + 0.009*\"australia\" + 0.009*\"leagu\" + 0.008*\"final\" + 0.008*\"world\" + 0.008*\"sport\" + 0.006*\"juli\" + 0.006*\"win\" + 0.005*\"test\" + 0.005*\"cricket\"\n",
      "\n",
      "Score: 0.020003238692879677\t \n",
      "Topic: 0.009*\"david\" + 0.008*\"monday\" + 0.008*\"june\" + 0.007*\"open\" + 0.006*\"toni\" + 0.006*\"updat\" + 0.006*\"abbott\" + 0.006*\"social\" + 0.005*\"extend\" + 0.005*\"quiz\"\n",
      "\n",
      "Score: 0.02000323124229908\t \n",
      "Topic: 0.026*\"countri\" + 0.024*\"hour\" + 0.018*\"market\" + 0.011*\"share\" + 0.008*\"busi\" + 0.006*\"australian\" + 0.006*\"august\" + 0.006*\"syria\" + 0.006*\"islam\" + 0.006*\"wall\"\n"
     ]
    }
   ],
   "source": [
    "# Performance evaluation by classifying sample document using LDA TF-IDF model\n",
    "for index, score in sorted(lda_model_tfidf[bow_corpus[4310]], key=lambda tup: -1*tup[1]):\n",
    "    print(\"\\nScore: {}\\t \\nTopic: {}\".format(score, lda_model_tfidf.print_topic(index, 10)))"
   ]
  },
  {
   "cell_type": "code",
   "execution_count": 49,
   "id": "acd8201d",
   "metadata": {},
   "outputs": [
    {
     "name": "stdout",
     "output_type": "stream",
     "text": [
      "Score: 0.8499764800071716\t Topic: 0.030*\"queensland\" + 0.023*\"perth\" + 0.023*\"market\" + 0.019*\"jail\" + 0.019*\"hospit\"\n",
      "Score: 0.016669662669301033\t Topic: 0.031*\"south\" + 0.023*\"north\" + 0.015*\"kill\" + 0.014*\"park\" + 0.014*\"protest\"\n",
      "Score: 0.01666959933936596\t Topic: 0.031*\"govern\" + 0.019*\"council\" + 0.017*\"say\" + 0.017*\"plan\" + 0.014*\"rise\"\n",
      "Score: 0.016669509932398796\t Topic: 0.028*\"trump\" + 0.015*\"tasmania\" + 0.013*\"record\" + 0.012*\"time\" + 0.012*\"break\"\n",
      "Score: 0.016669489443302155\t Topic: 0.032*\"elect\" + 0.018*\"hous\" + 0.016*\"chang\" + 0.016*\"price\" + 0.015*\"canberra\"\n",
      "Score: 0.016669269651174545\t Topic: 0.054*\"australia\" + 0.021*\"countri\" + 0.019*\"rural\" + 0.017*\"hour\" + 0.017*\"live\"\n",
      "Score: 0.01666918210685253\t Topic: 0.021*\"school\" + 0.018*\"interview\" + 0.015*\"labor\" + 0.014*\"indigen\" + 0.013*\"children\"\n",
      "Score: 0.016668954864144325\t Topic: 0.056*\"polic\" + 0.025*\"death\" + 0.023*\"sydney\" + 0.022*\"attack\" + 0.020*\"crash\"\n",
      "Score: 0.016668954864144325\t Topic: 0.021*\"adelaid\" + 0.018*\"open\" + 0.016*\"australian\" + 0.015*\"women\" + 0.015*\"final\"\n",
      "Score: 0.016668954864144325\t Topic: 0.035*\"court\" + 0.024*\"charg\" + 0.023*\"face\" + 0.022*\"murder\" + 0.018*\"accus\"\n"
     ]
    }
   ],
   "source": [
    "# Testing model on unseen document\n",
    "unseen_document = 'How a Pentagon deal became an identity crisis for Google'\n",
    "\n",
    "bow_vector = dictionary.doc2bow(preprocess(unseen_document))\n",
    "for index, score in sorted(lda_model[bow_vector], key=lambda tup: -1*tup[1]):\n",
    "    print(\"Score: {}\\t Topic: {}\".format(score, lda_model.print_topic(index, 5)))"
   ]
  },
  {
   "cell_type": "code",
   "execution_count": null,
   "id": "b50f36ad",
   "metadata": {},
   "outputs": [],
   "source": []
  }
 ],
 "metadata": {
  "kernelspec": {
   "display_name": "Python 3 (ipykernel)",
   "language": "python",
   "name": "python3"
  },
  "language_info": {
   "codemirror_mode": {
    "name": "ipython",
    "version": 3
   },
   "file_extension": ".py",
   "mimetype": "text/x-python",
   "name": "python",
   "nbconvert_exporter": "python",
   "pygments_lexer": "ipython3",
   "version": "3.8.10"
  }
 },
 "nbformat": 4,
 "nbformat_minor": 5
}
