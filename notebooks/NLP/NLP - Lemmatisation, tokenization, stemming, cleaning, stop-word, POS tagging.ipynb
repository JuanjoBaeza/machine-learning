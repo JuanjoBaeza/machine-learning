{
 "cells": [
  {
   "cell_type": "code",
   "execution_count": 2,
   "id": "e32435d1",
   "metadata": {},
   "outputs": [],
   "source": [
    "# https://sanjayasubedi.com.np/nlp/nlp-intro/\n",
    "text = \"This warning shouldn't be taken lightly.\""
   ]
  },
  {
   "cell_type": "code",
   "execution_count": 3,
   "id": "7936bdc1",
   "metadata": {},
   "outputs": [
    {
     "name": "stdout",
     "output_type": "stream",
     "text": [
      "['This', 'warning', \"shouldn't\", 'be', 'taken', 'lightly.']\n"
     ]
    }
   ],
   "source": [
    "#Tokenizacion\n",
    "print(text.split(sep = \" \"))"
   ]
  },
  {
   "cell_type": "code",
   "execution_count": 4,
   "id": "ea099323",
   "metadata": {},
   "outputs": [
    {
     "name": "stdout",
     "output_type": "stream",
     "text": [
      "['This', 'warning', 'shouldnt', 'be', 'taken', 'lightly']\n"
     ]
    }
   ],
   "source": [
    "#Clean punctuation characters\n",
    "import regex as re\n",
    "\n",
    "clean_text = re.sub(r\"\\p{P}+\", \"\", text)\n",
    "print(clean_text.split())"
   ]
  },
  {
   "cell_type": "code",
   "execution_count": 6,
   "id": "5b1dff0b",
   "metadata": {},
   "outputs": [
    {
     "name": "stdout",
     "output_type": "stream",
     "text": [
      "['This', 'warning', 'should', \"n't\", 'be', 'taken', 'lightly', '.']\n"
     ]
    }
   ],
   "source": [
    "#Tokenization with Spacy applied on english languaje\n",
    "import spacy\n",
    "\n",
    "nlp = spacy.load('en_core_web_sm')\n",
    "doc = nlp(text)\n",
    "\n",
    "print([token.text for token in doc])"
   ]
  },
  {
   "cell_type": "code",
   "execution_count": 7,
   "id": "c4172987",
   "metadata": {},
   "outputs": [
    {
     "name": "stdout",
     "output_type": "stream",
     "text": [
      "[('This', True), ('warning', False), ('should', True), (\"n't\", True), ('be', True), ('taken', False), ('lightly', False), ('.', False)]\n"
     ]
    }
   ],
   "source": [
    "#Stop-word removal with Spacy is_stop method\n",
    "print ([(token.text, token.is_stop) for token in doc])"
   ]
  },
  {
   "cell_type": "code",
   "execution_count": 8,
   "id": "b9a2e9ff",
   "metadata": {},
   "outputs": [
    {
     "name": "stdout",
     "output_type": "stream",
     "text": [
      "[('This', 'this'), ('warning', 'warning'), ('should', 'should'), (\"n't\", 'not'), ('be', 'be'), ('taken', 'take'), ('lightly', 'lightly'), ('.', '.')]\n"
     ]
    }
   ],
   "source": [
    "#Lemmatisation\n",
    "print ([(token.text, token.lemma_) for token in nlp(text)])"
   ]
  },
  {
   "cell_type": "code",
   "execution_count": 12,
   "id": "71ff3d6b",
   "metadata": {},
   "outputs": [
    {
     "name": "stdout",
     "output_type": "stream",
     "text": [
      "this warn should n't be taken light .\n"
     ]
    }
   ],
   "source": [
    "#Stemming\n",
    "import nltk\n",
    "from nltk.stem.snowball import SnowballStemmer\n",
    "\n",
    "snowBallStemmer = SnowballStemmer(\"english\", ignore_stopwords=True)\n",
    "wordList  = nltk.word_tokenize(text)\n",
    "stemWords = [snowBallStemmer.stem(word) for word in wordList]\n",
    "\n",
    "print(' '.join(stemWords))"
   ]
  },
  {
   "cell_type": "code",
   "execution_count": 13,
   "id": "0fc75ea4",
   "metadata": {},
   "outputs": [
    {
     "name": "stdout",
     "output_type": "stream",
     "text": [
      "[('This', 'DET'), ('warning', 'NOUN'), ('should', 'AUX'), (\"n't\", 'PART'), ('be', 'AUX'), ('taken', 'VERB'), ('lightly', 'ADV'), ('.', 'PUNCT')]\n"
     ]
    }
   ],
   "source": [
    "#POS tagging\n",
    "print ([(token.text, token.pos_) for token in doc])"
   ]
  }
 ],
 "metadata": {
  "kernelspec": {
   "display_name": "Python 3 (ipykernel)",
   "language": "python",
   "name": "python3"
  },
  "language_info": {
   "codemirror_mode": {
    "name": "ipython",
    "version": 3
   },
   "file_extension": ".py",
   "mimetype": "text/x-python",
   "name": "python",
   "nbconvert_exporter": "python",
   "pygments_lexer": "ipython3",
   "version": "3.8.10"
  }
 },
 "nbformat": 4,
 "nbformat_minor": 5
}
