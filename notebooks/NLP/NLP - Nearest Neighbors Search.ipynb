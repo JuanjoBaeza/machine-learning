{
 "cells": [
  {
   "cell_type": "code",
   "execution_count": 54,
   "id": "918be9b1",
   "metadata": {},
   "outputs": [
    {
     "name": "stdout",
     "output_type": "stream",
     "text": [
      "<class 'sklearn.utils.Bunch'> dict_keys(['data', 'filenames', 'target_names', 'target', 'DESCR'])\n"
     ]
    }
   ],
   "source": [
    "#https://sanjayasubedi.com.np/nlp/nlp-with-python-nearest-neighbor-search/\n",
    "#The 20 newsgroups dataset comprises around 18000 newsgroups posts on 20 topics. \n",
    "#Nearest Neighbor search is used to find objects that are similar to each other. \n",
    "#The idea is that given an input, NN search finds the objects in our database that are similar to the input.\n",
    "from sklearn.datasets import fetch_20newsgroups\n",
    "\n",
    "#spacy.util.set_data_path('/usr/local/lib/python3.8/dist-packages/spacy/data')\n",
    "\n",
    "bunch = fetch_20newsgroups(remove='headers')\n",
    "print(type(bunch), bunch.keys())"
   ]
  },
  {
   "cell_type": "code",
   "execution_count": 55,
   "id": "d943da2e",
   "metadata": {},
   "outputs": [
    {
     "name": "stdout",
     "output_type": "stream",
     "text": [
      " I was wondering if anyone out there could enlighten me on this car I saw\n",
      "the other day. It was a 2-door sports car, looked to be from the late 60s/\n",
      "early 70s. It was called a Bricklin. The doors were really small. In addition,\n",
      "the front bumper was separate from the rest of the body. This is \n",
      "all I know. If anyone can tellme a model name, engine specs, years\n",
      "of production, where this car is made, history, or whatever info you\n",
      "have on this funky looking car, please e-mail.\n",
      "\n",
      "Thanks,\n",
      "- IL\n",
      "   ---- brought to you by your neighborhood Lerxst ----\n",
      "\n",
      "\n",
      "\n",
      "\n",
      "\n"
     ]
    }
   ],
   "source": [
    "print(bunch.data[0])"
   ]
  },
  {
   "cell_type": "code",
   "execution_count": 56,
   "id": "ebc136f0",
   "metadata": {},
   "outputs": [
    {
     "name": "stdout",
     "output_type": "stream",
     "text": [
      "(11314, 10000)\n"
     ]
    }
   ],
   "source": [
    "#Feature extraction\n",
    "from sklearn.feature_extraction.text import TfidfVectorizer\n",
    "\n",
    "vec = TfidfVectorizer(max_features=10_000)\n",
    "features = vec.fit_transform(bunch.data)\n",
    "\n",
    "print(features.shape) # (11314, 10000)"
   ]
  },
  {
   "cell_type": "code",
   "execution_count": 57,
   "id": "f985d477",
   "metadata": {},
   "outputs": [
    {
     "data": {
      "text/plain": [
       "NearestNeighbors(metric='cosine', n_neighbors=10)"
      ]
     },
     "execution_count": 57,
     "metadata": {},
     "output_type": "execute_result"
    }
   ],
   "source": [
    "from sklearn.neighbors import NearestNeighbors\n",
    "\n",
    "knn = NearestNeighbors(n_neighbors=10, metric='cosine')\n",
    "knn.fit(features)"
   ]
  },
  {
   "cell_type": "code",
   "execution_count": 58,
   "id": "6e6a8a76",
   "metadata": {},
   "outputs": [
    {
     "data": {
      "text/plain": [
       "array([[   0,  958, 8013, 8266,  659, 5553, 3819, 2554, 6055, 7993]])"
      ]
     },
     "execution_count": 58,
     "metadata": {},
     "output_type": "execute_result"
    }
   ],
   "source": [
    "knn.kneighbors(features[0:1], return_distance=False)"
   ]
  },
  {
   "cell_type": "code",
   "execution_count": 59,
   "id": "fc61dd07",
   "metadata": {},
   "outputs": [
    {
     "data": {
      "text/plain": [
       "(array([[0.        , 0.35119023, 0.62822688, 0.64738668, 0.66613124,\n",
       "         0.67267273, 0.68149664, 0.68833514, 0.70024449, 0.70169709]]),\n",
       " array([[   0,  958, 8013, 8266,  659, 5553, 3819, 2554, 6055, 7993]]))"
      ]
     },
     "execution_count": 59,
     "metadata": {},
     "output_type": "execute_result"
    }
   ],
   "source": [
    "knn.kneighbors(features[0:1], return_distance=True)"
   ]
  },
  {
   "cell_type": "code",
   "execution_count": 61,
   "id": "f5fe69f0",
   "metadata": {},
   "outputs": [
    {
     "name": "stdout",
     "output_type": "stream",
     "text": [
      "Input text =  any recommendations for good ftp sites? \n",
      "\n",
      "Distance =  0.5870334253639387 Neighbor idx =  89\n",
      "I would like to experiment with the INTEL 8051 family.  Does anyone out  \n",
      "there know of any good FTP sites that might have compiliers, assemblers,  \n",
      "etc.?\n",
      "\n",
      "----------------------------------------------------------------------------------------------------\n",
      "Distance =  0.6566334116701875 Neighbor idx =  7665\n",
      "Hi!\n",
      "\n",
      "I am looking for ftp sites (where there are freewares or sharewares)\n",
      "for Mac. It will help a lot if there are driver source codes in those \n",
      "ftp sites. Any information is appreciated. \n",
      "\n",
      "Thanks in \n",
      "----------------------------------------------------------------------------------------------------\n",
      "====================================================================================================\n",
      "\n",
      "Input text =  i need to clean my car \n",
      "\n",
      "Distance =  0.6592186982514803 Neighbor idx =  8013\n",
      "In article <49422@fibercom.COM> rrg@rtp.fibercom.com (Rhonda Gaines) writes:\n",
      ">\n",
      ">I'm planning on purchasing a new car and will be trading in my '90\n",
      ">Mazda MX-6 DX.  I've still got 2 more years to pay o\n",
      "----------------------------------------------------------------------------------------------------\n",
      "Distance =  0.692693967282819 Neighbor idx =  7993\n",
      "I bought a car with a defunct engine, to use for parts\n",
      "for my old but still running version of the same car.\n",
      "\n",
      "The car I bought has good tires.\n",
      "\n",
      "Is there anything in particular that I should do to\n",
      "stor\n",
      "----------------------------------------------------------------------------------------------------\n",
      "====================================================================================================\n",
      "\n"
     ]
    }
   ],
   "source": [
    "input_texts = [\"any recommendations for good ftp sites?\", \"i need to clean my car\"]\n",
    "input_features = vec.transform(input_texts)\n",
    "\n",
    "D, N = knn.kneighbors(input_features, n_neighbors=2, return_distance=True)\n",
    "\n",
    "for input_text, distances, neighbors in zip(input_texts, D, N):\n",
    "    \n",
    "    print(\"Input text = \", input_text[:200], \"\\n\")\n",
    "    \n",
    "    for dist, neighbor_idx in zip(distances, neighbors):\n",
    "        print(\"Distance = \", dist, \"Neighbor idx = \", neighbor_idx)\n",
    "        print(bunch.data[neighbor_idx][:200])\n",
    "        print(\"-\"*100)\n",
    "        \n",
    "    print(\"=\"*100)\n",
    "    print()"
   ]
  },
  {
   "cell_type": "code",
   "execution_count": 68,
   "id": "81aea153",
   "metadata": {},
   "outputs": [
    {
     "data": {
      "text/html": [
       "<span class=\"tex2jax_ignore\"><div class=\"entities\" style=\"line-height: 2.5; direction: ltr\">But \n",
       "<mark class=\"entity\" style=\"background: #7aecec; padding: 0.45em 0.6em; margin: 0 0.25em; line-height: 1; border-radius: 0.35em;\">\n",
       "    Google\n",
       "    <span style=\"font-size: 0.8em; font-weight: bold; line-height: 1; border-radius: 0.35em; text-transform: uppercase; vertical-align: middle; margin-left: 0.5rem\">ORG</span>\n",
       "</mark>\n",
       " is starting from behind.</div></span>"
      ],
      "text/plain": [
       "<IPython.core.display.HTML object>"
      ]
     },
     "metadata": {},
     "output_type": "display_data"
    }
   ],
   "source": [
    "import spacy\n",
    "from spacy import displacy\n",
    "try:\n",
    "    unicode\n",
    "except:\n",
    "    unicode = str\n",
    "text = unicode('But Google is starting from behind.')\n",
    "\n",
    "nlp = spacy.load('en_core_web_sm')\n",
    "doc = nlp(text)\n",
    "displacy.render(doc, style='ent')"
   ]
  },
  {
   "cell_type": "code",
   "execution_count": null,
   "id": "1073ddaf",
   "metadata": {},
   "outputs": [],
   "source": []
  }
 ],
 "metadata": {
  "kernelspec": {
   "display_name": "Python 3 (ipykernel)",
   "language": "python",
   "name": "python3"
  },
  "language_info": {
   "codemirror_mode": {
    "name": "ipython",
    "version": 3
   },
   "file_extension": ".py",
   "mimetype": "text/x-python",
   "name": "python",
   "nbconvert_exporter": "python",
   "pygments_lexer": "ipython3",
   "version": "3.8.10"
  }
 },
 "nbformat": 4,
 "nbformat_minor": 5
}
