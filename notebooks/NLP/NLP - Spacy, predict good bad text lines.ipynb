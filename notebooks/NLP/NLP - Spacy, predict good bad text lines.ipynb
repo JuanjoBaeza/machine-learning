{
 "cells": [
  {
   "cell_type": "code",
   "execution_count": 49,
   "id": "f66186d2",
   "metadata": {},
   "outputs": [],
   "source": [
    "import pandas as pd"
   ]
  },
  {
   "cell_type": "code",
   "execution_count": 50,
   "id": "53f0aee1",
   "metadata": {},
   "outputs": [
    {
     "data": {
      "text/html": [
       "<div>\n",
       "<style scoped>\n",
       "    .dataframe tbody tr th:only-of-type {\n",
       "        vertical-align: middle;\n",
       "    }\n",
       "\n",
       "    .dataframe tbody tr th {\n",
       "        vertical-align: top;\n",
       "    }\n",
       "\n",
       "    .dataframe thead th {\n",
       "        text-align: right;\n",
       "    }\n",
       "</style>\n",
       "<table border=\"1\" class=\"dataframe\">\n",
       "  <thead>\n",
       "    <tr style=\"text-align: right;\">\n",
       "      <th></th>\n",
       "      <th>Good/Bad</th>\n",
       "      <th>Line</th>\n",
       "    </tr>\n",
       "  </thead>\n",
       "  <tbody>\n",
       "    <tr>\n",
       "      <th>0</th>\n",
       "      <td>Good</td>\n",
       "      <td>You are awesome</td>\n",
       "    </tr>\n",
       "    <tr>\n",
       "      <th>1</th>\n",
       "      <td>Bad</td>\n",
       "      <td>You look ugly</td>\n",
       "    </tr>\n",
       "    <tr>\n",
       "      <th>2</th>\n",
       "      <td>Good</td>\n",
       "      <td>This is so nice</td>\n",
       "    </tr>\n",
       "    <tr>\n",
       "      <th>3</th>\n",
       "      <td>Good</td>\n",
       "      <td>I love this tea</td>\n",
       "    </tr>\n",
       "    <tr>\n",
       "      <th>4</th>\n",
       "      <td>Good</td>\n",
       "      <td>I like the food</td>\n",
       "    </tr>\n",
       "    <tr>\n",
       "      <th>5</th>\n",
       "      <td>Bad</td>\n",
       "      <td>I hated the food</td>\n",
       "    </tr>\n",
       "    <tr>\n",
       "      <th>6</th>\n",
       "      <td>Bad</td>\n",
       "      <td>You are worst person</td>\n",
       "    </tr>\n",
       "  </tbody>\n",
       "</table>\n",
       "</div>"
      ],
      "text/plain": [
       "  Good/Bad                  Line\n",
       "0     Good       You are awesome\n",
       "1      Bad         You look ugly\n",
       "2     Good       This is so nice\n",
       "3     Good       I love this tea\n",
       "4     Good       I like the food\n",
       "5      Bad      I hated the food\n",
       "6      Bad  You are worst person"
      ]
     },
     "execution_count": 50,
     "metadata": {},
     "output_type": "execute_result"
    }
   ],
   "source": [
    "# random lines some good others bad\n",
    "dataset = pd.read_csv('datasets/Random_texts.csv') \n",
    "dataset.head(10)"
   ]
  },
  {
   "cell_type": "code",
   "execution_count": 51,
   "id": "e9fff4d8",
   "metadata": {},
   "outputs": [],
   "source": [
    "import spacy\n",
    "# nlp lib to handle . I'm folowing bag of words approach"
   ]
  },
  {
   "cell_type": "code",
   "execution_count": 52,
   "id": "690ad1d7",
   "metadata": {},
   "outputs": [],
   "source": [
    "nlp = spacy.blank(\"en\")  #model is called nlp\n",
    "\n",
    "# text categroizer wit std settings\n",
    "textcat = nlp.create_pipe(\"textcat\", config={\n",
    "                \"exclusive_classes\": True,\n",
    "                \"architecture\": \"bow\"}) #bow = bag of words\n",
    "\n",
    "nlp.add_pipe(textcat) #add textcat to nlp"
   ]
  },
  {
   "cell_type": "code",
   "execution_count": 62,
   "id": "eb6d5498",
   "metadata": {},
   "outputs": [
    {
     "data": {
      "text/plain": [
       "0"
      ]
     },
     "execution_count": 62,
     "metadata": {},
     "output_type": "execute_result"
    }
   ],
   "source": [
    "textcat.add_label(\"Good\")#add labels\n",
    "textcat.add_label(\"Bad\")"
   ]
  },
  {
   "cell_type": "code",
   "execution_count": 63,
   "id": "95cabca5",
   "metadata": {},
   "outputs": [],
   "source": [
    "train_texts = dataset['Line'].values   #training a Text Categorizer Model\n",
    "train_labels = [{'keys': {'Bad': x == 'Bad', 'Good': x == 'Good'}} \n",
    "                for x in dataset['Good/Bad']]\n",
    "\n",
    "from spacy.util import minibatch\n",
    "optimizer = nlp.begin_training() #create optmizer to be used by spacy to update the model"
   ]
  },
  {
   "cell_type": "code",
   "execution_count": 64,
   "id": "476b8ffa",
   "metadata": {},
   "outputs": [
    {
     "name": "stdout",
     "output_type": "stream",
     "text": [
      "[[0.5 0.5]]\n",
      "['Good']\n"
     ]
    }
   ],
   "source": [
    "Lines = [\"This is the worst and bad thig i do, hate it\"] \n",
    "docs = [nlp.tokenizer(text)for text in Lines]      \n",
    "textcat = nlp.get_pipe('textcat') \n",
    "scores, _ = textcat.predict(docs)  \n",
    "#Prob score for both classes (Good/bad) \n",
    "print(scores)\n",
    "\n",
    "predicted_labels = scores.argmax(axis=1)\n",
    "print([textcat.labels[label] for label in predicted_labels])"
   ]
  }
 ],
 "metadata": {
  "kernelspec": {
   "display_name": "Python 3 (ipykernel)",
   "language": "python",
   "name": "python3"
  },
  "language_info": {
   "codemirror_mode": {
    "name": "ipython",
    "version": 3
   },
   "file_extension": ".py",
   "mimetype": "text/x-python",
   "name": "python",
   "nbconvert_exporter": "python",
   "pygments_lexer": "ipython3",
   "version": "3.8.10"
  }
 },
 "nbformat": 4,
 "nbformat_minor": 5
}
