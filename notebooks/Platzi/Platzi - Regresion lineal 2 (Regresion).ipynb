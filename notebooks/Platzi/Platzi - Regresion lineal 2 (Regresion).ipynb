{
 "cells": [
  {
   "cell_type": "code",
   "execution_count": 59,
   "id": "f3c93b6d",
   "metadata": {},
   "outputs": [
    {
     "data": {
      "text/html": [
       "<div>\n",
       "<style scoped>\n",
       "    .dataframe tbody tr th:only-of-type {\n",
       "        vertical-align: middle;\n",
       "    }\n",
       "\n",
       "    .dataframe tbody tr th {\n",
       "        vertical-align: top;\n",
       "    }\n",
       "\n",
       "    .dataframe thead th {\n",
       "        text-align: right;\n",
       "    }\n",
       "</style>\n",
       "<table border=\"1\" class=\"dataframe\">\n",
       "  <thead>\n",
       "    <tr style=\"text-align: right;\">\n",
       "      <th></th>\n",
       "      <th>TV</th>\n",
       "      <th>Sales</th>\n",
       "    </tr>\n",
       "  </thead>\n",
       "  <tbody>\n",
       "    <tr>\n",
       "      <th>0</th>\n",
       "      <td>230.1</td>\n",
       "      <td>22.1</td>\n",
       "    </tr>\n",
       "    <tr>\n",
       "      <th>1</th>\n",
       "      <td>44.5</td>\n",
       "      <td>10.4</td>\n",
       "    </tr>\n",
       "    <tr>\n",
       "      <th>2</th>\n",
       "      <td>17.2</td>\n",
       "      <td>9.3</td>\n",
       "    </tr>\n",
       "    <tr>\n",
       "      <th>3</th>\n",
       "      <td>151.5</td>\n",
       "      <td>18.5</td>\n",
       "    </tr>\n",
       "    <tr>\n",
       "      <th>4</th>\n",
       "      <td>180.8</td>\n",
       "      <td>12.9</td>\n",
       "    </tr>\n",
       "  </tbody>\n",
       "</table>\n",
       "</div>"
      ],
      "text/plain": [
       "      TV  Sales\n",
       "0  230.1   22.1\n",
       "1   44.5   10.4\n",
       "2   17.2    9.3\n",
       "3  151.5   18.5\n",
       "4  180.8   12.9"
      ]
     },
     "execution_count": 59,
     "metadata": {},
     "output_type": "execute_result"
    }
   ],
   "source": [
    "#################################\n",
    "#    Regresion lineal ventas    #\n",
    "#################################\n",
    "\n",
    "import pandas\n",
    "import numpy as np\n",
    "from matplotlib import pyplot as plt\n",
    "\n",
    "df = pd.read_csv('datasets/tvmarketing.csv')\n",
    "df.head(5)"
   ]
  },
  {
   "cell_type": "code",
   "execution_count": 60,
   "id": "6847a5ae",
   "metadata": {},
   "outputs": [
    {
     "data": {
      "text/plain": [
       "<function matplotlib.pyplot.show(close=None, block=None)>"
      ]
     },
     "execution_count": 60,
     "metadata": {},
     "output_type": "execute_result"
    },
    {
     "data": {
      "image/png": "[encoded data removed]",
      "text/plain": [
       "<Figure size 432x288 with 1 Axes>"
      ]
     },
     "metadata": {
      "needs_background": "light"
     },
     "output_type": "display_data"
    }
   ],
   "source": [
    "plt.scatter(df['TV'], df['Sales'])\n",
    "plt.xlabel('TV')\n",
    "plt.ylabel('Sales')\n",
    "plt.title('Datos')\n",
    "plt.show"
   ]
  },
  {
   "cell_type": "code",
   "execution_count": 61,
   "id": "866d103c",
   "metadata": {},
   "outputs": [
    {
     "data": {
      "text/html": [
       "<div>\n",
       "<style scoped>\n",
       "    .dataframe tbody tr th:only-of-type {\n",
       "        vertical-align: middle;\n",
       "    }\n",
       "\n",
       "    .dataframe tbody tr th {\n",
       "        vertical-align: top;\n",
       "    }\n",
       "\n",
       "    .dataframe thead th {\n",
       "        text-align: right;\n",
       "    }\n",
       "</style>\n",
       "<table border=\"1\" class=\"dataframe\">\n",
       "  <thead>\n",
       "    <tr style=\"text-align: right;\">\n",
       "      <th></th>\n",
       "      <th>TV</th>\n",
       "      <th>Sales</th>\n",
       "    </tr>\n",
       "  </thead>\n",
       "  <tbody>\n",
       "    <tr>\n",
       "      <th>95</th>\n",
       "      <td>163.3</td>\n",
       "      <td>16.9</td>\n",
       "    </tr>\n",
       "    <tr>\n",
       "      <th>15</th>\n",
       "      <td>195.4</td>\n",
       "      <td>22.4</td>\n",
       "    </tr>\n",
       "    <tr>\n",
       "      <th>30</th>\n",
       "      <td>292.9</td>\n",
       "      <td>21.4</td>\n",
       "    </tr>\n",
       "    <tr>\n",
       "      <th>158</th>\n",
       "      <td>11.7</td>\n",
       "      <td>7.3</td>\n",
       "    </tr>\n",
       "    <tr>\n",
       "      <th>128</th>\n",
       "      <td>220.3</td>\n",
       "      <td>24.7</td>\n",
       "    </tr>\n",
       "    <tr>\n",
       "      <th>115</th>\n",
       "      <td>75.1</td>\n",
       "      <td>12.6</td>\n",
       "    </tr>\n",
       "    <tr>\n",
       "      <th>69</th>\n",
       "      <td>216.8</td>\n",
       "      <td>22.3</td>\n",
       "    </tr>\n",
       "    <tr>\n",
       "      <th>170</th>\n",
       "      <td>50.0</td>\n",
       "      <td>8.4</td>\n",
       "    </tr>\n",
       "    <tr>\n",
       "      <th>174</th>\n",
       "      <td>222.4</td>\n",
       "      <td>11.5</td>\n",
       "    </tr>\n",
       "    <tr>\n",
       "      <th>45</th>\n",
       "      <td>175.1</td>\n",
       "      <td>14.9</td>\n",
       "    </tr>\n",
       "  </tbody>\n",
       "</table>\n",
       "</div>"
      ],
      "text/plain": [
       "        TV  Sales\n",
       "95   163.3   16.9\n",
       "15   195.4   22.4\n",
       "30   292.9   21.4\n",
       "158   11.7    7.3\n",
       "128  220.3   24.7\n",
       "115   75.1   12.6\n",
       "69   216.8   22.3\n",
       "170   50.0    8.4\n",
       "174  222.4   11.5\n",
       "45   175.1   14.9"
      ]
     },
     "execution_count": 61,
     "metadata": {},
     "output_type": "execute_result"
    }
   ],
   "source": [
    "# Establecer entrenamiento\n",
    "frac = 0.7 # 70% de datos para el training\n",
    "datos_train = df.sample(frac=frac, random_state=42)\n",
    "datos_train.head(10)"
   ]
  },
  {
   "cell_type": "code",
   "execution_count": 62,
   "id": "bc14aca0",
   "metadata": {},
   "outputs": [
    {
     "data": {
      "text/html": [
       "<div>\n",
       "<style scoped>\n",
       "    .dataframe tbody tr th:only-of-type {\n",
       "        vertical-align: middle;\n",
       "    }\n",
       "\n",
       "    .dataframe tbody tr th {\n",
       "        vertical-align: top;\n",
       "    }\n",
       "\n",
       "    .dataframe thead th {\n",
       "        text-align: right;\n",
       "    }\n",
       "</style>\n",
       "<table border=\"1\" class=\"dataframe\">\n",
       "  <thead>\n",
       "    <tr style=\"text-align: right;\">\n",
       "      <th></th>\n",
       "      <th>TV</th>\n",
       "      <th>Sales</th>\n",
       "    </tr>\n",
       "  </thead>\n",
       "  <tbody>\n",
       "    <tr>\n",
       "      <th>1</th>\n",
       "      <td>44.5</td>\n",
       "      <td>10.4</td>\n",
       "    </tr>\n",
       "    <tr>\n",
       "      <th>7</th>\n",
       "      <td>120.2</td>\n",
       "      <td>13.2</td>\n",
       "    </tr>\n",
       "    <tr>\n",
       "      <th>8</th>\n",
       "      <td>8.6</td>\n",
       "      <td>4.8</td>\n",
       "    </tr>\n",
       "    <tr>\n",
       "      <th>13</th>\n",
       "      <td>97.5</td>\n",
       "      <td>9.7</td>\n",
       "    </tr>\n",
       "    <tr>\n",
       "      <th>14</th>\n",
       "      <td>204.1</td>\n",
       "      <td>19.0</td>\n",
       "    </tr>\n",
       "    <tr>\n",
       "      <th>17</th>\n",
       "      <td>281.4</td>\n",
       "      <td>24.4</td>\n",
       "    </tr>\n",
       "    <tr>\n",
       "      <th>20</th>\n",
       "      <td>218.4</td>\n",
       "      <td>18.0</td>\n",
       "    </tr>\n",
       "    <tr>\n",
       "      <th>21</th>\n",
       "      <td>237.4</td>\n",
       "      <td>12.5</td>\n",
       "    </tr>\n",
       "    <tr>\n",
       "      <th>34</th>\n",
       "      <td>95.7</td>\n",
       "      <td>9.5</td>\n",
       "    </tr>\n",
       "    <tr>\n",
       "      <th>37</th>\n",
       "      <td>74.7</td>\n",
       "      <td>14.7</td>\n",
       "    </tr>\n",
       "  </tbody>\n",
       "</table>\n",
       "</div>"
      ],
      "text/plain": [
       "       TV  Sales\n",
       "1    44.5   10.4\n",
       "7   120.2   13.2\n",
       "8     8.6    4.8\n",
       "13   97.5    9.7\n",
       "14  204.1   19.0\n",
       "17  281.4   24.4\n",
       "20  218.4   18.0\n",
       "21  237.4   12.5\n",
       "34   95.7    9.5\n",
       "37   74.7   14.7"
      ]
     },
     "execution_count": 62,
     "metadata": {},
     "output_type": "execute_result"
    }
   ],
   "source": [
    "datos_test = df[~df.index.isin(datos_train.index)]\n",
    "datos_test.head(10)"
   ]
  },
  {
   "cell_type": "code",
   "execution_count": 63,
   "id": "d21ac142",
   "metadata": {},
   "outputs": [],
   "source": [
    "X = np.array(datos_train['TV'])\n",
    "Y = np.array(datos_train['Sales'])\n",
    "\n",
    "X = X[:,np.newaxis]\n",
    "Y = Y[:,np.newaxis]"
   ]
  },
  {
   "cell_type": "code",
   "execution_count": 64,
   "id": "30e27863",
   "metadata": {},
   "outputs": [
    {
     "data": {
      "text/plain": [
       "0.08434643634073233"
      ]
     },
     "execution_count": 64,
     "metadata": {},
     "output_type": "execute_result"
    }
   ],
   "source": [
    "# Calculo del coeficiente\n",
    "beta1 = float(np.linalg.inv(X.T@X)@X.T@Y)\n",
    "beta1"
   ]
  },
  {
   "cell_type": "code",
   "execution_count": 65,
   "id": "93a8e068",
   "metadata": {},
   "outputs": [
    {
     "data": {
      "text/plain": [
       "1.8159831211794586"
      ]
     },
     "execution_count": 65,
     "metadata": {},
     "output_type": "execute_result"
    }
   ],
   "source": [
    "beta0 = float(Y.mean() - beta1*X.mean())\n",
    "beta0"
   ]
  },
  {
   "cell_type": "code",
   "execution_count": 66,
   "id": "2e961440",
   "metadata": {},
   "outputs": [],
   "source": [
    "# Grafica de la recta de regresión ajustada\n",
    "u = np.linspace(0,300)\n",
    "v = beta0 + beta1*u"
   ]
  },
  {
   "cell_type": "code",
   "execution_count": 67,
   "id": "c2167a50",
   "metadata": {},
   "outputs": [
    {
     "data": {
      "image/png": "[encoded data removed]",
      "text/plain": [
       "<Figure size 432x288 with 1 Axes>"
      ]
     },
     "metadata": {
      "needs_background": "light"
     },
     "output_type": "display_data"
    }
   ],
   "source": [
    "plt.plot(u,v,'r',label='recta_regresion')\n",
    "plt.scatter(datos_train['TV'], datos_train['Sales'], label='puntos_train')\n",
    "plt.scatter(datos_test['TV'], datos_test['Sales'], label='puntos_test')\n",
    "plt.xlabel('TV')\n",
    "plt.xlabel('Sales')\n",
    "plt.title('Datos')\n",
    "plt.legend()\n",
    "plt.show()"
   ]
  },
  {
   "cell_type": "code",
   "execution_count": 68,
   "id": "8f14d821",
   "metadata": {},
   "outputs": [
    {
     "data": {
      "text/html": [
       "<div>\n",
       "<style scoped>\n",
       "    .dataframe tbody tr th:only-of-type {\n",
       "        vertical-align: middle;\n",
       "    }\n",
       "\n",
       "    .dataframe tbody tr th {\n",
       "        vertical-align: top;\n",
       "    }\n",
       "\n",
       "    .dataframe thead th {\n",
       "        text-align: right;\n",
       "    }\n",
       "</style>\n",
       "<table border=\"1\" class=\"dataframe\">\n",
       "  <thead>\n",
       "    <tr style=\"text-align: right;\">\n",
       "      <th></th>\n",
       "      <th>valor_real</th>\n",
       "      <th>prediccion</th>\n",
       "    </tr>\n",
       "  </thead>\n",
       "  <tbody>\n",
       "    <tr>\n",
       "      <th>1</th>\n",
       "      <td>10.4</td>\n",
       "      <td>5.569400</td>\n",
       "    </tr>\n",
       "    <tr>\n",
       "      <th>7</th>\n",
       "      <td>13.2</td>\n",
       "      <td>11.954425</td>\n",
       "    </tr>\n",
       "    <tr>\n",
       "      <th>8</th>\n",
       "      <td>4.8</td>\n",
       "      <td>2.541362</td>\n",
       "    </tr>\n",
       "    <tr>\n",
       "      <th>13</th>\n",
       "      <td>9.7</td>\n",
       "      <td>10.039761</td>\n",
       "    </tr>\n",
       "    <tr>\n",
       "      <th>14</th>\n",
       "      <td>19.0</td>\n",
       "      <td>19.031091</td>\n",
       "    </tr>\n",
       "    <tr>\n",
       "      <th>17</th>\n",
       "      <td>24.4</td>\n",
       "      <td>25.551070</td>\n",
       "    </tr>\n",
       "    <tr>\n",
       "      <th>20</th>\n",
       "      <td>18.0</td>\n",
       "      <td>20.237245</td>\n",
       "    </tr>\n",
       "    <tr>\n",
       "      <th>21</th>\n",
       "      <td>12.5</td>\n",
       "      <td>21.839827</td>\n",
       "    </tr>\n",
       "    <tr>\n",
       "      <th>34</th>\n",
       "      <td>9.5</td>\n",
       "      <td>9.887937</td>\n",
       "    </tr>\n",
       "    <tr>\n",
       "      <th>37</th>\n",
       "      <td>14.7</td>\n",
       "      <td>8.116662</td>\n",
       "    </tr>\n",
       "  </tbody>\n",
       "</table>\n",
       "</div>"
      ],
      "text/plain": [
       "    valor_real  prediccion\n",
       "1         10.4    5.569400\n",
       "7         13.2   11.954425\n",
       "8          4.8    2.541362\n",
       "13         9.7   10.039761\n",
       "14        19.0   19.031091\n",
       "17        24.4   25.551070\n",
       "20        18.0   20.237245\n",
       "21        12.5   21.839827\n",
       "34         9.5    9.887937\n",
       "37        14.7    8.116662"
      ]
     },
     "execution_count": 68,
     "metadata": {},
     "output_type": "execute_result"
    }
   ],
   "source": [
    "# Prediccion y error\n",
    "def prediccion(val):\n",
    "    return beta0 + beta1*val\n",
    "\n",
    "predicho  = prediccion(datos_test['TV'])\n",
    "resultado = {'valor_real':datos_test['Sales'], 'prediccion':predicho}\n",
    "\n",
    "R = pd.DataFrame(data=resultado)\n",
    "R.head(10)"
   ]
  },
  {
   "cell_type": "code",
   "execution_count": 69,
   "id": "e6e82ff7",
   "metadata": {},
   "outputs": [],
   "source": [
    "def error(real, pred):\n",
    "    return np.sum((real-pred)**2)/len(real)"
   ]
  },
  {
   "cell_type": "code",
   "execution_count": 70,
   "id": "a7a5087b",
   "metadata": {},
   "outputs": [
    {
     "name": "stdout",
     "output_type": "stream",
     "text": [
      "ECM = 24.077541\n"
     ]
    }
   ],
   "source": [
    "error_cuadratico = error(R['valor_real'],R['prediccion'])\n",
    "print('ECM = {:3f}'.format(error_cuadratico))"
   ]
  },
  {
   "cell_type": "code",
   "execution_count": 71,
   "id": "9e813da6",
   "metadata": {},
   "outputs": [
    {
     "data": {
      "text/plain": [
       "LinearRegression()"
      ]
     },
     "execution_count": 71,
     "metadata": {},
     "output_type": "execute_result"
    }
   ],
   "source": [
    "##########################################################################################\n",
    "#   Estimacion de los coeficientes de la anterior regresion lineal usando sci-kit learn  #\n",
    "##########################################################################################\n",
    "from sklearn.linear_model import LinearRegression\n",
    "\n",
    "modelo = LinearRegression()\n",
    "modelo.fit(X,Y)"
   ]
  },
  {
   "cell_type": "code",
   "execution_count": 72,
   "id": "4ea5df62",
   "metadata": {},
   "outputs": [
    {
     "name": "stdout",
     "output_type": "stream",
     "text": [
      "beta0 = 0.048756\n"
     ]
    }
   ],
   "source": [
    "print('beta0 = {:3f}'.format(float(modelo.coef_)))"
   ]
  },
  {
   "cell_type": "code",
   "execution_count": 73,
   "id": "c330bb35",
   "metadata": {},
   "outputs": [
    {
     "name": "stdout",
     "output_type": "stream",
     "text": [
      "beta1 = 6.998637\n"
     ]
    }
   ],
   "source": [
    "print('beta1 = {:3f}'.format(float(modelo.intercept_)))"
   ]
  },
  {
   "cell_type": "code",
   "execution_count": 74,
   "id": "f1fed88f",
   "metadata": {},
   "outputs": [],
   "source": [
    "def lin_regplot(X, y, model):\n",
    "    plt.scatter(X, y, c='blue')\n",
    "    plt.plot(X, model.predict(X), color='red')\n",
    "    return None"
   ]
  },
  {
   "cell_type": "code",
   "execution_count": 75,
   "id": "0d379a9b",
   "metadata": {},
   "outputs": [
    {
     "data": {
      "image/png": "[encoded data removed]",
      "text/plain": [
       "<Figure size 432x288 with 1 Axes>"
      ]
     },
     "metadata": {
      "needs_background": "light"
     },
     "output_type": "display_data"
    }
   ],
   "source": [
    "lin_regplot(X, Y, modelo)\n",
    "plt.title('Modelo de regresion')\n",
    "plt.xlabel('TV')\n",
    "plt.ylabel('Sales')\n",
    "plt.show()"
   ]
  },
  {
   "cell_type": "code",
   "execution_count": 76,
   "id": "b6e9a234",
   "metadata": {},
   "outputs": [],
   "source": [
    "X_test = np.array(datos_test['TV'])\n",
    "X_test = X_test[:,np.newaxis]"
   ]
  },
  {
   "cell_type": "code",
   "execution_count": 77,
   "id": "a417340d",
   "metadata": {},
   "outputs": [],
   "source": [
    "prediccion = modelo.predict(X_test)"
   ]
  },
  {
   "cell_type": "code",
   "execution_count": 78,
   "id": "15b1ff91",
   "metadata": {},
   "outputs": [
    {
     "data": {
      "text/html": [
       "<div>\n",
       "<style scoped>\n",
       "    .dataframe tbody tr th:only-of-type {\n",
       "        vertical-align: middle;\n",
       "    }\n",
       "\n",
       "    .dataframe tbody tr th {\n",
       "        vertical-align: top;\n",
       "    }\n",
       "\n",
       "    .dataframe thead th {\n",
       "        text-align: right;\n",
       "    }\n",
       "</style>\n",
       "<table border=\"1\" class=\"dataframe\">\n",
       "  <thead>\n",
       "    <tr style=\"text-align: right;\">\n",
       "      <th></th>\n",
       "      <th>valor_real</th>\n",
       "      <th>prediccion</th>\n",
       "    </tr>\n",
       "  </thead>\n",
       "  <tbody>\n",
       "    <tr>\n",
       "      <th>1</th>\n",
       "      <td>10.4</td>\n",
       "      <td>5.569400</td>\n",
       "    </tr>\n",
       "    <tr>\n",
       "      <th>7</th>\n",
       "      <td>13.2</td>\n",
       "      <td>11.954425</td>\n",
       "    </tr>\n",
       "    <tr>\n",
       "      <th>8</th>\n",
       "      <td>4.8</td>\n",
       "      <td>2.541362</td>\n",
       "    </tr>\n",
       "    <tr>\n",
       "      <th>13</th>\n",
       "      <td>9.7</td>\n",
       "      <td>10.039761</td>\n",
       "    </tr>\n",
       "    <tr>\n",
       "      <th>14</th>\n",
       "      <td>19.0</td>\n",
       "      <td>19.031091</td>\n",
       "    </tr>\n",
       "    <tr>\n",
       "      <th>17</th>\n",
       "      <td>24.4</td>\n",
       "      <td>25.551070</td>\n",
       "    </tr>\n",
       "    <tr>\n",
       "      <th>20</th>\n",
       "      <td>18.0</td>\n",
       "      <td>20.237245</td>\n",
       "    </tr>\n",
       "    <tr>\n",
       "      <th>21</th>\n",
       "      <td>12.5</td>\n",
       "      <td>21.839827</td>\n",
       "    </tr>\n",
       "    <tr>\n",
       "      <th>34</th>\n",
       "      <td>9.5</td>\n",
       "      <td>9.887937</td>\n",
       "    </tr>\n",
       "    <tr>\n",
       "      <th>37</th>\n",
       "      <td>14.7</td>\n",
       "      <td>8.116662</td>\n",
       "    </tr>\n",
       "  </tbody>\n",
       "</table>\n",
       "</div>"
      ],
      "text/plain": [
       "    valor_real  prediccion\n",
       "1         10.4    5.569400\n",
       "7         13.2   11.954425\n",
       "8          4.8    2.541362\n",
       "13         9.7   10.039761\n",
       "14        19.0   19.031091\n",
       "17        24.4   25.551070\n",
       "20        18.0   20.237245\n",
       "21        12.5   21.839827\n",
       "34         9.5    9.887937\n",
       "37        14.7    8.116662"
      ]
     },
     "execution_count": 78,
     "metadata": {},
     "output_type": "execute_result"
    }
   ],
   "source": [
    "resultado = {'valor_real':datos_test['Sales'], 'prediccion':predicho}\n",
    "\n",
    "R = pd.DataFrame(data=resultado)\n",
    "R.head(10)"
   ]
  },
  {
   "cell_type": "code",
   "execution_count": 79,
   "id": "164056fe",
   "metadata": {},
   "outputs": [
    {
     "data": {
      "text/plain": [
       "12.89204473094967"
      ]
     },
     "execution_count": 79,
     "metadata": {},
     "output_type": "execute_result"
    }
   ],
   "source": [
    "# ECM Error cuadrático medio\n",
    "Y_test = np.array(datos_test['Sales'])\n",
    "Y_test = Y_test[:,np.newaxis]\n",
    "\n",
    "error(Y_test,prediccion)"
   ]
  }
 ],
 "metadata": {
  "kernelspec": {
   "display_name": "Python 3 (ipykernel)",
   "language": "python",
   "name": "python3"
  },
  "language_info": {
   "codemirror_mode": {
    "name": "ipython",
    "version": 3
   },
   "file_extension": ".py",
   "mimetype": "text/x-python",
   "name": "python",
   "nbconvert_exporter": "python",
   "pygments_lexer": "ipython3",
   "version": "3.8.10"
  }
 },
 "nbformat": 4,
 "nbformat_minor": 5
}
