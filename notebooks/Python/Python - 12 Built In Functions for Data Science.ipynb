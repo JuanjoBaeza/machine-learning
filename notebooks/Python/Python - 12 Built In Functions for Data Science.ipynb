{
 "cells": [
  {
   "cell_type": "markdown",
   "metadata": {
    "id": "fvyUFBdaoj6O"
   },
   "source": [
    "## **1. Enumerate**"
   ]
  },
  {
   "cell_type": "code",
   "execution_count": 1,
   "metadata": {
    "colab": {
     "base_uri": "https://localhost:8080/"
    },
    "id": "88os1_rr8Rcb",
    "outputId": "e43134c9-757e-4025-86bb-759887d450bc"
   },
   "outputs": [
    {
     "name": "stdout",
     "output_type": "stream",
     "text": [
      "0 Banana\n",
      "1 Strawberry\n",
      "2 Apple\n",
      "3 Orange\n",
      "4 Peach\n"
     ]
    }
   ],
   "source": [
    "fruits = [\"Banana\", \"Strawberry\", \"Apple\", \"Orange\", \"Peach\"]\n",
    "\n",
    "for index, fruit in enumerate(fruits):\n",
    "  print(index, fruit)"
   ]
  },
  {
   "cell_type": "code",
   "execution_count": null,
   "metadata": {
    "colab": {
     "base_uri": "https://localhost:8080/"
    },
    "id": "uo4G-Ly89arY",
    "outputId": "fff611f8-67ac-4775-f8e5-9b84a2a5ac83"
   },
   "outputs": [
    {
     "name": "stdout",
     "output_type": "stream",
     "text": [
      "1 Banana\n",
      "2 Strawberry\n",
      "3 Apple\n",
      "4 Orange\n",
      "5 Peach\n"
     ]
    }
   ],
   "source": [
    "for index, fruit in enumerate(fruits, start=1):\n",
    "  print(index, fruit)"
   ]
  },
  {
   "cell_type": "code",
   "execution_count": null,
   "metadata": {
    "colab": {
     "base_uri": "https://localhost:8080/"
    },
    "id": "RvCYUFrwZ4hU",
    "outputId": "a95c4716-453b-4a25-bf68-0ab29fcbc0db"
   },
   "outputs": [
    {
     "name": "stdout",
     "output_type": "stream",
     "text": [
      "[(1, 'Banana'), (2, 'Strawberry'), (3, 'Apple'), (4, 'Orange'), (5, 'Peach')]\n"
     ]
    }
   ],
   "source": [
    "fruit_list = list(enumerate(fruits, 1))\n",
    "print(fruit_list)"
   ]
  },
  {
   "cell_type": "markdown",
   "metadata": {
    "id": "lK3UFvmYowTx"
   },
   "source": [
    "## **2. Sorted**"
   ]
  },
  {
   "cell_type": "code",
   "execution_count": null,
   "metadata": {
    "colab": {
     "base_uri": "https://localhost:8080/"
    },
    "id": "xM1cb_XHEkzJ",
    "outputId": "ee489856-284e-42b0-c3cd-07471002af42"
   },
   "outputs": [
    {
     "data": {
      "text/plain": [
       "['a', 'b', 'c', 'd', 'e', 'f', 'g', 'h', 'i', 'j']"
      ]
     },
     "execution_count": 6,
     "metadata": {},
     "output_type": "execute_result"
    }
   ],
   "source": [
    "letters = [\"j\",\"b\",\"e\",\"i\",\"f\",\"c\",\"a\",\"d\",\"h\",\"g\"]\n",
    "\n",
    "sorted(letters)"
   ]
  },
  {
   "cell_type": "code",
   "execution_count": null,
   "metadata": {
    "colab": {
     "base_uri": "https://localhost:8080/"
    },
    "id": "mG102ViWESVg",
    "outputId": "563bd41f-f9eb-425a-93e3-4c272a7fb01a"
   },
   "outputs": [
    {
     "data": {
      "text/plain": [
       "[10, 9, 8, 7, 6, 5, 4, 3, 2, 1]"
      ]
     },
     "execution_count": 34,
     "metadata": {},
     "output_type": "execute_result"
    }
   ],
   "source": [
    "numbers = (6,3,7,2,10,1,4,8,5,9)\n",
    "\n",
    "sorted(numbers, reverse=True)"
   ]
  },
  {
   "cell_type": "markdown",
   "metadata": {
    "id": "S05Ple5eo_pG"
   },
   "source": [
    "## **3. Zip**"
   ]
  },
  {
   "cell_type": "code",
   "execution_count": null,
   "metadata": {
    "colab": {
     "base_uri": "https://localhost:8080/"
    },
    "id": "Rjlh216TL15z",
    "outputId": "347d0e28-75d2-49d7-b6c6-44b19194916b"
   },
   "outputs": [
    {
     "name": "stdout",
     "output_type": "stream",
     "text": [
      "[('John', 'Tukey'), ('Amanda', 'MacPherson'), ('Eric', 'Voight'), ('Joanna', 'Halstead')]\n"
     ]
    }
   ],
   "source": [
    "firstnames = [\"John\",\"Amanda\",\"Eric\",\"Joanna\"]\n",
    "lastnames = [\"Tukey\",\"MacPherson\",\"Voight\",\"Halstead\"]\n",
    "\n",
    "x = zip(firstnames,lastnames)\n",
    "print(list(x))"
   ]
  },
  {
   "cell_type": "code",
   "execution_count": null,
   "metadata": {
    "colab": {
     "base_uri": "https://localhost:8080/"
    },
    "id": "bYO1-uL7DixY",
    "outputId": "60e3e4d6-c1b0-48e5-b08d-4abcf8ea8842"
   },
   "outputs": [
    {
     "name": "stdout",
     "output_type": "stream",
     "text": [
      "{'John': 'Tukey', 'Amanda': 'MacPherson', 'Eric': 'Voight', 'Joanna': 'Halstead'}\n"
     ]
    }
   ],
   "source": [
    "#Create dictionary from two lists\n",
    "y = dict(zip(firstnames,lastnames))\n",
    "print(y)"
   ]
  },
  {
   "cell_type": "code",
   "execution_count": null,
   "metadata": {
    "colab": {
     "base_uri": "https://localhost:8080/"
    },
    "id": "XZltVxRBeV5n",
    "outputId": "fd2c079d-da24-4199-bb99-9c215d08bf66"
   },
   "outputs": [
    {
     "name": "stdout",
     "output_type": "stream",
     "text": [
      "John Tukey is 31 years old\n",
      "Amanda MacPherson is 42 years old\n",
      "Eric Voight is 33 years old\n",
      "Joanna Halstead is 50 years old\n"
     ]
    }
   ],
   "source": [
    "ages = [31,42,33,50]\n",
    "\n",
    "for firstname, lastname, age in zip(firstnames, lastnames, ages):\n",
    "    print(f\"{firstname} {lastname} is {age} years old\")"
   ]
  },
  {
   "cell_type": "code",
   "execution_count": null,
   "metadata": {
    "colab": {
     "base_uri": "https://localhost:8080/"
    },
    "id": "ZScRgo4kESjd",
    "outputId": "499bb5d9-d386-4b94-bb3c-215d96dac0aa"
   },
   "outputs": [
    {
     "name": "stdout",
     "output_type": "stream",
     "text": [
      "('John', 'Amanda', 'Eric', 'Joanna')\n",
      "('Tukey', 'MacPherson', 'Voight', 'Halstead')\n"
     ]
    }
   ],
   "source": [
    "#Unpack list of tuples\n",
    "fullnames = [('John', 'Tukey'), ('Amanda', 'MacPherson'), ('Eric', 'Voight'), ('Joanna', 'Halstead')]\n",
    "firstnames, lastnames = zip(*fullnames)\n",
    "\n",
    "print(firstnames)\n",
    "print(lastnames)"
   ]
  },
  {
   "cell_type": "markdown",
   "metadata": {
    "id": "hsfHG83XpOXy"
   },
   "source": [
    "## **4. Map**"
   ]
  },
  {
   "cell_type": "code",
   "execution_count": null,
   "metadata": {
    "colab": {
     "base_uri": "https://localhost:8080/"
    },
    "id": "3b9ueckOPHcC",
    "outputId": "99af7924-5646-437f-e7a9-84bbbe907c96"
   },
   "outputs": [
    {
     "name": "stdout",
     "output_type": "stream",
     "text": [
      "[2, 4, 6, 8, 10]\n"
     ]
    }
   ],
   "source": [
    "numbers = [1,2,3,4,5]\n",
    "\n",
    "def num_doubler(number):\n",
    "  return number * 2\n",
    "\n",
    "x = map(num_doubler,numbers)\n",
    "print(list(x))\n"
   ]
  },
  {
   "cell_type": "markdown",
   "metadata": {
    "id": "lwj-IMirpWjf"
   },
   "source": [
    "## **5. Filter**"
   ]
  },
  {
   "cell_type": "code",
   "execution_count": null,
   "metadata": {
    "colab": {
     "base_uri": "https://localhost:8080/"
    },
    "id": "kiJIPB2CQ7hK",
    "outputId": "be2f14cc-6dba-46ea-aa82-0cd41522f669"
   },
   "outputs": [
    {
     "name": "stdout",
     "output_type": "stream",
     "text": [
      "[2, 4, 6, 8, 10]\n"
     ]
    }
   ],
   "source": [
    "numbers = [1,2,3,4,5,6,7,8,9,10]\n",
    "\n",
    "def is_even(number):\n",
    "  return number % 2 == 0\n",
    "\n",
    "x = filter(is_even,numbers)\n",
    "\n",
    "print(list(x))"
   ]
  },
  {
   "cell_type": "markdown",
   "metadata": {
    "id": "f0o12xREpbRd"
   },
   "source": [
    "## **6. Isinstance**"
   ]
  },
  {
   "cell_type": "code",
   "execution_count": null,
   "metadata": {
    "colab": {
     "base_uri": "https://localhost:8080/"
    },
    "id": "5wRU0xtlSZic",
    "outputId": "249e41d6-8e6e-4ac3-f720-516b281dfd61"
   },
   "outputs": [
    {
     "name": "stdout",
     "output_type": "stream",
     "text": [
      "True\n",
      "True\n",
      "False\n",
      "True\n"
     ]
    }
   ],
   "source": [
    "a = [1,2,3,4,5]\n",
    "b = (4,2)\n",
    "c = \"abcde\"\n",
    "d = 8\n",
    "\n",
    "print(isinstance(a,list))\n",
    "print(isinstance(b,tuple))\n",
    "print(isinstance(c,set))\n",
    "print(isinstance(d,int))"
   ]
  },
  {
   "cell_type": "markdown",
   "metadata": {
    "id": "cWZzpn-Rpi5k"
   },
   "source": [
    "## **7. Range**"
   ]
  },
  {
   "cell_type": "code",
   "execution_count": null,
   "metadata": {
    "colab": {
     "base_uri": "https://localhost:8080/"
    },
    "id": "_t1fKxxnUjBk",
    "outputId": "aa49026b-bfa9-4f97-dc92-906a6624752e"
   },
   "outputs": [
    {
     "name": "stdout",
     "output_type": "stream",
     "text": [
      "[0, 1, 2, 3, 4, 5]\n",
      "[1, 2, 3, 4, 5]\n",
      "[2, 4, 6, 8, 10]\n"
     ]
    }
   ],
   "source": [
    "#List of numbers from 0 to 5\n",
    "print(list(range(6)))\n",
    "\n",
    "#List of numbers from 1 to 5\n",
    "print(list(range(1,6)))\n",
    "\n",
    "#List of even numbers from 2 to 10\n",
    "print(list(range(2,11,2)))"
   ]
  },
  {
   "cell_type": "markdown",
   "metadata": {
    "id": "fGGIdRjRpq4h"
   },
   "source": [
    "## **8. Round**"
   ]
  },
  {
   "cell_type": "code",
   "execution_count": null,
   "metadata": {
    "colab": {
     "base_uri": "https://localhost:8080/"
    },
    "id": "i44-LduMWiMk",
    "outputId": "e47598d1-3f06-4855-ab2e-c0f093e2fb1e"
   },
   "outputs": [
    {
     "name": "stdout",
     "output_type": "stream",
     "text": [
      "3\n",
      "3.14\n"
     ]
    }
   ],
   "source": [
    "pi = 3.14159265359\n",
    "\n",
    "print(round(pi))\n",
    "print(round(pi,2))\n"
   ]
  },
  {
   "cell_type": "markdown",
   "metadata": {
    "id": "BqJfUkyl2vw2"
   },
   "source": [
    "## **9. Set**"
   ]
  },
  {
   "cell_type": "code",
   "execution_count": null,
   "metadata": {
    "colab": {
     "base_uri": "https://localhost:8080/"
    },
    "id": "iNDwy5ip2yYf",
    "outputId": "40c3da18-7818-4f29-a417-b94a2af823a1"
   },
   "outputs": [
    {
     "name": "stdout",
     "output_type": "stream",
     "text": [
      "{1, 2, 3, 4, 5, 'b', 'a'}\n"
     ]
    }
   ],
   "source": [
    "a = [1,2,3,4,5,5,\"a\",\"b\",\"b\"]\n",
    "\n",
    "b = set(a)\n",
    "\n",
    "print(b)"
   ]
  },
  {
   "cell_type": "markdown",
   "metadata": {
    "id": "cIPDlD3u5Hsu"
   },
   "source": [
    "## **10. All and Any**"
   ]
  },
  {
   "cell_type": "code",
   "execution_count": null,
   "metadata": {
    "colab": {
     "base_uri": "https://localhost:8080/"
    },
    "id": "PBxaiKzp5MLj",
    "outputId": "faabcc30-5232-4085-e028-69f851cac871"
   },
   "outputs": [
    {
     "name": "stdout",
     "output_type": "stream",
     "text": [
      "True\n",
      "False\n"
     ]
    }
   ],
   "source": [
    "#Check if all numbers in the list are even\n",
    "print(all([number%2 == 0 for number in [2,4,6,8,10]]))\n",
    "\n",
    "print(all([number%2 == 0 for number in [1,2,3,4,5]]))"
   ]
  },
  {
   "cell_type": "code",
   "execution_count": null,
   "metadata": {
    "colab": {
     "base_uri": "https://localhost:8080/"
    },
    "id": "RN0Sv0TZ5xDI",
    "outputId": "36f4fd68-d729-4c7d-9340-0369dfe5c190"
   },
   "outputs": [
    {
     "name": "stdout",
     "output_type": "stream",
     "text": [
      "True\n",
      "False\n"
     ]
    }
   ],
   "source": [
    "#Check if at least one number in the list is even\n",
    "print(any([number%2 == 0 for number in [1,2,3,4,5]]))\n",
    "\n",
    "print(any([number%2 == 0 for number in [1,3,5,7,9]]))"
   ]
  },
  {
   "cell_type": "markdown",
   "metadata": {
    "id": "-Ez5uJXz9uG5"
   },
   "source": [
    "## **11. Eval**"
   ]
  },
  {
   "cell_type": "code",
   "execution_count": null,
   "metadata": {
    "colab": {
     "base_uri": "https://localhost:8080/"
    },
    "id": "XcG737La9wt2",
    "outputId": "5d279cad-097d-49e7-810f-3b40bdf96db9"
   },
   "outputs": [
    {
     "name": "stdout",
     "output_type": "stream",
     "text": [
      "6\n",
      "4\n",
      "12\n"
     ]
    }
   ],
   "source": [
    "print(eval(\"2+4\"))\n",
    "\n",
    "print(eval(\"2**2\"))\n",
    "\n",
    "print(eval(\"sum([2,4,6])\"))"
   ]
  },
  {
   "cell_type": "markdown",
   "metadata": {
    "id": "XQhLVy4C_GI5"
   },
   "source": [
    "## **12. Format**"
   ]
  },
  {
   "cell_type": "code",
   "execution_count": null,
   "metadata": {
    "colab": {
     "base_uri": "https://localhost:8080/"
    },
    "id": "xhaYK4P6n8AI",
    "outputId": "829051da-59d6-44e1-daa8-2e63eb78b7c1"
   },
   "outputs": [
    {
     "name": "stdout",
     "output_type": "stream",
     "text": [
      "123.46\n",
      "57.5%\n",
      "+1.23e+02\n",
      "1010\n"
     ]
    }
   ],
   "source": [
    "# Float to two decimal places\n",
    "print(format(123.4567898, \".2f\"))\n",
    "\n",
    "#Float to percentage with one decimal place\n",
    "print(format(0.5746,'.1%'))\n",
    "\n",
    "# Exponential notation\n",
    "print(format(123.45789,'+.2e'))\n",
    "\n",
    "#Binary\n",
    "print(format(10,\"b\"))\n"
   ]
  }
 ],
 "metadata": {
  "colab": {
   "name": "12 Python Built-In Functions for Data Science and Analytics.ipynb",
   "provenance": []
  },
  "kernelspec": {
   "display_name": "Python 3 (ipykernel)",
   "language": "python",
   "name": "python3"
  },
  "language_info": {
   "codemirror_mode": {
    "name": "ipython",
    "version": 3
   },
   "file_extension": ".py",
   "mimetype": "text/x-python",
   "name": "python",
   "nbconvert_exporter": "python",
   "pygments_lexer": "ipython3",
   "version": "3.8.10"
  }
 },
 "nbformat": 4,
 "nbformat_minor": 1
}
