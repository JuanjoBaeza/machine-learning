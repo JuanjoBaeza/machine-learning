{
 "cells": [
  {
   "cell_type": "code",
   "execution_count": 4,
   "id": "81861135",
   "metadata": {},
   "outputs": [
    {
     "data": {
      "text/plain": [
       "{'e': 8,\n",
       " 's': 5,\n",
       " 't': 4,\n",
       " 'm': 2,\n",
       " 'i': 3,\n",
       " 'x': 1,\n",
       " 'o': 3,\n",
       " 'p': 2,\n",
       " 'a': 3,\n",
       " 'l': 1,\n",
       " 'b': 1,\n",
       " 'r': 3,\n",
       " 'd': 1,\n",
       " 'q': 1,\n",
       " 'u': 1}"
      ]
     },
     "execution_count": 4,
     "metadata": {},
     "output_type": "execute_result"
    }
   ],
   "source": [
    "def contar_letras(texto):\n",
    "    resultado = {}\n",
    "    texto = texto.lower()\n",
    "    \n",
    "    for letra in texto:\n",
    "        if letra .isalpha() and letra not in resultado:\n",
    "            resultado[letra] = texto.count(letra)\n",
    "    return resultado\n",
    "\n",
    "texto = \"Este es mi texto es este mi palabras por doquier\"\n",
    "\n",
    "contar_letras(texto)"
   ]
  },
  {
   "cell_type": "code",
   "execution_count": 14,
   "id": "c3654a9b",
   "metadata": {},
   "outputs": [
    {
     "data": {
      "text/plain": [
       "'Kia Soul cuesta 19000 dolares | Lamborghini Diablo cuesta 55000 dolares | Ford Fiesta cuesta 13000 dolares | Toyota Prius cuesta 24000 dolares | '"
      ]
     },
     "execution_count": 14,
     "metadata": {},
     "output_type": "execute_result"
    }
   ],
   "source": [
    "def lista_coches(precios_coches):\n",
    "    result = \"\"\n",
    "    for fabricante, precio in precios_coches.items():\n",
    "        result += \"{} cuesta {} dolares | \".format(fabricante, precio)\n",
    "        \n",
    "    return result\n",
    "\n",
    "\n",
    "precios_coches = {\"Kia Soul\":19000, \"Lamborghini Diablo\":55000, \"Ford Fiesta\":13000, \"Toyota Prius\":24000}\n",
    "\n",
    "lista_coches(precios_coches)"
   ]
  },
  {
   "cell_type": "code",
   "execution_count": 6,
   "id": "8d66a871",
   "metadata": {},
   "outputs": [
    {
     "data": {
      "text/plain": [
       "19000"
      ]
     },
     "execution_count": 6,
     "metadata": {},
     "output_type": "execute_result"
    }
   ],
   "source": [
    "car_prices = {\"Kia Soul\":19000, \"Lamborghini Diablo\":55000, \"Ford Fiesta\":13000, \"Toyota Prius\":24000}\n",
    "\n",
    "car_prices['Kia Soul']"
   ]
  },
  {
   "cell_type": "code",
   "execution_count": 19,
   "id": "8e0a9d51",
   "metadata": {},
   "outputs": [
    {
     "name": "stdout",
     "output_type": "stream",
     "text": [
      "3\n",
      "4\n",
      "5\n",
      "6\n"
     ]
    }
   ],
   "source": [
    "for x in range(3,6+1):\n",
    "  print(x)"
   ]
  },
  {
   "cell_type": "code",
   "execution_count": 22,
   "id": "2d655bf5",
   "metadata": {},
   "outputs": [
    {
     "name": "stdout",
     "output_type": "stream",
     "text": [
      "Esta es la FRASE\n"
     ]
    }
   ],
   "source": [
    "def subrayar(frase, palabra):\n",
    "    return(frase.replace(palabra, palabra.upper()))\n",
    "    \n",
    "print(subrayar(\"Esta es la frase\", \"frase\"))"
   ]
  },
  {
   "cell_type": "code",
   "execution_count": 30,
   "id": "6f649972",
   "metadata": {},
   "outputs": [
    {
     "name": "stdout",
     "output_type": "stream",
     "text": [
      "45\n",
      "105\n",
      "183\n",
      "{'pescado': 45, 'fruta': 60, 'carne': 78}\n",
      "dict_keys(['pescado', 'fruta', 'carne'])\n",
      "dict_values([45, 60, 78])\n",
      "45\n"
     ]
    }
   ],
   "source": [
    "def add_prices(basket):\n",
    "    total = 0\n",
    "    for item, price in basket.items():\n",
    "        total += price\n",
    "        print(total)\n",
    "\n",
    "basket = {\"pescado\": 45, \"fruta\": 60, \"carne\": 78}\n",
    "add_prices(basket)\n",
    "\n",
    "print(basket)\n",
    "print(basket.keys())\n",
    "print(basket.values())\n",
    "print(basket[\"pescado\"])"
   ]
  },
  {
   "cell_type": "code",
   "execution_count": 2,
   "id": "03f4f68c",
   "metadata": {},
   "outputs": [
    {
     "name": "stdout",
     "output_type": "stream",
     "text": [
      "(0, 'bread')\n",
      "(1, 'milk')\n",
      "(2, 'butter')\n"
     ]
    }
   ],
   "source": [
    "grocery = ['bread', 'milk', 'butter']\n",
    "\n",
    "for items in enumerate(grocery):\n",
    "    print(items)"
   ]
  },
  {
   "cell_type": "code",
   "execution_count": 3,
   "id": "3866bdeb",
   "metadata": {},
   "outputs": [
    {
     "name": "stdout",
     "output_type": "stream",
     "text": [
      "0 bread\n",
      "1 milk\n",
      "2 butter\n"
     ]
    }
   ],
   "source": [
    "for count, item in enumerate(grocery):\n",
    "  print(count, item)"
   ]
  },
  {
   "cell_type": "code",
   "execution_count": 4,
   "id": "ee4da752",
   "metadata": {},
   "outputs": [
    {
     "data": {
      "text/plain": [
       "{'a', 'b', 'c', 'd', 'e', 'h', 'j', 't', 'w'}"
      ]
     },
     "execution_count": 4,
     "metadata": {},
     "output_type": "execute_result"
    }
   ],
   "source": [
    "a = set('abcthabcjwethddda')\n",
    "a"
   ]
  },
  {
   "cell_type": "code",
   "execution_count": 10,
   "id": "31fe3cbf",
   "metadata": {},
   "outputs": [
    {
     "data": {
      "text/plain": [
       "{'Kushal': 'Fedora', 'Karl': 'Debian', 'Jace': 'Mac'}"
      ]
     },
     "execution_count": 10,
     "metadata": {},
     "output_type": "execute_result"
    }
   ],
   "source": [
    "data = {'Kushal':'Fedora', 'Karl':'Debian', 'Jace':'Mac'}\n",
    "data"
   ]
  },
  {
   "cell_type": "code",
   "execution_count": 13,
   "id": "bb879e46",
   "metadata": {},
   "outputs": [
    {
     "data": {
      "text/plain": [
       "'Fedora'"
      ]
     },
     "execution_count": 13,
     "metadata": {},
     "output_type": "execute_result"
    }
   ],
   "source": [
    "data['Kushal']"
   ]
  },
  {
   "cell_type": "code",
   "execution_count": 14,
   "id": "7bd78fc3",
   "metadata": {},
   "outputs": [
    {
     "name": "stdout",
     "output_type": "stream",
     "text": [
      "Key = Kushal\n",
      "Key = Karl\n",
      "Key = Jace\n"
     ]
    }
   ],
   "source": [
    "for x in data:\n",
    "    print(f\"Key = {x}\")"
   ]
  },
  {
   "cell_type": "code",
   "execution_count": 16,
   "id": "b97bd37a",
   "metadata": {},
   "outputs": [
    {
     "name": "stdout",
     "output_type": "stream",
     "text": [
      "Kushal usa Fedora\n",
      "Karl usa Debian\n",
      "Jace usa Mac\n"
     ]
    }
   ],
   "source": [
    "for x, y in data.items():\n",
    "    print(\"%s usa %s\" % (x, y))"
   ]
  },
  {
   "cell_type": "code",
   "execution_count": 18,
   "id": "0ef49088",
   "metadata": {},
   "outputs": [
    {
     "name": "stdout",
     "output_type": "stream",
     "text": [
      "1 a\n",
      "2 b\n",
      "3 c\n"
     ]
    }
   ],
   "source": [
    "for i, letters in enumerate(['a', 'b', 'c'], start=1):\n",
    "    print(i, letters)"
   ]
  },
  {
   "cell_type": "code",
   "execution_count": null,
   "id": "e54f4d65",
   "metadata": {},
   "outputs": [],
   "source": []
  }
 ],
 "metadata": {
  "kernelspec": {
   "display_name": "Python 3 (ipykernel)",
   "language": "python",
   "name": "python3"
  },
  "language_info": {
   "codemirror_mode": {
    "name": "ipython",
    "version": 3
   },
   "file_extension": ".py",
   "mimetype": "text/x-python",
   "name": "python",
   "nbconvert_exporter": "python",
   "pygments_lexer": "ipython3",
   "version": "3.8.10"
  }
 },
 "nbformat": 4,
 "nbformat_minor": 5
}
