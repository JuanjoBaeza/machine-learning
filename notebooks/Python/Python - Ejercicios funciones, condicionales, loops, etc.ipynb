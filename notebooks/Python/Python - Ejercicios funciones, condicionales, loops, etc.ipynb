{
 "cells": [
  {
   "cell_type": "code",
   "execution_count": 3,
   "id": "928a1215",
   "metadata": {},
   "outputs": [
    {
     "data": {
      "text/plain": [
       "32"
      ]
     },
     "execution_count": 3,
     "metadata": {},
     "output_type": "execute_result"
    }
   ],
   "source": [
    "def mifuncion(data, size):\n",
    "    resultado = data * size\n",
    "    return resultado\n",
    "\n",
    "mifuncion(8,4)"
   ]
  },
  {
   "cell_type": "code",
   "execution_count": 6,
   "id": "5a93c713",
   "metadata": {},
   "outputs": [
    {
     "data": {
      "text/plain": [
       "True"
      ]
     },
     "execution_count": 6,
     "metadata": {},
     "output_type": "execute_result"
    }
   ],
   "source": [
    "def mayor(datos: str, maxsize: int) -> bool:\n",
    "    \"\"\"Return if the length of data is bigger than given maxsize.\n",
    "    \"\"\"\n",
    "    return len(datos) > maxsize\n",
    "\n",
    "mayor(\"hola\", 3)"
   ]
  },
  {
   "cell_type": "code",
   "execution_count": 11,
   "id": "fefc6783",
   "metadata": {},
   "outputs": [
    {
     "name": "stdout",
     "output_type": "stream",
     "text": [
      "Enter a string: omo\n",
      "Yay a palindrome\n"
     ]
    }
   ],
   "source": [
    "def palindrome(s):\n",
    "    return s == s[::-1]\n",
    "\n",
    "if __name__ == \"__main__\":\n",
    "    s = input(\"Enter a string: \")\n",
    "    if palindrome(s):\n",
    "        print(\"Yes it´s a palindrome\")\n",
    "    else:\n",
    "        print(\"No, not a palindrome\")"
   ]
  },
  {
   "cell_type": "code",
   "execution_count": 23,
   "id": "0fbf91a3",
   "metadata": {},
   "outputs": [
    {
     "name": "stdout",
     "output_type": "stream",
     "text": [
      "Before the function call: 9\n",
      "Inside change function: 90\n",
      "After the function call: 90\n"
     ]
    }
   ],
   "source": [
    "# Uso de la propiedad global para mantener el valor de la variable incluso fuera de la funcion\n",
    "def cambio(b):\n",
    "    global a\n",
    "    a = 90\n",
    "    print(a)\n",
    "    \n",
    "a = 9\n",
    "\n",
    "print(\"Before the function call:\", a)\n",
    "print(\"Inside change function:\", end = ' ')\n",
    "\n",
    "cambio(a)\n",
    "\n",
    "print(\"After the function call:\", a)"
   ]
  },
  {
   "cell_type": "code",
   "execution_count": 18,
   "id": "15b008f6",
   "metadata": {},
   "outputs": [
    {
     "name": "stdout",
     "output_type": "stream",
     "text": [
      "Before the function call 9\n",
      "Inside of the change function 90\n",
      "After the function call 9\n"
     ]
    }
   ],
   "source": [
    "def change(a):\n",
    "    a = 90\n",
    "    print(f\"Inside of the change function {a}\")\n",
    "\n",
    "a = 9\n",
    "print(f\"Before the function call {a}\")\n",
    "\n",
    "change(a)\n",
    "print(f\"After the function call {a}\")"
   ]
  },
  {
   "cell_type": "code",
   "execution_count": 24,
   "id": "ec48e010",
   "metadata": {},
   "outputs": [
    {
     "name": "stdout",
     "output_type": "stream",
     "text": [
      "a is 12 and b is 24 and c is 10\n"
     ]
    }
   ],
   "source": [
    "def func(a, b=5, c=10):\n",
    "    print('a is', a, 'and b is', b, 'and c is', c)\n",
    "\n",
    "func(12, 24)"
   ]
  },
  {
   "cell_type": "code",
   "execution_count": 26,
   "id": "eb822345",
   "metadata": {},
   "outputs": [
    {
     "name": "stdout",
     "output_type": "stream",
     "text": [
      "Hello Pepe\n"
     ]
    }
   ],
   "source": [
    "#Argumentos posicionales\n",
    "def hello(*, name='User'):\n",
    "    print(\"Hello %s\" % name)\n",
    "    \n",
    "hello(name=\"Pepe\")"
   ]
  },
  {
   "cell_type": "code",
   "execution_count": 28,
   "id": "b6371500",
   "metadata": {},
   "outputs": [
    {
     "name": "stdout",
     "output_type": "stream",
     "text": [
      "6.4031242374328485\n"
     ]
    }
   ],
   "source": [
    "import math\n",
    "\n",
    "def longest_side(a, b):\n",
    "    \"\"\"\n",
    "    Function to find the length of the longest side of a right triangle.\n",
    "    :arg a: Side a of the triangle\n",
    "    :arg b: Side b of the triangle\n",
    "    :return: Length of the longest side c as float\n",
    "    \"\"\"\n",
    "    \n",
    "    return math.sqrt(a*a + b*b)\n",
    "\n",
    "if __name__ == '__main__':\n",
    "    \n",
    "    print(longest_side(4, 5))"
   ]
  },
  {
   "cell_type": "code",
   "execution_count": 36,
   "id": "72408e9a",
   "metadata": {},
   "outputs": [
    {
     "name": "stdout",
     "output_type": "stream",
     "text": [
      "15\n"
     ]
    }
   ],
   "source": [
    "#Create a function that returns another function to add 5 to the given argument\n",
    "#When we call givemefive, it is actually returning the function add5, and storing into myadder. Finally when we\n",
    "#call the myadder, it adds 5 to the given argument, and returns it.\n",
    "def givemefive():\n",
    "    def add5(x):\n",
    "        return x + 5\n",
    "    return add5\n",
    "\n",
    "myadder = givemefive()\n",
    "print(myadder(10))"
   ]
  },
  {
   "cell_type": "code",
   "execution_count": 33,
   "id": "b57c426a",
   "metadata": {},
   "outputs": [
    {
     "name": "stdout",
     "output_type": "stream",
     "text": [
      "30\n"
     ]
    }
   ],
   "source": [
    "#In this example the internal function is using the x variable from the outer scope. This is also known as closure where\n",
    "#the function is using the environment enclosed.\n",
    "def givemeadder(num):\n",
    "    def internal(x):\n",
    "        return num + x\n",
    "    return internal\n",
    "\n",
    "add10 = givemeadder(10)\n",
    "print(add10(20))"
   ]
  },
  {
   "cell_type": "code",
   "execution_count": 35,
   "id": "fa73ffea",
   "metadata": {},
   "outputs": [
    {
     "name": "stdout",
     "output_type": "stream",
     "text": [
      "101\n"
     ]
    }
   ],
   "source": [
    "#If we need a new function which will add 100 to the given number.\n",
    "add_big = givemeadder(100)\n",
    "print(add_big(1))"
   ]
  },
  {
   "cell_type": "code",
   "execution_count": 37,
   "id": "4e82e4f7",
   "metadata": {},
   "outputs": [
    {
     "name": "stdout",
     "output_type": "stream",
     "text": [
      "[1, 4, 9, 16, 25, 36]\n"
     ]
    }
   ],
   "source": [
    "lista = [1,2,3,4,5,6]\n",
    "\n",
    "def square_fun(numero):\n",
    "    \"Devuelve el cuadrado\"\n",
    "    return numero * numero\n",
    "\n",
    "print(list(map(square_fun, lista)))"
   ]
  },
  {
   "cell_type": "code",
   "execution_count": 38,
   "id": "0b0d867a",
   "metadata": {},
   "outputs": [
    {
     "data": {
      "text/plain": [
       "'Mi nombre es Juanjo y mi edad 49'"
      ]
     },
     "execution_count": 38,
     "metadata": {},
     "output_type": "execute_result"
    }
   ],
   "source": [
    "def mifuncion(nombre, edad):\n",
    "    return f\"Mi nombre es {nombre} y mi edad {edad}\"\n",
    "\n",
    "mifuncion(\"Juanjo\", 49)"
   ]
  },
  {
   "cell_type": "code",
   "execution_count": 39,
   "id": "5739229f",
   "metadata": {},
   "outputs": [
    {
     "name": "stdout",
     "output_type": "stream",
     "text": [
      "We received 3 positional arguments. And they are:\n",
      "30 90 kushal \n",
      "We received 2 keyword arguments. And they are:\n",
      "key=lang and value=python\n",
      "key=editor and value=vim\n"
     ]
    }
   ],
   "source": [
    "#There are times when we don’t know the number of arguments before hand. There can be any number of positional or\n",
    "#keyword arguments passed to the function. This is where we use *args and **kwargs in the function.\n",
    "def unknown(*args, **kwargs):\n",
    "    print(f\"We received {len(args)} positional arguments. And they are:\")\n",
    "    \n",
    "    for arg in args:\n",
    "        print(arg, end= \" \")\n",
    "\n",
    "    print(\"\")\n",
    "\n",
    "    print(f\"We received {len(kwargs)} keyword arguments. And they are:\")\n",
    "\n",
    "    for k, v in kwargs.items():\n",
    "        print(f\"key={k} and value={v}\")\n",
    "\n",
    "unknown(30, 90, \"kushal\", lang=\"python\", editor=\"vim\")"
   ]
  },
  {
   "cell_type": "code",
   "execution_count": 40,
   "id": "238ab706",
   "metadata": {},
   "outputs": [
    {
     "name": "stdout",
     "output_type": "stream",
     "text": [
      "a\n",
      "b\n",
      "c\n"
     ]
    }
   ],
   "source": [
    "values = [\"a\", \"b\", \"c\"]\n",
    "\n",
    "for value in values:\n",
    "    print(value)"
   ]
  },
  {
   "cell_type": "code",
   "execution_count": 41,
   "id": "00d9c4be",
   "metadata": {},
   "outputs": [
    {
     "name": "stdout",
     "output_type": "stream",
     "text": [
      "0 a\n",
      "1 b\n",
      "2 c\n"
     ]
    }
   ],
   "source": [
    "index = 0\n",
    "\n",
    "for value in values:\n",
    "    print(index, value)\n",
    "    index += 1"
   ]
  },
  {
   "cell_type": "code",
   "execution_count": 43,
   "id": "b0a2eabf",
   "metadata": {},
   "outputs": [
    {
     "name": "stdout",
     "output_type": "stream",
     "text": [
      "0 a\n",
      "1 b\n",
      "2 c\n"
     ]
    }
   ],
   "source": [
    "for index in range(len(values)):\n",
    "    value = values[index]\n",
    "    print(index, value)"
   ]
  },
  {
   "cell_type": "code",
   "execution_count": 44,
   "id": "773a6a54",
   "metadata": {},
   "outputs": [
    {
     "name": "stdout",
     "output_type": "stream",
     "text": [
      "0 a\n",
      "1 b\n",
      "2 c\n"
     ]
    }
   ],
   "source": [
    "for count, value in enumerate(values):\n",
    "    print(count, value)"
   ]
  },
  {
   "cell_type": "code",
   "execution_count": 45,
   "id": "9eb3cbf1",
   "metadata": {},
   "outputs": [
    {
     "name": "stdout",
     "output_type": "stream",
     "text": [
      "75\n"
     ]
    }
   ],
   "source": [
    "a = 7\n",
    "b = 5\n",
    "print(str(a) + str(b))"
   ]
  },
  {
   "cell_type": "code",
   "execution_count": 1,
   "id": "87d69303",
   "metadata": {},
   "outputs": [
    {
     "name": "stdout",
     "output_type": "stream",
     "text": [
      "2\n"
     ]
    }
   ],
   "source": [
    "a = 5\n",
    "b = 3\n",
    "print(a % b)"
   ]
  },
  {
   "cell_type": "code",
   "execution_count": 3,
   "id": "e29f48da",
   "metadata": {},
   "outputs": [
    {
     "name": "stdout",
     "output_type": "stream",
     "text": [
      "True\n"
     ]
    }
   ],
   "source": [
    "chars = [\"H\", \"e\", \"l\"]\n",
    "word = \"Hello\"\n",
    "          \n",
    "truths = []\n",
    "          \n",
    "# 1. Loop through the chars\n",
    "for char in chars:\n",
    "    # 2. Check if a character is in the target string\n",
    "    truth = char in word\n",
    "    # 3. Add the truth to a truths list\n",
    "    truths.append(truth)\n",
    "          \n",
    "# 4. Check if all boolean values are True\n",
    "has_all = True\n",
    "for truth in truths:\n",
    "    has_all = has_all and truth\n",
    "          \n",
    "print(has_all)"
   ]
  },
  {
   "cell_type": "code",
   "execution_count": null,
   "id": "6fa939ce",
   "metadata": {},
   "outputs": [],
   "source": []
  }
 ],
 "metadata": {
  "kernelspec": {
   "display_name": "Python 3 (ipykernel)",
   "language": "python",
   "name": "python3"
  },
  "language_info": {
   "codemirror_mode": {
    "name": "ipython",
    "version": 3
   },
   "file_extension": ".py",
   "mimetype": "text/x-python",
   "name": "python",
   "nbconvert_exporter": "python",
   "pygments_lexer": "ipython3",
   "version": "3.8.10"
  }
 },
 "nbformat": 4,
 "nbformat_minor": 5
}
