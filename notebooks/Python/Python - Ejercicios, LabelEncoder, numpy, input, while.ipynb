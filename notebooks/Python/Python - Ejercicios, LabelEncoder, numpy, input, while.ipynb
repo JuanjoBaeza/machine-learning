{
 "cells": [
  {
   "cell_type": "code",
   "execution_count": 1,
   "id": "7a452075",
   "metadata": {},
   "outputs": [
    {
     "name": "stdout",
     "output_type": "stream",
     "text": [
      "Introduce dias: 34\n",
      "Meses = 1 Dias 4\n"
     ]
    }
   ],
   "source": [
    "# Ejemplo 1\n",
    "\n",
    "dias  = int(input(\"Introduce dias: \"))\n",
    "meses = dias/30\n",
    "dias = dias % 30\n",
    "print(\"Meses = %d Dias %d\" % (meses, dias))"
   ]
  },
  {
   "cell_type": "code",
   "execution_count": 3,
   "id": "79f82d5d",
   "metadata": {},
   "outputs": [
    {
     "name": "stdout",
     "output_type": "stream",
     "text": [
      "Numero de camaras vendidas: 10\n",
      "Introduce el importe total de ventas: 1500\n",
      "Bonus        = 2000.00\n",
      "Comision     = 300.00\n",
      "Salario neto = 3800.00\n"
     ]
    }
   ],
   "source": [
    "# Ejemplo 2\n",
    "\n",
    "salario_base = 1500\n",
    "bonus_ratio  = 200\n",
    "comision_ratio = 0.02\n",
    "\n",
    "num_cameras = int(input(\"Numero de camaras vendidas: \"))\n",
    "precio = float(input(\"Introduce el importe total de ventas: \"))\n",
    "\n",
    "bonus = bonus_ratio * num_cameras\n",
    "comision = comision_ratio * num_cameras * precio\n",
    "\n",
    "print(\"Bonus        = %6.2f\" % bonus)\n",
    "print(\"Comision     = %6.2f\" % comision)\n",
    "print(\"Salario neto = %6.2f\" % (salario_base + bonus + comision))"
   ]
  },
  {
   "cell_type": "code",
   "execution_count": 5,
   "id": "ae2fcd8a",
   "metadata": {},
   "outputs": [
    {
     "name": "stdout",
     "output_type": "stream",
     "text": [
      "--------------------------------------------------\n",
      "   1    2    3    4    5    6    7    8    9   10 \n",
      "   2    4    6    8   10   12   14   16   18   20 \n",
      "   3    6    9   12   15   18   21   24   27   30 \n",
      "   4    8   12   16   20   24   28   32   36   40 \n",
      "   5   10   15   20   25   30   35   40   45   50 \n",
      "   6   12   18   24   30   36   42   48   54   60 \n",
      "   7   14   21   28   35   42   49   56   63   70 \n",
      "   8   16   24   32   40   48   56   64   72   80 \n",
      "   9   18   27   36   45   54   63   72   81   90 \n",
      "  10   20   30   40   50   60   70   80   90  100 \n",
      "--------------------------------------------------\n"
     ]
    }
   ],
   "source": [
    "i = 1\n",
    "print(\"-\" * 50)\n",
    "while i < 11:\n",
    "    n = 1\n",
    "    while n <= 10:\n",
    "        print(\"%4d\" % (i * n), end=' ')\n",
    "        n += 1\n",
    "    print()\n",
    "    i += 1\n",
    "print(\"-\" * 50)"
   ]
  },
  {
   "cell_type": "code",
   "execution_count": 6,
   "id": "dd7f111e",
   "metadata": {},
   "outputs": [
    {
     "name": "stdout",
     "output_type": "stream",
     "text": [
      "Please enter an Integer: 3\n",
      "Square is  9\n",
      "Please enter an Integer: 8\n",
      "Square is  64\n",
      "Please enter an Integer: -3\n",
      "Please enter an Integer: -3\n",
      "Please enter an Integer: 5\n",
      "Square is  25\n",
      "Please enter an Integer: 0\n",
      "Goodbye\n"
     ]
    }
   ],
   "source": [
    "while True:\n",
    "    n = int(input(\"Please enter an Integer: \"))\n",
    "    if n < 0:\n",
    "        continue # this will take the execution back to the starting of the loop\n",
    "    elif n == 0:\n",
    "        break\n",
    "    print(\"Square is \", n ** 2)\n",
    "print(\"Goodbye\")"
   ]
  },
  {
   "cell_type": "code",
   "execution_count": 7,
   "id": "6ccb84c7",
   "metadata": {},
   "outputs": [
    {
     "name": "stdout",
     "output_type": "stream",
     "text": [
      "0\n",
      "1\n",
      "2\n",
      "3\n",
      "4\n",
      "Bye bye\n"
     ]
    }
   ],
   "source": [
    "for i in range(0, 5):\n",
    "    print(i)\n",
    "else:\n",
    "    print(\"Bye bye\")"
   ]
  },
  {
   "cell_type": "code",
   "execution_count": 1,
   "id": "a0ff7d74",
   "metadata": {},
   "outputs": [
    {
     "name": "stdout",
     "output_type": "stream",
     "text": [
      "There are 21 sticks, you can take 1-4 number of sticks at a time.\n",
      "Whoever will take the last stick will lose\n",
      "Sticks left:  21\n",
      "Take sticks(1-4):1\n",
      "Computer took:  4 \n",
      "\n",
      "Sticks left:  16\n",
      "Take sticks(1-4):4\n",
      "Computer took:  1 \n",
      "\n",
      "Sticks left:  11\n",
      "Take sticks(1-4):1\n",
      "Computer took:  4 \n",
      "\n",
      "Sticks left:  6\n",
      "Take sticks(1-4):1\n",
      "Computer took:  4 \n",
      "\n",
      "Sticks left:  1\n",
      "Take sticks(1-4):1\n",
      "You took the last stick, you lose\n"
     ]
    }
   ],
   "source": [
    "sticks = 21\n",
    "\n",
    "print(\"There are 21 sticks, you can take 1-4 number of sticks at a time.\")\n",
    "print(\"Whoever will take the last stick will lose\")\n",
    "\n",
    "while True:\n",
    "    print(\"Sticks left: \" , sticks)\n",
    "    sticks_taken = int(input(\"Take sticks(1-4):\"))\n",
    "    \n",
    "    if sticks == 1:\n",
    "        print(\"You took the last stick, you lose\")\n",
    "        break\n",
    "    \n",
    "    if sticks_taken >= 5 or sticks_taken <= 0:\n",
    "        print(\"Wrong choice\")\n",
    "        continue\n",
    "        \n",
    "    print(\"Computer took: \" , (5 - sticks_taken) , \"\\n\")\n",
    "    sticks -= 5"
   ]
  },
  {
   "cell_type": "code",
   "execution_count": 10,
   "id": "2b0518ef",
   "metadata": {},
   "outputs": [
    {
     "data": {
      "text/plain": [
       "{'kushal': 'Fedora', 'kart_': 'Debian', 'Jace': 'Mac'}"
      ]
     },
     "execution_count": 10,
     "metadata": {},
     "output_type": "execute_result"
    }
   ],
   "source": [
    "data = {'kushal':'Fedora', 'kart_':'Debian', 'Jace':'Mac'}\n",
    "data"
   ]
  },
  {
   "cell_type": "code",
   "execution_count": 11,
   "id": "bbb36a4f",
   "metadata": {},
   "outputs": [
    {
     "data": {
      "text/plain": [
       "'Debian'"
      ]
     },
     "execution_count": 11,
     "metadata": {},
     "output_type": "execute_result"
    }
   ],
   "source": [
    "data['kart_']"
   ]
  },
  {
   "cell_type": "code",
   "execution_count": 12,
   "id": "1568be34",
   "metadata": {},
   "outputs": [
    {
     "data": {
      "text/plain": [
       "{'kushal': 'Fedora', 'kart_': 'Debian', 'Jace': 'Mac', 'parthan': 'Ubuntu'}"
      ]
     },
     "execution_count": 12,
     "metadata": {},
     "output_type": "execute_result"
    }
   ],
   "source": [
    "data['parthan'] = 'Ubuntu'\n",
    "data"
   ]
  },
  {
   "cell_type": "code",
   "execution_count": 13,
   "id": "ce29b7fc",
   "metadata": {},
   "outputs": [
    {
     "data": {
      "text/plain": [
       "{'kart_': 'Debian', 'Jace': 'Mac', 'parthan': 'Ubuntu'}"
      ]
     },
     "execution_count": 13,
     "metadata": {},
     "output_type": "execute_result"
    }
   ],
   "source": [
    "del data['kushal']\n",
    "data"
   ]
  },
  {
   "cell_type": "code",
   "execution_count": 14,
   "id": "1da8939c",
   "metadata": {},
   "outputs": [
    {
     "data": {
      "text/plain": [
       "False"
      ]
     },
     "execution_count": 14,
     "metadata": {},
     "output_type": "execute_result"
    }
   ],
   "source": [
    "'Soumya' in data"
   ]
  },
  {
   "cell_type": "code",
   "execution_count": 17,
   "id": "36c7b874",
   "metadata": {},
   "outputs": [
    {
     "name": "stdout",
     "output_type": "stream",
     "text": [
      "Key = kart_\n",
      "Key = Jace\n",
      "Key = parthan\n"
     ]
    }
   ],
   "source": [
    "for x in data:\n",
    "    print(f\"Key = {x}\")"
   ]
  },
  {
   "cell_type": "code",
   "execution_count": 18,
   "id": "2486f6c9",
   "metadata": {},
   "outputs": [
    {
     "name": "stdout",
     "output_type": "stream",
     "text": [
      "kart_ uses Debian\n",
      "Jace uses Mac\n",
      "parthan uses Ubuntu\n"
     ]
    }
   ],
   "source": [
    "for x, y in data.items():\n",
    "    print(\"%s uses %s\" % (x, y))"
   ]
  },
  {
   "cell_type": "code",
   "execution_count": 20,
   "id": "69daa590",
   "metadata": {},
   "outputs": [
    {
     "name": "stdout",
     "output_type": "stream",
     "text": [
      "1 a\n",
      "2 b\n",
      "3 c\n"
     ]
    }
   ],
   "source": [
    "for i, j in enumerate(['a', 'b', 'c'], start=1):\n",
    "    print(i, j)"
   ]
  },
  {
   "cell_type": "code",
   "execution_count": 21,
   "id": "88d639c9",
   "metadata": {},
   "outputs": [
    {
     "name": "stdout",
     "output_type": "stream",
     "text": [
      "Enter the number of students:2\n",
      "Enter the name of the student 1: Juan\n",
      "Enter marks of Physics: 6\n",
      "Enter marks of Maths: 7\n",
      "Enter marks of History: 8\n",
      "Enter the name of the student 2: Pedro\n",
      "Enter marks of Physics: 1\n",
      "Enter marks of Maths: 3\n",
      "Enter marks of History: 4\n",
      "Juan 's total marks 21\n",
      "Juan failed :(\n",
      "Pedro 's total marks 8\n",
      "Pedro failed :(\n"
     ]
    }
   ],
   "source": [
    "n = int(input(\"Enter the number of students:\"))\n",
    "data = {} # here we will store the data\n",
    "languages = ('Physics', 'Maths', 'History') #all languages\n",
    "\n",
    "for i in range(0, n): #for the n number of students\n",
    "    name = input('Enter the name of the student %d: ' % (i + 1)) #Get the name of the student\n",
    "    marks = []\n",
    "\n",
    "    for x in languages:\n",
    "        marks.append(int(input('Enter marks of %s: ' % x))) #Get the marks for languages\n",
    "        data[name] = marks\n",
    "\n",
    "for x, y in data.items():\n",
    "    total = sum(y)\n",
    "    print(\"%s 's total marks %d\" % (x, total))\n",
    "    \n",
    "    if total < 15:\n",
    "        print(\"%s failed :(\" % x)\n",
    "    else:\n",
    "        print(\"%s passed :)\" % x)"
   ]
  },
  {
   "cell_type": "code",
   "execution_count": 22,
   "id": "3c241219",
   "metadata": {},
   "outputs": [
    {
     "data": {
      "text/plain": [
       "{'Juan': [6, 7, 8], 'Pedro': [1, 3, 4]}"
      ]
     },
     "execution_count": 22,
     "metadata": {},
     "output_type": "execute_result"
    }
   ],
   "source": [
    "data"
   ]
  },
  {
   "cell_type": "code",
   "execution_count": 23,
   "id": "c7a689e5",
   "metadata": {},
   "outputs": [
    {
     "data": {
      "text/plain": [
       "('Physics', 'Maths', 'History')"
      ]
     },
     "execution_count": 23,
     "metadata": {},
     "output_type": "execute_result"
    }
   ],
   "source": [
    "languages"
   ]
  },
  {
   "cell_type": "code",
   "execution_count": 1,
   "id": "d36042bf",
   "metadata": {},
   "outputs": [
    {
     "name": "stdout",
     "output_type": "stream",
     "text": [
      "Original array : \n",
      " [0 1 2 3 4 5 6 7]\n",
      "New array : \n",
      " [[0 1 2 3]\n",
      " [4 5 6 7]]\n"
     ]
    }
   ],
   "source": [
    "# Converting a one dimension array into a two dimension array\n",
    "import numpy as np\n",
    "\n",
    "array = np.arange(8) \n",
    "\n",
    "print(\"Original array : \\n\", array)\n",
    "\n",
    "array = np.arange(8).reshape(2, 4)\n",
    "print(\"New array : \\n\", array)"
   ]
  },
  {
   "cell_type": "code",
   "execution_count": 2,
   "id": "4d8f9460",
   "metadata": {},
   "outputs": [
    {
     "name": "stdout",
     "output_type": "stream",
     "text": [
      "We received 3 positional arguments. And they are:\n",
      "30 90 kushal \n",
      "We received 2 keyword arguments. And they are:\n",
      "key=lang and value=python\n",
      "key=editor and value=vim\n"
     ]
    }
   ],
   "source": [
    "def unknown(*args, **kwargs):\n",
    "    print(f\"We received {len(args)} positional arguments. And they are:\")\n",
    "\n",
    "    for arg in args:\n",
    "        print(arg, end= \" \")\n",
    "        \n",
    "    print(\"\")\n",
    "    print(f\"We received {len(kwargs)} keyword arguments. And they are:\")\n",
    "\n",
    "    for k, v in kwargs.items():\n",
    "        print(f\"key={k} and value={v}\")\n",
    "\n",
    "unknown(30, 90, \"kushal\", lang=\"python\", editor=\"vim\")"
   ]
  },
  {
   "cell_type": "code",
   "execution_count": 1,
   "id": "49e166b7",
   "metadata": {},
   "outputs": [
    {
     "data": {
      "text/html": [
       "<div>\n",
       "<style scoped>\n",
       "    .dataframe tbody tr th:only-of-type {\n",
       "        vertical-align: middle;\n",
       "    }\n",
       "\n",
       "    .dataframe tbody tr th {\n",
       "        vertical-align: top;\n",
       "    }\n",
       "\n",
       "    .dataframe thead th {\n",
       "        text-align: right;\n",
       "    }\n",
       "</style>\n",
       "<table border=\"1\" class=\"dataframe\">\n",
       "  <thead>\n",
       "    <tr style=\"text-align: right;\">\n",
       "      <th></th>\n",
       "      <th>Bridge_Types</th>\n",
       "      <th>Bridge_Types_Cat</th>\n",
       "    </tr>\n",
       "  </thead>\n",
       "  <tbody>\n",
       "    <tr>\n",
       "      <th>0</th>\n",
       "      <td>Arch</td>\n",
       "      <td>0</td>\n",
       "    </tr>\n",
       "    <tr>\n",
       "      <th>1</th>\n",
       "      <td>Beam</td>\n",
       "      <td>1</td>\n",
       "    </tr>\n",
       "    <tr>\n",
       "      <th>2</th>\n",
       "      <td>Truss</td>\n",
       "      <td>6</td>\n",
       "    </tr>\n",
       "    <tr>\n",
       "      <th>3</th>\n",
       "      <td>Cantilever</td>\n",
       "      <td>3</td>\n",
       "    </tr>\n",
       "    <tr>\n",
       "      <th>4</th>\n",
       "      <td>Tied Arch</td>\n",
       "      <td>5</td>\n",
       "    </tr>\n",
       "    <tr>\n",
       "      <th>5</th>\n",
       "      <td>Suspension</td>\n",
       "      <td>4</td>\n",
       "    </tr>\n",
       "    <tr>\n",
       "      <th>6</th>\n",
       "      <td>Cable</td>\n",
       "      <td>2</td>\n",
       "    </tr>\n",
       "  </tbody>\n",
       "</table>\n",
       "</div>"
      ],
      "text/plain": [
       "  Bridge_Types  Bridge_Types_Cat\n",
       "0         Arch                 0\n",
       "1         Beam                 1\n",
       "2        Truss                 6\n",
       "3   Cantilever                 3\n",
       "4    Tied Arch                 5\n",
       "5   Suspension                 4\n",
       "6        Cable                 2"
      ]
     },
     "execution_count": 1,
     "metadata": {},
     "output_type": "execute_result"
    }
   ],
   "source": [
    "# import required libraries\n",
    "import pandas as pd\n",
    "import numpy as np\n",
    "\n",
    "# creating initial dataframe\n",
    "bridge_types = ('Arch','Beam','Truss','Cantilever','Tied Arch','Suspension','Cable')\n",
    "bridge_df = pd.DataFrame(bridge_types, columns=['Bridge_Types'])\n",
    "\n",
    "# converting type of columns to 'category'\n",
    "bridge_df['Bridge_Types'] = bridge_df['Bridge_Types'].astype('category')\n",
    "\n",
    "# Assigning numerical values and storing in another column\n",
    "bridge_df['Bridge_Types_Cat'] = bridge_df['Bridge_Types'].cat.codes\n",
    "bridge_df"
   ]
  },
  {
   "cell_type": "code",
   "execution_count": 2,
   "id": "2ac0a557",
   "metadata": {},
   "outputs": [
    {
     "data": {
      "text/html": [
       "<div>\n",
       "<style scoped>\n",
       "    .dataframe tbody tr th:only-of-type {\n",
       "        vertical-align: middle;\n",
       "    }\n",
       "\n",
       "    .dataframe tbody tr th {\n",
       "        vertical-align: top;\n",
       "    }\n",
       "\n",
       "    .dataframe thead th {\n",
       "        text-align: right;\n",
       "    }\n",
       "</style>\n",
       "<table border=\"1\" class=\"dataframe\">\n",
       "  <thead>\n",
       "    <tr style=\"text-align: right;\">\n",
       "      <th></th>\n",
       "      <th>Bridge_Types</th>\n",
       "      <th>Bridge_Types_Cat</th>\n",
       "    </tr>\n",
       "  </thead>\n",
       "  <tbody>\n",
       "    <tr>\n",
       "      <th>0</th>\n",
       "      <td>Arch</td>\n",
       "      <td>0</td>\n",
       "    </tr>\n",
       "    <tr>\n",
       "      <th>1</th>\n",
       "      <td>Beam</td>\n",
       "      <td>1</td>\n",
       "    </tr>\n",
       "    <tr>\n",
       "      <th>2</th>\n",
       "      <td>Truss</td>\n",
       "      <td>6</td>\n",
       "    </tr>\n",
       "    <tr>\n",
       "      <th>3</th>\n",
       "      <td>Cantilever</td>\n",
       "      <td>3</td>\n",
       "    </tr>\n",
       "    <tr>\n",
       "      <th>4</th>\n",
       "      <td>Tied Arch</td>\n",
       "      <td>5</td>\n",
       "    </tr>\n",
       "    <tr>\n",
       "      <th>5</th>\n",
       "      <td>Suspension</td>\n",
       "      <td>4</td>\n",
       "    </tr>\n",
       "    <tr>\n",
       "      <th>6</th>\n",
       "      <td>Cable</td>\n",
       "      <td>2</td>\n",
       "    </tr>\n",
       "  </tbody>\n",
       "</table>\n",
       "</div>"
      ],
      "text/plain": [
       "  Bridge_Types  Bridge_Types_Cat\n",
       "0         Arch                 0\n",
       "1         Beam                 1\n",
       "2        Truss                 6\n",
       "3   Cantilever                 3\n",
       "4    Tied Arch                 5\n",
       "5   Suspension                 4\n",
       "6        Cable                 2"
      ]
     },
     "execution_count": 2,
     "metadata": {},
     "output_type": "execute_result"
    }
   ],
   "source": [
    "import pandas as pd\n",
    "import numpy as np\n",
    "from sklearn.preprocessing import LabelEncoder\n",
    "\n",
    "# creating initial dataframe\n",
    "bridge_types = ('Arch','Beam','Truss','Cantilever','Tied Arch','Suspension','Cable')\n",
    "bridge_df = pd.DataFrame(bridge_types, columns=['Bridge_Types'])\n",
    "\n",
    "# creating instance of labelencoder\n",
    "labelencoder = LabelEncoder()\n",
    "\n",
    "# Assigning numerical values and storing in another column\n",
    "bridge_df['Bridge_Types_Cat'] = labelencoder.fit_transform(bridge_df['Bridge_Types'])\n",
    "bridge_df"
   ]
  },
  {
   "cell_type": "code",
   "execution_count": null,
   "id": "5ef89a2c",
   "metadata": {},
   "outputs": [],
   "source": []
  }
 ],
 "metadata": {
  "kernelspec": {
   "display_name": "Python 3 (ipykernel)",
   "language": "python",
   "name": "python3"
  },
  "language_info": {
   "codemirror_mode": {
    "name": "ipython",
    "version": 3
   },
   "file_extension": ".py",
   "mimetype": "text/x-python",
   "name": "python",
   "nbconvert_exporter": "python",
   "pygments_lexer": "ipython3",
   "version": "3.8.10"
  }
 },
 "nbformat": 4,
 "nbformat_minor": 5
}
