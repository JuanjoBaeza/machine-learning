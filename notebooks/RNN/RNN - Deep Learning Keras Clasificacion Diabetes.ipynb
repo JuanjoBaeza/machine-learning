{
 "cells": [
  {
   "cell_type": "code",
   "execution_count": 6,
   "id": "faa87ad4",
   "metadata": {},
   "outputs": [],
   "source": [
    "# https://machinelearningmastery.com/tutorial-first-neural-network-python-keras/\n",
    "# https://github.com/jbrownlee/Datasets/blob/master/pima-indians-diabetes.names\n",
    "# Load Data.\n",
    "# Define Keras Model.\n",
    "# Compile Keras Model.\n",
    "# Fit Keras Model.\n",
    "# Evaluate Keras Model.\n",
    "# Tie It All Together.\n",
    "# Make Predictions\n",
    "\n",
    "# first neural network with keras tutorial\n",
    "import os\n",
    "os.environ['TF_CPP_MIN_LOG_LEVEL'] = '3' \n",
    "from numpy import loadtxt\n",
    "from tensorflow.keras.models import Sequential\n",
    "from tensorflow.keras.layers import Dense"
   ]
  },
  {
   "cell_type": "code",
   "execution_count": 7,
   "id": "4f3bc3fd",
   "metadata": {},
   "outputs": [],
   "source": [
    "# load the dataset\n",
    "dataset = loadtxt('datasets/pima-indians-diabetes.data.txt', delimiter=',')\n",
    "# split into input (X) and output (y) variables\n",
    "X = dataset[:,0:8]\n",
    "y = dataset[:,8]"
   ]
  },
  {
   "cell_type": "code",
   "execution_count": 8,
   "id": "b865cd31",
   "metadata": {},
   "outputs": [],
   "source": [
    "# define the keras model\n",
    "model = Sequential()\n",
    "model.add(Dense(12, input_shape=(8,), activation='relu'))\n",
    "model.add(Dense(8, activation='relu'))\n",
    "model.add(Dense(1, activation='sigmoid'))"
   ]
  },
  {
   "cell_type": "code",
   "execution_count": 9,
   "id": "b7c20ddb",
   "metadata": {},
   "outputs": [],
   "source": [
    "# compile the keras model\n",
    "model.compile(loss='binary_crossentropy', optimizer='adam', metrics=['accuracy'])"
   ]
  },
  {
   "cell_type": "code",
   "execution_count": 10,
   "id": "83276022",
   "metadata": {},
   "outputs": [
    {
     "name": "stdout",
     "output_type": "stream",
     "text": [
      "Epoch 1/50\n",
      "77/77 [==============================] - 1s 7ms/step - loss: 4.1648 - accuracy: 0.3893\n",
      "Epoch 2/50\n",
      "77/77 [==============================] - 0s 6ms/step - loss: 1.1689 - accuracy: 0.5651\n",
      "Epoch 3/50\n",
      "77/77 [==============================] - 0s 5ms/step - loss: 0.8665 - accuracy: 0.6120\n",
      "Epoch 4/50\n",
      "77/77 [==============================] - 0s 5ms/step - loss: 0.7755 - accuracy: 0.6198\n",
      "Epoch 5/50\n",
      "77/77 [==============================] - 0s 5ms/step - loss: 0.7242 - accuracy: 0.6445\n",
      "Epoch 6/50\n",
      "77/77 [==============================] - 0s 5ms/step - loss: 0.7019 - accuracy: 0.6315\n",
      "Epoch 7/50\n",
      "77/77 [==============================] - 0s 6ms/step - loss: 0.6939 - accuracy: 0.6354\n",
      "Epoch 8/50\n",
      "77/77 [==============================] - 0s 5ms/step - loss: 0.6677 - accuracy: 0.6576\n",
      "Epoch 9/50\n",
      "77/77 [==============================] - 0s 6ms/step - loss: 0.6692 - accuracy: 0.6484\n",
      "Epoch 10/50\n",
      "77/77 [==============================] - 0s 6ms/step - loss: 0.6570 - accuracy: 0.6432\n",
      "Epoch 11/50\n",
      "77/77 [==============================] - 0s 5ms/step - loss: 0.6520 - accuracy: 0.6536\n",
      "Epoch 12/50\n",
      "77/77 [==============================] - 0s 6ms/step - loss: 0.6476 - accuracy: 0.6536\n",
      "Epoch 13/50\n",
      "77/77 [==============================] - 0s 5ms/step - loss: 0.6590 - accuracy: 0.6471\n",
      "Epoch 14/50\n",
      "77/77 [==============================] - 0s 5ms/step - loss: 0.6383 - accuracy: 0.6589\n",
      "Epoch 15/50\n",
      "77/77 [==============================] - 0s 5ms/step - loss: 0.6467 - accuracy: 0.6393\n",
      "Epoch 16/50\n",
      "77/77 [==============================] - 0s 6ms/step - loss: 0.6367 - accuracy: 0.6536\n",
      "Epoch 17/50\n",
      "77/77 [==============================] - 0s 5ms/step - loss: 0.6232 - accuracy: 0.6654\n",
      "Epoch 18/50\n",
      "77/77 [==============================] - 0s 6ms/step - loss: 0.6645 - accuracy: 0.6445\n",
      "Epoch 19/50\n",
      "77/77 [==============================] - 0s 5ms/step - loss: 0.6427 - accuracy: 0.6615\n",
      "Epoch 20/50\n",
      "77/77 [==============================] - 0s 5ms/step - loss: 0.6189 - accuracy: 0.6615\n",
      "Epoch 21/50\n",
      "77/77 [==============================] - 0s 5ms/step - loss: 0.6370 - accuracy: 0.6602\n",
      "Epoch 22/50\n",
      "77/77 [==============================] - 0s 5ms/step - loss: 0.6267 - accuracy: 0.6549\n",
      "Epoch 23/50\n",
      "77/77 [==============================] - 0s 5ms/step - loss: 0.6163 - accuracy: 0.6797\n",
      "Epoch 24/50\n",
      "77/77 [==============================] - 0s 5ms/step - loss: 0.6236 - accuracy: 0.6641\n",
      "Epoch 25/50\n",
      "77/77 [==============================] - 0s 5ms/step - loss: 0.6037 - accuracy: 0.6732\n",
      "Epoch 26/50\n",
      "77/77 [==============================] - 0s 5ms/step - loss: 0.6085 - accuracy: 0.6693\n",
      "Epoch 27/50\n",
      "77/77 [==============================] - 0s 6ms/step - loss: 0.6017 - accuracy: 0.6667\n",
      "Epoch 28/50\n",
      "77/77 [==============================] - 0s 5ms/step - loss: 0.6107 - accuracy: 0.6732\n",
      "Epoch 29/50\n",
      "77/77 [==============================] - 0s 5ms/step - loss: 0.6078 - accuracy: 0.6654\n",
      "Epoch 30/50\n",
      "77/77 [==============================] - 0s 6ms/step - loss: 0.5906 - accuracy: 0.6940\n",
      "Epoch 31/50\n",
      "77/77 [==============================] - 0s 5ms/step - loss: 0.5964 - accuracy: 0.6875\n",
      "Epoch 32/50\n",
      "77/77 [==============================] - 0s 6ms/step - loss: 0.5963 - accuracy: 0.6862\n",
      "Epoch 33/50\n",
      "77/77 [==============================] - 0s 6ms/step - loss: 0.5868 - accuracy: 0.7031\n",
      "Epoch 34/50\n",
      "77/77 [==============================] - 0s 6ms/step - loss: 0.5829 - accuracy: 0.7005\n",
      "Epoch 35/50\n",
      "77/77 [==============================] - 0s 5ms/step - loss: 0.5868 - accuracy: 0.7018\n",
      "Epoch 36/50\n",
      "77/77 [==============================] - 0s 5ms/step - loss: 0.5804 - accuracy: 0.6966\n",
      "Epoch 37/50\n",
      "77/77 [==============================] - 0s 5ms/step - loss: 0.5730 - accuracy: 0.7070\n",
      "Epoch 38/50\n",
      "77/77 [==============================] - 0s 5ms/step - loss: 0.5714 - accuracy: 0.7083\n",
      "Epoch 39/50\n",
      "77/77 [==============================] - 0s 6ms/step - loss: 0.5676 - accuracy: 0.7031\n",
      "Epoch 40/50\n",
      "77/77 [==============================] - 0s 6ms/step - loss: 0.5675 - accuracy: 0.7122\n",
      "Epoch 41/50\n",
      "77/77 [==============================] - 0s 5ms/step - loss: 0.5627 - accuracy: 0.6992\n",
      "Epoch 42/50\n",
      "77/77 [==============================] - 0s 5ms/step - loss: 0.5777 - accuracy: 0.7031\n",
      "Epoch 43/50\n",
      "77/77 [==============================] - 0s 5ms/step - loss: 0.5781 - accuracy: 0.7109\n",
      "Epoch 44/50\n",
      "77/77 [==============================] - 0s 5ms/step - loss: 0.5575 - accuracy: 0.7161\n",
      "Epoch 45/50\n",
      "77/77 [==============================] - 0s 5ms/step - loss: 0.5572 - accuracy: 0.7161\n",
      "Epoch 46/50\n",
      "77/77 [==============================] - 0s 6ms/step - loss: 0.5511 - accuracy: 0.7214\n",
      "Epoch 47/50\n",
      "77/77 [==============================] - 0s 5ms/step - loss: 0.5598 - accuracy: 0.7174\n",
      "Epoch 48/50\n",
      "77/77 [==============================] - 0s 6ms/step - loss: 0.5577 - accuracy: 0.7096\n",
      "Epoch 49/50\n",
      "77/77 [==============================] - 0s 5ms/step - loss: 0.5555 - accuracy: 0.7148\n",
      "Epoch 50/50\n",
      "77/77 [==============================] - 0s 5ms/step - loss: 0.5567 - accuracy: 0.7214\n"
     ]
    },
    {
     "data": {
      "text/plain": [
       "<keras.callbacks.History at 0x7f70b1eb3130>"
      ]
     },
     "execution_count": 10,
     "metadata": {},
     "output_type": "execute_result"
    }
   ],
   "source": [
    "# fit the keras model on the dataset\n",
    "model.fit(X, y, epochs=50, batch_size=10)"
   ]
  },
  {
   "cell_type": "code",
   "execution_count": 11,
   "id": "bf5a7e25",
   "metadata": {},
   "outputs": [
    {
     "name": "stdout",
     "output_type": "stream",
     "text": [
      "24/24 [==============================] - 0s 3ms/step - loss: 0.5882 - accuracy: 0.6992\n",
      "Accuracy: 69.92\n"
     ]
    }
   ],
   "source": [
    "# evaluate the keras model\n",
    "_, accuracy = model.evaluate(X, y)\n",
    "print('Accuracy: %.2f' % (accuracy*100))"
   ]
  },
  {
   "cell_type": "code",
   "execution_count": 12,
   "id": "a6d62baf",
   "metadata": {},
   "outputs": [
    {
     "name": "stdout",
     "output_type": "stream",
     "text": [
      "24/24 [==============================] - 0s 1ms/step\n"
     ]
    }
   ],
   "source": [
    "# make probability predictions with the model\n",
    "predictions = model.predict(X)\n",
    "# round predictions \n",
    "rounded = [round(x[0]) for x in predictions]"
   ]
  },
  {
   "cell_type": "code",
   "execution_count": 13,
   "id": "612f60af",
   "metadata": {},
   "outputs": [
    {
     "name": "stdout",
     "output_type": "stream",
     "text": [
      "24/24 [==============================] - 0s 2ms/step\n"
     ]
    }
   ],
   "source": [
    "# make class predictions with the model\n",
    "predictions = (model.predict(X) > 0.5).astype(int)"
   ]
  },
  {
   "cell_type": "code",
   "execution_count": 14,
   "id": "5cf7c54b",
   "metadata": {},
   "outputs": [
    {
     "name": "stdout",
     "output_type": "stream",
     "text": [
      "[6.0, 148.0, 72.0, 35.0, 0.0, 33.6, 0.627, 50.0] => 0 (expected 1)\n",
      "[1.0, 85.0, 66.0, 29.0, 0.0, 26.6, 0.351, 31.0] => 0 (expected 0)\n",
      "[8.0, 183.0, 64.0, 0.0, 0.0, 23.3, 0.672, 32.0] => 1 (expected 1)\n",
      "[1.0, 89.0, 66.0, 23.0, 94.0, 28.1, 0.167, 21.0] => 0 (expected 0)\n",
      "[0.0, 137.0, 40.0, 35.0, 168.0, 43.1, 2.288, 33.0] => 0 (expected 1)\n"
     ]
    }
   ],
   "source": [
    "# summarize the first 5 cases\n",
    "for i in range(5):\n",
    "    print('%s => %d (expected %d)' % (X[i].tolist(), predictions[i], y[i]))"
   ]
  },
  {
   "cell_type": "code",
   "execution_count": 15,
   "id": "ba486835",
   "metadata": {},
   "outputs": [],
   "source": [
    "#Specifically, you learned the six key steps in using Keras to create a neural network or deep learning model, \n",
    "#step-by-step including:\n",
    "\n",
    "#How to load data.\n",
    "#How to define a neural network in Keras.\n",
    "#How to compile a Keras model using the efficient numerical backend.\n",
    "#How to train a model on data.\n",
    "#How to evaluate a model on data.\n",
    "#How to make predictions with the model."
   ]
  }
 ],
 "metadata": {
  "kernelspec": {
   "display_name": "Python 3 (ipykernel)",
   "language": "python",
   "name": "python3"
  },
  "language_info": {
   "codemirror_mode": {
    "name": "ipython",
    "version": 3
   },
   "file_extension": ".py",
   "mimetype": "text/x-python",
   "name": "python",
   "nbconvert_exporter": "python",
   "pygments_lexer": "ipython3",
   "version": "3.8.10"
  }
 },
 "nbformat": 4,
 "nbformat_minor": 5
}
