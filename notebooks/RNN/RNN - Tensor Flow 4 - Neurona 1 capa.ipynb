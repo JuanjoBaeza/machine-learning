{
 "cells": [
  {
   "cell_type": "code",
   "execution_count": null,
   "id": "61ab79ca",
   "metadata": {},
   "outputs": [],
   "source": [
    "import tensorflow as tf\n",
    "import numpy as np\n",
    "import matplotlib.pyplot as plt\n",
    "\n",
    "# Formula:        Grados_Farenhait = Grados_Celsius x 1.8 + 32\n",
    "# Función lineal: Y = m·x + b\n",
    "\n",
    "celsius   = np.array([-40, -10, 0, 8, 15, 22, 38], dtype=float)\n",
    "farenheit = np.array([-40, 14, 32, 46, 59, 72, 100], dtype=float)\n",
    "\n",
    "capa_oculta1 = tf.keras.layers.Dense(units=3, input_shape=[1])\n",
    "capa_oculta2 = tf.keras.layers.Dense(units=3)\n",
    "salida       = tf.keras.layers.Dense(units=1)\n",
    "\n",
    "modelo = tf.keras.Sequential([capa_oculta1, capa_oculta2, salida])\n",
    "\n",
    "modelo.compile(\n",
    "    optimizer = tf.keras.optimizers.Adam(0.1),\n",
    "    loss = 'mean_squared_error'\n",
    ")\n",
    "\n",
    "print(\"Comenzando entrenamiento modelo...\")\n",
    "historial = modelo.fit(celsius, farenheit, epochs=1000, verbose=False)\n",
    "print(\"Modelo entrenado\")\n",
    "\n",
    "plt.title('Progreso de Pérdida en el Entrenamiento del Modelo')\n",
    "plt.xlabel(\"Entrenamientos\")\n",
    "plt.ylabel(\"Pérdia\")\n",
    "plt.plot(historial.history[\"loss\"])\n",
    "\n",
    "a = input(\"Introduce grados Celsius: \")\n",
    "\n",
    "resultado = modelo.predict([int(a)])\n",
    "print(\"El resultado es \" + str(resultado) + \" grados fahrenheit!\")\n",
    "\n",
    "# Variables internas del modelo\n",
    "print(\"Variables internas dewl modelo\")\n",
    "print(capa_oculta1.get_weights())\n",
    "print(capa_oculta2.get_weights())\n",
    "print(salida.get_weights())"
   ]
  },
  {
   "cell_type": "code",
   "execution_count": null,
   "id": "55606b0d",
   "metadata": {},
   "outputs": [],
   "source": []
  }
 ],
 "metadata": {
  "kernelspec": {
   "display_name": "Python 3 (ipykernel)",
   "language": "python",
   "name": "python3"
  },
  "language_info": {
   "codemirror_mode": {
    "name": "ipython",
    "version": 3
   },
   "file_extension": ".py",
   "mimetype": "text/x-python",
   "name": "python",
   "nbconvert_exporter": "python",
   "pygments_lexer": "ipython3",
   "version": "3.8.10"
  }
 },
 "nbformat": 4,
 "nbformat_minor": 5
}
