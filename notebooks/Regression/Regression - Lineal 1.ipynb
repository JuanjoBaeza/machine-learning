{
 "cells": [
  {
   "cell_type": "code",
   "execution_count": 1,
   "id": "29d2592b",
   "metadata": {},
   "outputs": [],
   "source": [
    "# https://www.iartificial.net/regresion-lineal-con-ejemplos-en-python/\n",
    "\n",
    "%matplotlib inline\n",
    "\n",
    "import matplotlib\n",
    "import numpy as np\n",
    "import matplotlib.pyplot as plt\n",
    "from sklearn.linear_model import LinearRegression"
   ]
  },
  {
   "cell_type": "code",
   "execution_count": 2,
   "id": "b8b56ee6",
   "metadata": {},
   "outputs": [
    {
     "data": {
      "image/png": "[encoded data removed]",
      "text/plain": [
       "<Figure size 432x288 with 1 Axes>"
      ]
     },
     "metadata": {
      "needs_background": "light"
     },
     "output_type": "display_data"
    }
   ],
   "source": [
    "def f(x):  # función f(x) = 0.1*x + 1.25 + 0.2*Ruido_Gaussiano\n",
    "    np.random.seed(42) # para poder reproducirlo\n",
    "    y = 0.1*x + 1.25 + 0.2*np.random.randn(x.shape[0])\n",
    "    return y\n",
    "\n",
    "x = np.arange(0, 20, 0.5) # generamos valores x de 0 a 20 en intervalos de 0.5\n",
    "y = f(x) # calculamos y a partir de la función que hemos generado\n",
    "\n",
    "# hacemos un gráfico de los datos que hemos generado\n",
    "plt.scatter(x,y,label='data', color='blue')\n",
    "plt.title('Datos');\n",
    "\n",
    "# Datos de ejemplo para hacer una regresión lineal: y = 0.1*x + 1.25 + N(0, 0.2)"
   ]
  },
  {
   "cell_type": "code",
   "execution_count": 3,
   "id": "8036c2eb",
   "metadata": {},
   "outputs": [
    {
     "name": "stdout",
     "output_type": "stream",
     "text": [
      "w = [0.09183522], b = 1.2858792525736682\n"
     ]
    }
   ],
   "source": [
    "from sklearn.linear_model import LinearRegression\n",
    "\n",
    "regresion_lineal = LinearRegression() # creamos una instancia de LinearRegression\n",
    "regresion_lineal.fit(x.reshape(-1,1), y) # instruimos a la regresión lineal que aprenda de los datos (x,y)\n",
    "\n",
    "# vemos los parámetros que ha estimado la regresión lineal\n",
    "print('w = ' + str(regresion_lineal.coef_) + ', b = ' + str(regresion_lineal.intercept_))"
   ]
  },
  {
   "cell_type": "code",
   "execution_count": 4,
   "id": "fd1a925d",
   "metadata": {},
   "outputs": [
    {
     "name": "stdout",
     "output_type": "stream",
     "text": [
      "[1.74505534]\n"
     ]
    }
   ],
   "source": [
    "# vamos a predicir y = regresion_lineal(5)\n",
    "nuevo_x = np.array([5]) \n",
    "prediccion = regresion_lineal.predict(nuevo_x.reshape(-1,1))\n",
    "print(prediccion)"
   ]
  },
  {
   "cell_type": "code",
   "execution_count": 5,
   "id": "105b087e",
   "metadata": {},
   "outputs": [
    {
     "name": "stdout",
     "output_type": "stream",
     "text": [
      "Error Cuadrático Medio (MSE) = 0.03318522012927899\n",
      "Raíz del Error Cuadrático Medio (RMSE) = 0.18216810952875093\n"
     ]
    }
   ],
   "source": [
    "# importamos el cálculo del error cuadrático medio (MSE)\n",
    "from sklearn.metrics import mean_squared_error\n",
    "\n",
    "# Predecimos los valores y para los datos usados en el entrenamiento\n",
    "prediccion_entrenamiento = regresion_lineal.predict(x.reshape(-1,1))\n",
    "\n",
    "# Calculamos el Error Cuadrático Medio (MSE = Mean Squared Error)\n",
    "mse = mean_squared_error(y_true = y, y_pred = prediccion_entrenamiento)\n",
    "\n",
    "# La raíz cuadrada del MSE es el RMSE\n",
    "rmse = np.sqrt(mse)\n",
    "print('Error Cuadrático Medio (MSE) = ' + str(mse))\n",
    "print('Raíz del Error Cuadrático Medio (RMSE) = ' + str(rmse))"
   ]
  },
  {
   "cell_type": "code",
   "execution_count": 6,
   "id": "db43feec",
   "metadata": {},
   "outputs": [
    {
     "name": "stdout",
     "output_type": "stream",
     "text": [
      "Coeficiente de Determinación R2 = 0.8943593637683117\n"
     ]
    }
   ],
   "source": [
    "# calculamos el coeficiente de determinación R2\n",
    "r2 = regresion_lineal.score(x.reshape(-1,1), y)\n",
    "print('Coeficiente de Determinación R2 = ' + str(r2))"
   ]
  },
  {
   "cell_type": "code",
   "execution_count": 7,
   "id": "7f305582",
   "metadata": {},
   "outputs": [
    {
     "name": "stdout",
     "output_type": "stream",
     "text": [
      "Coefficients: \n",
      " [938.23786125]\n",
      "Mean squared error: 2548.07\n",
      "Coefficient of determination: 0.47\n"
     ]
    },
    {
     "data": {
      "image/png": "[encoded data removed]",
      "text/plain": [
       "<Figure size 432x288 with 1 Axes>"
      ]
     },
     "metadata": {},
     "output_type": "display_data"
    }
   ],
   "source": [
    "# https://scikit-learn.org/stable/auto_examples/linear_model/plot_ols.html\n",
    "\n",
    "import matplotlib.pyplot as plt\n",
    "import numpy as np\n",
    "from sklearn import datasets, linear_model\n",
    "from sklearn.metrics import mean_squared_error, r2_score\n",
    "\n",
    "# Load the diabetes dataset\n",
    "diabetes_X, diabetes_y = datasets.load_diabetes(return_X_y=True)\n",
    "\n",
    "# Use only one feature\n",
    "diabetes_X = diabetes_X[:, np.newaxis, 2]\n",
    "\n",
    "# Split the data into training/testing sets\n",
    "diabetes_X_train = diabetes_X[:-20]\n",
    "diabetes_X_test = diabetes_X[-20:]\n",
    "\n",
    "# Split the targets into training/testing sets\n",
    "diabetes_y_train = diabetes_y[:-20]\n",
    "diabetes_y_test = diabetes_y[-20:]\n",
    "\n",
    "# Create linear regression object\n",
    "regr = linear_model.LinearRegression()\n",
    "\n",
    "# Train the model using the training sets\n",
    "regr.fit(diabetes_X_train, diabetes_y_train)\n",
    "\n",
    "# Make predictions using the testing set\n",
    "diabetes_y_pred = regr.predict(diabetes_X_test)\n",
    "\n",
    "# The coefficients\n",
    "print(\"Coefficients: \\n\", regr.coef_)\n",
    "# The mean squared error\n",
    "print(\"Mean squared error: %.2f\" % mean_squared_error(diabetes_y_test, diabetes_y_pred))\n",
    "# The coefficient of determination: 1 is perfect prediction\n",
    "print(\"Coefficient of determination: %.2f\" % r2_score(diabetes_y_test, diabetes_y_pred))\n",
    "\n",
    "# Plot outputs\n",
    "plt.scatter(diabetes_X_test, diabetes_y_test, color=\"black\")\n",
    "plt.plot(diabetes_X_test, diabetes_y_pred, color=\"blue\", linewidth=3)\n",
    "\n",
    "plt.xticks(())\n",
    "plt.yticks(())\n",
    "\n",
    "plt.show()"
   ]
  },
  {
   "cell_type": "code",
   "execution_count": 8,
   "id": "761f96dc",
   "metadata": {},
   "outputs": [],
   "source": [
    "# https://machinelearningparatodos.com/regresion-lineal-en-python/\n",
    "import numpy as np\n",
    "import random\n",
    "from sklearn import linear_model\n",
    "from sklearn.metrics import mean_squared_error, r2_score\n",
    "import matplotlib.pyplot as plt\n",
    "%matplotlib inline"
   ]
  },
  {
   "cell_type": "code",
   "execution_count": 9,
   "id": "60633747",
   "metadata": {},
   "outputs": [
    {
     "data": {
      "image/png": "[encoded data removed]",
      "text/plain": [
       "<Figure size 432x288 with 1 Axes>"
      ]
     },
     "metadata": {
      "needs_background": "light"
     },
     "output_type": "display_data"
    }
   ],
   "source": [
    "# Generador de distribución de datos para regresión lineal simple\n",
    "\n",
    "def generador_datos_simple(beta, muestras, desviacion):\n",
    "  # Genero n (muestras) valores de x aleatorios entre 0 y 100\n",
    "  x = np.random.random(muestras) * 100\n",
    "  \n",
    "  # Genero un error aleatorio gaussiano con desviación típica (desviacion)\n",
    "  e = np.random.randn(muestras) * desviacion\n",
    "  \n",
    "  # Obtengo el y real como x*beta + error\n",
    "  y = x * beta + e\n",
    "  \n",
    "  return x.reshape((muestras,1)), y.reshape((muestras,1))\n",
    "\n",
    "# Parámetros de la distribución\n",
    "desviacion = 200\n",
    "beta = 10\n",
    "n = 50\n",
    "x, y = generador_datos_simple(beta, n, desviacion)\n",
    "\n",
    "# Represento los datos generados\n",
    "plt.scatter(x, y)\n",
    "plt.show()"
   ]
  },
  {
   "cell_type": "code",
   "execution_count": 10,
   "id": "68749ccd",
   "metadata": {},
   "outputs": [
    {
     "name": "stdout",
     "output_type": "stream",
     "text": [
      "Coeficiente beta1:  [9.508124]\n"
     ]
    }
   ],
   "source": [
    "# Creo un modelo de regresión lineal\n",
    "modelo = linear_model.LinearRegression()\n",
    " \n",
    "# Entreno el modelo con los datos (X,Y)\n",
    "modelo.fit(x, y)\n",
    "# Ahora puedo obtener el coeficiente b_1\n",
    "print('Coeficiente beta1: ', modelo.coef_[0])\n",
    " \n",
    "# Podemos predecir usando el modelo\n",
    "y_pred = modelo.predict(x)"
   ]
  },
  {
   "cell_type": "code",
   "execution_count": 11,
   "id": "7dd98074",
   "metadata": {},
   "outputs": [
    {
     "data": {
      "image/png": "[encoded data removed]",
      "text/plain": [
       "<Figure size 432x288 with 1 Axes>"
      ]
     },
     "metadata": {
      "needs_background": "light"
     },
     "output_type": "display_data"
    }
   ],
   "source": [
    "# Representamos el ajuste (rojo) y la recta Y = beta*x (verde)\n",
    "plt.scatter(x, y)\n",
    "plt.plot(x, y_pred, color='red')\n",
    "\n",
    "x_real = np.array([0, 100])\n",
    "y_real = x_real*beta\n",
    "\n",
    "plt.plot(x_real, y_real, color='green')\n",
    "plt.show()"
   ]
  }
 ],
 "metadata": {
  "kernelspec": {
   "display_name": "Python 3 (ipykernel)",
   "language": "python",
   "name": "python3"
  },
  "language_info": {
   "codemirror_mode": {
    "name": "ipython",
    "version": 3
   },
   "file_extension": ".py",
   "mimetype": "text/x-python",
   "name": "python",
   "nbconvert_exporter": "python",
   "pygments_lexer": "ipython3",
   "version": "3.8.10"
  }
 },
 "nbformat": 4,
 "nbformat_minor": 5
}
