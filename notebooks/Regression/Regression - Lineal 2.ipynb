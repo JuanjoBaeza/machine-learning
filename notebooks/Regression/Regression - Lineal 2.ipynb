{
 "cells": [
  {
   "cell_type": "code",
   "execution_count": 1,
   "id": "c35ad39b",
   "metadata": {},
   "outputs": [
    {
     "name": "stdout",
     "output_type": "stream",
     "text": [
      "Valor w (pendiente) = [0.09183522], Valor b (intersección) = 1.2858792525736682\n",
      "Valor de y =[1.74505534] para un valor de x=5\n",
      "Error Cuadrático Medio (MSE) = 0.03318522012927899\n",
      "Raíz del Error Cuadrático Medio (RMSE) = 0.18216810952875093\n",
      "Coeficiente de Determinación R2 (score) = 0.8943593637683117\n"
     ]
    },
    {
     "data": {
      "image/png": "[encoded data removed]",
      "text/plain": [
       "<Figure size 432x288 with 1 Axes>"
      ]
     },
     "metadata": {
      "needs_background": "light"
     },
     "output_type": "display_data"
    }
   ],
   "source": [
    "import numpy as np\n",
    "import matplotlib.pyplot as plt\n",
    "from sklearn.linear_model import LinearRegression \n",
    "from sklearn.metrics import mean_squared_error\n",
    "\n",
    "# función f(x) = 0.1·x + 1.25 + 0.2(Ruido_Gaussiano) [ y = w·x + b ]\n",
    "def f(x):  \n",
    "    np.random.seed(42)\n",
    "    y = 0.1*x + 1.25 + 0.2*np.random.randn(x.shape[0])\n",
    "    return y\n",
    "\n",
    "# generamos valores x de 0 a 20 en intervalos de 0.5\n",
    "x = np.arange(0, 20, 0.5) \n",
    "\n",
    "# calculamos y a partir de la función que hemos generado\n",
    "y = f(x)\n",
    "\n",
    "plt.scatter(x, y, label='data', color='blue')\n",
    "plt.title('Datos')\n",
    "\n",
    "#### Hasta aqui el dibujo de la Regresión Lineal ####\n",
    "\n",
    "# creamos una instancia de LinearRegression\n",
    "regresion_lineal = LinearRegression()\n",
    "\n",
    "# instruimos a la regresión lineal que aprenda de los datos (x,y)\n",
    "regresion_lineal.fit(x.reshape(-1,1), y) \n",
    "\n",
    "# vemos los parámetros que ha estimado la regresión lineal\n",
    "print('Valor w (pendiente) = ' + str(regresion_lineal.coef_) + ', Valor b (intersección) = ' + str(regresion_lineal.intercept_))\n",
    "\n",
    "\n",
    "w = regresion_lineal.coef_      # w = pendiente\n",
    "b = regresion_lineal.intercept_ # b = interseccion\n",
    "\n",
    "# dibujamos la linea diagonal de nuestra regresión lineal\n",
    "plt.plot(x, w*x + b)\n",
    "\n",
    "# vamos a predecir y = para un valor n de x, regresion_lineal(5)\n",
    "# reshape(-1,1) esto convierte la matriz en un array vertical con 1 columna\n",
    "nuevo_x = np.array(5) \n",
    "prediccion = regresion_lineal.predict(nuevo_x.reshape(-1,1))\n",
    "\n",
    "print('Valor de y =' + str(prediccion) + ' para un valor de x=5')\n",
    "\n",
    "# Predecimos los valores y para los datos usados en el entrenamiento\n",
    "prediccion_entrenamiento = regresion_lineal.predict(x.reshape(-1,1))\n",
    "\n",
    "# Calculamos el Error Cuadrático Medio (MSE = Mean Squared Error)\n",
    "mse = mean_squared_error(y_true = y, y_pred = prediccion_entrenamiento)\n",
    "\n",
    "# La raíz cuadrada del MSE es el RMSE\n",
    "rmse = np.sqrt(mse)\n",
    "\n",
    "print('Error Cuadrático Medio (MSE) = ' + str(mse))\n",
    "print('Raíz del Error Cuadrático Medio (RMSE) = ' + str(rmse))\n",
    "\n",
    "# El coeficiente de determinación R2 determina la calidad del modelo \n",
    "# para replicar los resultados, y la proporción de variación de los \n",
    "# resultados que puede explicarse por el modelo\n",
    "\n",
    "# Calculamos el coeficiente de determinación R2\n",
    "r2 = regresion_lineal.score(x.reshape(-1,1), y)\n",
    "\n",
    "print('Coeficiente de Determinación R2 (score) = ' + str(r2))"
   ]
  },
  {
   "cell_type": "code",
   "execution_count": null,
   "id": "45b71663",
   "metadata": {},
   "outputs": [],
   "source": []
  }
 ],
 "metadata": {
  "kernelspec": {
   "display_name": "Python 3 (ipykernel)",
   "language": "python",
   "name": "python3"
  },
  "language_info": {
   "codemirror_mode": {
    "name": "ipython",
    "version": 3
   },
   "file_extension": ".py",
   "mimetype": "text/x-python",
   "name": "python",
   "nbconvert_exporter": "python",
   "pygments_lexer": "ipython3",
   "version": "3.8.10"
  }
 },
 "nbformat": 4,
 "nbformat_minor": 5
}
