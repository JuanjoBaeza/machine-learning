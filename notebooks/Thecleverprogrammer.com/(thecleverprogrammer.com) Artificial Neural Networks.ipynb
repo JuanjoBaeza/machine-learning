{
 "cells": [
  {
   "cell_type": "code",
   "execution_count": 1,
   "id": "9f6320b7",
   "metadata": {},
   "outputs": [],
   "source": [
    "#https://thecleverprogrammer.com/2020/05/24/artificial-neural-networks-with-machine-learning/\n",
    "#https://github.com/zalandoresearch/fashion-mnist\n",
    "import tensorflow as tf\n",
    "from tensorflow import keras\n",
    "import numpy as np\n",
    "import matplotlib.pyplot as plt"
   ]
  },
  {
   "cell_type": "code",
   "execution_count": 3,
   "id": "fd2e8151",
   "metadata": {},
   "outputs": [
    {
     "name": "stdout",
     "output_type": "stream",
     "text": [
      "Downloading data from https://storage.googleapis.com/tensorflow/tf-keras-datasets/train-labels-idx1-ubyte.gz\n",
      "29515/29515 [==============================] - 0s 1us/step\n",
      "Downloading data from https://storage.googleapis.com/tensorflow/tf-keras-datasets/train-images-idx3-ubyte.gz\n",
      "26421880/26421880 [==============================] - 1s 0us/step\n",
      "Downloading data from https://storage.googleapis.com/tensorflow/tf-keras-datasets/t10k-labels-idx1-ubyte.gz\n",
      "5148/5148 [==============================] - 0s 0us/step\n",
      "Downloading data from https://storage.googleapis.com/tensorflow/tf-keras-datasets/t10k-images-idx3-ubyte.gz\n",
      "4422102/4422102 [==============================] - 0s 0us/step\n"
     ]
    }
   ],
   "source": [
    "fashion = keras.datasets.fashion_mnist\n",
    "(trainImages, trainLabels), (testImages, testLabels) = fashion.load_data()"
   ]
  },
  {
   "cell_type": "code",
   "execution_count": 17,
   "id": "0e69ef92",
   "metadata": {},
   "outputs": [
    {
     "name": "stdout",
     "output_type": "stream",
     "text": [
      "Image Label : 3\n"
     ]
    },
    {
     "data": {
      "text/plain": [
       "<matplotlib.image.AxesImage at 0x7fa4de4eac40>"
      ]
     },
     "execution_count": 17,
     "metadata": {},
     "output_type": "execute_result"
    },
    {
     "data": {
      "image/png": "[encoded data removed]",
      "text/plain": [
       "<Figure size 432x288 with 1 Axes>"
      ]
     },
     "metadata": {
      "needs_background": "light"
     },
     "output_type": "display_data"
    }
   ],
   "source": [
    "imgIndex = 3 # Numero de indice de la imagen que seleccionamos\n",
    "img = trainImages[imgIndex]\n",
    "print(\"Image Label :\",trainLabels[imgIndex]) # Imprimimos la etiqueta de la imagen, la lista está mas abajo\n",
    "plt.imshow(img) # Mostramos la imagen"
   ]
  },
  {
   "cell_type": "code",
   "execution_count": 5,
   "id": "75efdca9",
   "metadata": {},
   "outputs": [
    {
     "name": "stdout",
     "output_type": "stream",
     "text": [
      "(60000, 28, 28)\n",
      "(10000, 28, 28)\n"
     ]
    }
   ],
   "source": [
    "print(trainImages.shape)\n",
    "print(testImages.shape)"
   ]
  },
  {
   "cell_type": "code",
   "execution_count": 7,
   "id": "e25e84ad",
   "metadata": {},
   "outputs": [],
   "source": [
    "#Create Neural Network\n",
    "model = keras.Sequential([\n",
    "                          keras.layers.Flatten(input_shape=(28,28)),\n",
    "                          keras.layers.Dense(128, activation=tf.nn.relu),\n",
    "                          keras.layers.Dense(10, activation=tf.nn.softmax)\n",
    "])"
   ]
  },
  {
   "cell_type": "code",
   "execution_count": 9,
   "id": "8bd02209",
   "metadata": {},
   "outputs": [],
   "source": [
    "#Compile model\n",
    "model.compile(optimizer = 'adam',\n",
    "           loss = 'sparse_categorical_crossentropy',\n",
    "           metrics=['accuracy'])"
   ]
  },
  {
   "cell_type": "code",
   "execution_count": 10,
   "id": "44a69986",
   "metadata": {},
   "outputs": [
    {
     "name": "stdout",
     "output_type": "stream",
     "text": [
      "Epoch 1/5\n",
      "1875/1875 [==============================] - 59s 30ms/step - loss: 3.1323 - accuracy: 0.6906\n",
      "Epoch 2/5\n",
      "1875/1875 [==============================] - 64s 34ms/step - loss: 0.7354 - accuracy: 0.7364\n",
      "Epoch 3/5\n",
      "1875/1875 [==============================] - 68s 36ms/step - loss: 0.6480 - accuracy: 0.7695\n",
      "Epoch 4/5\n",
      "1875/1875 [==============================] - 73s 39ms/step - loss: 0.5986 - accuracy: 0.7936\n",
      "Epoch 5/5\n",
      "1875/1875 [==============================] - 79s 42ms/step - loss: 0.5656 - accuracy: 0.8090\n"
     ]
    },
    {
     "data": {
      "text/plain": [
       "<keras.callbacks.History at 0x7fa4464d4130>"
      ]
     },
     "execution_count": 10,
     "metadata": {},
     "output_type": "execute_result"
    }
   ],
   "source": [
    "#Train model\n",
    "model.fit(trainImages, trainLabels, epochs=5, batch_size=32)"
   ]
  },
  {
   "cell_type": "code",
   "execution_count": 11,
   "id": "4f381790",
   "metadata": {},
   "outputs": [
    {
     "name": "stdout",
     "output_type": "stream",
     "text": [
      "313/313 [==============================] - 29s 92ms/step - loss: 0.6478 - accuracy: 0.7982\n"
     ]
    },
    {
     "data": {
      "text/plain": [
       "[0.6478496193885803, 0.7982000112533569]"
      ]
     },
     "execution_count": 11,
     "metadata": {},
     "output_type": "execute_result"
    }
   ],
   "source": [
    "#Evaluate model\n",
    "model.evaluate(testImages, testLabels)"
   ]
  },
  {
   "cell_type": "code",
   "execution_count": 12,
   "id": "8144b983",
   "metadata": {},
   "outputs": [
    {
     "name": "stdout",
     "output_type": "stream",
     "text": [
      "1/1 [==============================] - 0s 146ms/step\n",
      "[[3.3390076e-20 2.7019782e-21 0.0000000e+00 1.1915131e-14 0.0000000e+00\n",
      "  6.7581232e-03 1.0478553e-28 8.7343535e-04 5.4882167e-19 9.9236852e-01]\n",
      " [1.1721997e-03 5.2376779e-12 9.9541819e-01 9.3938525e-06 1.3303496e-06\n",
      "  3.2881014e-26 3.3989237e-03 0.0000000e+00 1.3663119e-08 1.3181418e-37]\n",
      " [3.9084422e-10 1.0000000e+00 9.2374710e-12 1.0663063e-09 2.3339678e-20\n",
      "  0.0000000e+00 9.6894579e-14 0.0000000e+00 1.3858202e-11 0.0000000e+00]\n",
      " [4.2006247e-09 1.0000000e+00 2.5579917e-11 3.1592695e-08 9.2786173e-19\n",
      "  0.0000000e+00 4.4761406e-13 0.0000000e+00 2.3469513e-11 0.0000000e+00]\n",
      " [1.9396840e-01 3.6669482e-13 3.0231278e-02 2.4565554e-04 2.2266981e-05\n",
      "  6.4530279e-20 7.7546304e-01 2.7037344e-36 6.9307775e-05 8.6275430e-25]]\n"
     ]
    }
   ],
   "source": [
    "# Estas son las predicciones de las 5 imágenes, como se vé es una matriz de 5x9, las filas representan las imágenes\n",
    "# seleccionadas del índice y las columnas representan el tanto por ciento que existe de probabilidad de que esa\n",
    "# imagen se corresponda con su etiqueta, vemos como la columna 9 de la fila 1 = 9.9236852e-01 lo que significa que la imagen 0\n",
    "# del indice tiene un 99,23% de probabilidades de que esa sea su etiqueta, es decir, la 9 = Ankle boot\n",
    "\n",
    "predictions = model.predict(testImages[0:5])\n",
    "\n",
    "# Print the predicted labels\n",
    "print(predictions)"
   ]
  },
  {
   "cell_type": "code",
   "execution_count": 13,
   "id": "047b356c",
   "metadata": {},
   "outputs": [
    {
     "name": "stdout",
     "output_type": "stream",
     "text": [
      "[9 2 1 1 6]\n",
      "[9 2 1 1 6]\n"
     ]
    }
   ],
   "source": [
    "#Labels\n",
    "#0-T-shirt/top\n",
    "#1-Trouser\n",
    "#2-Pullover\n",
    "#3-Dress\n",
    "#4-Coat\n",
    "#5-Sandal\n",
    "#6-Shirt\n",
    "#7-Sneaker\n",
    "#8-Bag\n",
    "#9-Ankle boot\n",
    "\n",
    "print(np.argmax(predictions, axis=1))\n",
    "# Print the actual label values\n",
    "print(testLabels[0:5])"
   ]
  },
  {
   "cell_type": "code",
   "execution_count": 14,
   "id": "2b4fc728",
   "metadata": {},
   "outputs": [
    {
     "data": {
      "image/png": "[encoded data removed]",
      "text/plain": [
       "<Figure size 432x288 with 1 Axes>"
      ]
     },
     "metadata": {
      "needs_background": "light"
     },
     "output_type": "display_data"
    },
    {
     "data": {
      "image/png": "[encoded data removed]",
      "text/plain": [
       "<Figure size 432x288 with 1 Axes>"
      ]
     },
     "metadata": {
      "needs_background": "light"
     },
     "output_type": "display_data"
    },
    {
     "data": {
      "image/png": "[encoded data removed]",
      "text/plain": [
       "<Figure size 432x288 with 1 Axes>"
      ]
     },
     "metadata": {
      "needs_background": "light"
     },
     "output_type": "display_data"
    },
    {
     "data": {
      "image/png": "[encoded data removed]",
      "text/plain": [
       "<Figure size 432x288 with 1 Axes>"
      ]
     },
     "metadata": {
      "needs_background": "light"
     },
     "output_type": "display_data"
    },
    {
     "data": {
      "image/png": "[encoded data removed]",
      "text/plain": [
       "<Figure size 432x288 with 1 Axes>"
      ]
     },
     "metadata": {
      "needs_background": "light"
     },
     "output_type": "display_data"
    }
   ],
   "source": [
    "for i in range(0,5):\n",
    "  plt.imshow(testImages[i], cmap='gray')\n",
    "  plt.show()"
   ]
  },
  {
   "cell_type": "code",
   "execution_count": null,
   "id": "859db8c1",
   "metadata": {},
   "outputs": [],
   "source": []
  }
 ],
 "metadata": {
  "kernelspec": {
   "display_name": "Python 3 (ipykernel)",
   "language": "python",
   "name": "python3"
  },
  "language_info": {
   "codemirror_mode": {
    "name": "ipython",
    "version": 3
   },
   "file_extension": ".py",
   "mimetype": "text/x-python",
   "name": "python",
   "nbconvert_exporter": "python",
   "pygments_lexer": "ipython3",
   "version": "3.8.10"
  }
 },
 "nbformat": 4,
 "nbformat_minor": 5
}
