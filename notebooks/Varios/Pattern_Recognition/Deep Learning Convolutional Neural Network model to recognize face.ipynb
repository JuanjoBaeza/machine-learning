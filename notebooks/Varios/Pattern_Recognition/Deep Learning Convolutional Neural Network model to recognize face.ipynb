{
 "cells": [
  {
   "cell_type": "code",
   "execution_count": 37,
   "id": "7764f595",
   "metadata": {},
   "outputs": [
    {
     "name": "stdout",
     "output_type": "stream",
     "text": [
      "Found 244 images belonging to 16 classes.\n",
      "Found 244 images belonging to 16 classes.\n"
     ]
    },
    {
     "data": {
      "text/plain": [
       "{'face1': 0,\n",
       " 'face10': 1,\n",
       " 'face11': 2,\n",
       " 'face12': 3,\n",
       " 'face13': 4,\n",
       " 'face14': 5,\n",
       " 'face15': 6,\n",
       " 'face16': 7,\n",
       " 'face2': 8,\n",
       " 'face3': 9,\n",
       " 'face4': 10,\n",
       " 'face5': 11,\n",
       " 'face6': 12,\n",
       " 'face7': 13,\n",
       " 'face8': 14,\n",
       " 'face9': 15}"
      ]
     },
     "execution_count": 37,
     "metadata": {},
     "output_type": "execute_result"
    }
   ],
   "source": [
    "#https://thinkingneuron.com/face-recognition-using-deep-learning-cnn-in-python/\n",
    "import cv2\n",
    "import face_recognition\n",
    "import tensorflow as tf\n",
    "\n",
    "# Deep Learning CNN model to recognize face\n",
    "'''This script uses a database of images and creates CNN model on top of it to test\n",
    "   if the given image is recognized correctly or not'''\n",
    "\n",
    "'''####### IMAGE PRE-PROCESSING for TRAINING and TESTING data #######'''\n",
    "\n",
    "# Specifying the folder where images are present\n",
    "TrainingImagePath='../../../data/datasets/Face_Images/Final_Training_Images'\n",
    "\n",
    "from keras.preprocessing.image import ImageDataGenerator\n",
    "# Understand more about ImageDataGenerator at below link\n",
    "# https://blog.keras.io/building-powerful-image-classification-models-using-very-little-data.html\n",
    "\n",
    "# Defining pre-processing transformations on raw images of training data\n",
    "# These hyper parameters helps to generate slightly twisted versions\n",
    "# of the original image, which leads to a better model, since it learns\n",
    "# on the good and bad mix of images\n",
    "train_datagen = ImageDataGenerator(\n",
    "        shear_range=0.1,\n",
    "        zoom_range=0.1,\n",
    "        horizontal_flip=True)\n",
    "\n",
    "# Defining pre-processing transformations on raw images of testing data\n",
    "# No transformations are done on the testing images\n",
    "test_datagen = ImageDataGenerator()\n",
    "\n",
    "# Generating the Training Data\n",
    "training_set = train_datagen.flow_from_directory(\n",
    "        TrainingImagePath,\n",
    "        target_size=(64, 64),\n",
    "        batch_size=32,\n",
    "        class_mode='categorical')\n",
    "\n",
    "\n",
    "# Generating the Testing Data\n",
    "test_set = test_datagen.flow_from_directory(\n",
    "        TrainingImagePath,\n",
    "        target_size=(64, 64),\n",
    "        batch_size=32,\n",
    "        class_mode='categorical')\n",
    "\n",
    "# Printing class labels for each face\n",
    "test_set.class_indices"
   ]
  },
  {
   "cell_type": "code",
   "execution_count": 2,
   "id": "28655028",
   "metadata": {},
   "outputs": [
    {
     "name": "stdout",
     "output_type": "stream",
     "text": [
      "Mapping of Face and its ID {0: 'face1', 1: 'face10', 2: 'face11', 3: 'face12', 4: 'face13', 5: 'face14', 6: 'face15', 7: 'face16', 8: 'face2', 9: 'face3', 10: 'face4', 11: 'face5', 12: 'face6', 13: 'face7', 14: 'face8', 15: 'face9'}\n",
      "\n",
      " The Number of output neurons:  16\n"
     ]
    }
   ],
   "source": [
    "'''############ Creating lookup table for all faces ############'''\n",
    "# class_indices have the numeric tag for each face\n",
    "TrainClasses=training_set.class_indices\n",
    "\n",
    "# Storing the face and the numeric tag for future reference\n",
    "ResultMap={}\n",
    "\n",
    "for faceValue,faceName in zip(TrainClasses.values(),TrainClasses.keys()):\n",
    "    ResultMap[faceValue]=faceName\n",
    "\n",
    "# Saving the face map for future reference\n",
    "import pickle\n",
    "with open(\"ResultsMap.pkl\", 'wb') as fileWriteStream:\n",
    "    pickle.dump(ResultMap, fileWriteStream)\n",
    "\n",
    "# The model will give answer as a numeric tag\n",
    "# This mapping will help to get the corresponding face name for it\n",
    "print(\"Mapping of Face and its ID\",ResultMap)\n",
    "\n",
    "# The number of neurons for the output layer is equal to the number of faces\n",
    "OutputNeurons=len(ResultMap)\n",
    "print('\\n The Number of output neurons: ', OutputNeurons)"
   ]
  },
  {
   "cell_type": "code",
   "execution_count": 41,
   "id": "a47b203e",
   "metadata": {},
   "outputs": [
    {
     "name": "stdout",
     "output_type": "stream",
     "text": [
      "Epoch 1/20\n",
      "8/8 [==============================] - 2s 96ms/step - loss: 86.9488 - accuracy: 0.0697 - val_loss: 4.3223 - val_accuracy: 0.0984\n",
      "Epoch 2/20\n",
      "8/8 [==============================] - 1s 96ms/step - loss: 2.9712 - accuracy: 0.0861 - val_loss: 2.6842 - val_accuracy: 0.1189\n",
      "Epoch 3/20\n",
      "8/8 [==============================] - 1s 81ms/step - loss: 2.6249 - accuracy: 0.0902 - val_loss: 2.4263 - val_accuracy: 0.2459\n",
      "Epoch 4/20\n",
      "8/8 [==============================] - 1s 77ms/step - loss: 2.2404 - accuracy: 0.3197 - val_loss: 1.7875 - val_accuracy: 0.4221\n",
      "Epoch 5/20\n",
      "8/8 [==============================] - 1s 76ms/step - loss: 1.8294 - accuracy: 0.4426 - val_loss: 1.6254 - val_accuracy: 0.5246\n",
      "Epoch 6/20\n",
      "8/8 [==============================] - 1s 78ms/step - loss: 1.4798 - accuracy: 0.5738 - val_loss: 0.9621 - val_accuracy: 0.7131\n",
      "Epoch 7/20\n",
      "8/8 [==============================] - 1s 75ms/step - loss: 0.8796 - accuracy: 0.7418 - val_loss: 0.4524 - val_accuracy: 0.8648\n",
      "Epoch 8/20\n",
      "8/8 [==============================] - 1s 80ms/step - loss: 1.2886 - accuracy: 0.6393 - val_loss: 1.2090 - val_accuracy: 0.6148\n",
      "Epoch 9/20\n",
      "8/8 [==============================] - 1s 82ms/step - loss: 0.8769 - accuracy: 0.7459 - val_loss: 0.6364 - val_accuracy: 0.8074\n",
      "Epoch 10/20\n",
      "8/8 [==============================] - 1s 82ms/step - loss: 0.5778 - accuracy: 0.8402 - val_loss: 0.4005 - val_accuracy: 0.8770\n",
      "Epoch 11/20\n",
      "8/8 [==============================] - 1s 79ms/step - loss: 0.3546 - accuracy: 0.9016 - val_loss: 0.1067 - val_accuracy: 0.9590\n",
      "Epoch 12/20\n",
      "8/8 [==============================] - 1s 71ms/step - loss: 0.3199 - accuracy: 0.8811 - val_loss: 0.0630 - val_accuracy: 0.9754\n",
      "Epoch 13/20\n",
      "8/8 [==============================] - 1s 75ms/step - loss: 0.1761 - accuracy: 0.9631 - val_loss: 0.0490 - val_accuracy: 0.9918\n",
      "Epoch 14/20\n",
      "8/8 [==============================] - 1s 77ms/step - loss: 0.1669 - accuracy: 0.9549 - val_loss: 0.0729 - val_accuracy: 0.9713\n",
      "Epoch 15/20\n",
      "8/8 [==============================] - 1s 78ms/step - loss: 0.1663 - accuracy: 0.9262 - val_loss: 0.0480 - val_accuracy: 0.9877\n",
      "Epoch 16/20\n",
      "8/8 [==============================] - 1s 79ms/step - loss: 0.1112 - accuracy: 0.9754 - val_loss: 0.0257 - val_accuracy: 0.9918\n",
      "Epoch 17/20\n",
      "8/8 [==============================] - 1s 75ms/step - loss: 0.0740 - accuracy: 0.9836 - val_loss: 0.0053 - val_accuracy: 1.0000\n",
      "Epoch 18/20\n",
      "8/8 [==============================] - 1s 78ms/step - loss: 0.0133 - accuracy: 1.0000 - val_loss: 0.0035 - val_accuracy: 1.0000\n",
      "Epoch 19/20\n",
      "8/8 [==============================] - 1s 74ms/step - loss: 0.0568 - accuracy: 0.9877 - val_loss: 0.0373 - val_accuracy: 0.9836\n",
      "Epoch 20/20\n",
      "8/8 [==============================] - 1s 78ms/step - loss: 0.0967 - accuracy: 0.9754 - val_loss: 0.0760 - val_accuracy: 0.9877\n",
      "###### Total Time Taken:  0 Minutes ######\n"
     ]
    }
   ],
   "source": [
    "'''######################## Create CNN deep learning model ########################'''\n",
    "from keras.models import Sequential\n",
    "from keras.layers import Convolution2D\n",
    "from keras.layers import MaxPool2D\n",
    "from keras.layers import Flatten\n",
    "from keras.layers import Dense\n",
    "import tensorflow_datasets as tfds\n",
    "import tensorflow as tf\n",
    "\n",
    "'''Initializing the Convolutional Neural Network'''\n",
    "classifier= Sequential()\n",
    "\n",
    "''' STEP--1 Convolution\n",
    "# Adding the first layer of CNN\n",
    "# we are using the format (64,64,3) because we are using TensorFlow backend\n",
    "# It means 3 matrix of size (64X64) pixels representing Red, Green and Blue components of pixels\n",
    "'''\n",
    "classifier.add(Convolution2D(32, kernel_size=(5, 5), strides=(1, 1), input_shape=(64,64,3), activation='relu'))\n",
    "\n",
    "'''# STEP--2 MAX Pooling'''\n",
    "classifier.add(MaxPool2D(pool_size=(2,2)))\n",
    "\n",
    "'''############## ADDITIONAL LAYER of CONVOLUTION for better accuracy #################'''\n",
    "classifier.add(Convolution2D(64, kernel_size=(5, 5), strides=(1, 1), activation='relu'))\n",
    "\n",
    "classifier.add(MaxPool2D(pool_size=(2,2)))\n",
    "\n",
    "'''# STEP--3 FLattening'''\n",
    "classifier.add(Flatten())\n",
    "\n",
    "'''# STEP--4 Fully Connected Neural Network'''\n",
    "classifier.add(Dense(64, activation='relu'))\n",
    "\n",
    "classifier.add(Dense(OutputNeurons, activation='softmax'))\n",
    "\n",
    "'''# Compiling the CNN'''\n",
    "#classifier.compile(loss='binary_crossentropy', optimizer='adam', metrics=['accuracy'])\n",
    "classifier.compile(loss='categorical_crossentropy', optimizer = 'adam', metrics=[\"accuracy\"])\n",
    "\n",
    "###########################################################\n",
    "import time\n",
    "import os\n",
    "\n",
    "StartTime=time.time()\n",
    "\n",
    "classifier.fit(training_set,\n",
    "               epochs=20,\n",
    "#              steps_per_epoch=30,  El dataset es pequeño y da error lo comentamos\n",
    "#              validation_steps=10, El dataset es pequeño y da error lo comentamos\n",
    "               validation_data=test_set)\n",
    "\n",
    "EndTime=time.time()\n",
    "print(\"###### Total Time Taken: \", round((EndTime-StartTime)/60), 'Minutes ######')"
   ]
  },
  {
   "cell_type": "code",
   "execution_count": 42,
   "id": "a5aaba82",
   "metadata": {},
   "outputs": [
    {
     "name": "stdout",
     "output_type": "stream",
     "text": [
      "########################################\n",
      "Prediction is:  face16\n"
     ]
    }
   ],
   "source": [
    "'''########### Making single predictions ###########'''\n",
    "import numpy as np\n",
    "from keras.preprocessing import image\n",
    "\n",
    "ImagePath='../../../data/datasets/Face_Images/Final_Testing_Images/face16/2face16.jpg'\n",
    "test_image=image.load_img(ImagePath,target_size=(64, 64))\n",
    "test_image=image.img_to_array(test_image)\n",
    "\n",
    "test_image=np.expand_dims(test_image,axis=0)\n",
    "\n",
    "result=classifier.predict(test_image,verbose=0)\n",
    "#print(training_set.class_indices)\n",
    "\n",
    "print('####'*10)\n",
    "print('Prediction is: ',ResultMap[np.argmax(result)])"
   ]
  },
  {
   "cell_type": "code",
   "execution_count": null,
   "id": "2b58e89f",
   "metadata": {},
   "outputs": [],
   "source": []
  }
 ],
 "metadata": {
  "kernelspec": {
   "display_name": "Python 3 (ipykernel)",
   "language": "python",
   "name": "python3"
  },
  "language_info": {
   "codemirror_mode": {
    "name": "ipython",
    "version": 3
   },
   "file_extension": ".py",
   "mimetype": "text/x-python",
   "name": "python",
   "nbconvert_exporter": "python",
   "pygments_lexer": "ipython3",
   "version": "3.10.12"
  }
 },
 "nbformat": 4,
 "nbformat_minor": 5
}
