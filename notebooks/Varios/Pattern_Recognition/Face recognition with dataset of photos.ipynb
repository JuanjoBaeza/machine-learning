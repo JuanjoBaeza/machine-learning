{
 "cells": [
  {
   "cell_type": "code",
   "execution_count": 1,
   "id": "c0ca54f5",
   "metadata": {},
   "outputs": [],
   "source": [
    "import cv2\n",
    "import face_recognition"
   ]
  },
  {
   "cell_type": "code",
   "execution_count": 2,
   "id": "c8f68250",
   "metadata": {},
   "outputs": [],
   "source": [
    "img = cv2.imread(\"../../../data/datasets/images2/Messi.jpg\")\n",
    "rgb_img = cv2.cvtColor(img, cv2.COLOR_BGR2RGB)\n",
    "img_encoding = face_recognition.face_encodings(rgb_img)[0]"
   ]
  },
  {
   "cell_type": "code",
   "execution_count": 3,
   "id": "47f0300d",
   "metadata": {},
   "outputs": [],
   "source": [
    "img2 = cv2.imread(\"../../../data/datasets/images2/same_Messi.jpg\")\n",
    "rgb_img2 = cv2.cvtColor(img2, cv2.COLOR_BGR2RGB)\n",
    "img_encoding2 = face_recognition.face_encodings(rgb_img2)[0]"
   ]
  },
  {
   "cell_type": "code",
   "execution_count": 4,
   "id": "87960adc",
   "metadata": {},
   "outputs": [
    {
     "name": "stdout",
     "output_type": "stream",
     "text": [
      "Result:  [True]\n"
     ]
    }
   ],
   "source": [
    "result = face_recognition.compare_faces([img_encoding], img_encoding2)\n",
    "print(\"Result: \", result)"
   ]
  },
  {
   "cell_type": "code",
   "execution_count": null,
   "id": "b847b638",
   "metadata": {},
   "outputs": [],
   "source": []
  }
 ],
 "metadata": {
  "kernelspec": {
   "display_name": "Python 3 (ipykernel)",
   "language": "python",
   "name": "python3"
  },
  "language_info": {
   "codemirror_mode": {
    "name": "ipython",
    "version": 3
   },
   "file_extension": ".py",
   "mimetype": "text/x-python",
   "name": "python",
   "nbconvert_exporter": "python",
   "pygments_lexer": "ipython3",
   "version": "3.10.12"
  }
 },
 "nbformat": 4,
 "nbformat_minor": 5
}
