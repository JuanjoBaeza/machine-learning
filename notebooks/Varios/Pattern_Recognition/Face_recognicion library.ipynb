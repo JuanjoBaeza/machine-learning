{
 "cells": [
  {
   "cell_type": "code",
   "execution_count": 13,
   "id": "cd38c75a",
   "metadata": {},
   "outputs": [],
   "source": [
    "#https://github.com/ageitgey/face_recognition#identify-faces-in-pictures\n",
    "import face_recognition\n",
    "\n",
    "known_image = face_recognition.load_image_file(\"../../../data/datasets/images/tom1.jpg\")\n",
    "unknown_image = face_recognition.load_image_file(\"../../../data/datasets/images/tom2.jpg\")\n",
    "\n",
    "biden_encoding = face_recognition.face_encodings(known_image)[0]\n",
    "unknown_encoding = face_recognition.face_encodings(unknown_image)[0]\n",
    "\n",
    "results = face_recognition.compare_faces([biden_encoding], unknown_encoding)"
   ]
  },
  {
   "cell_type": "code",
   "execution_count": 14,
   "id": "40e39567",
   "metadata": {},
   "outputs": [
    {
     "name": "stdout",
     "output_type": "stream",
     "text": [
      "[True]\n"
     ]
    }
   ],
   "source": [
    "print(results)"
   ]
  },
  {
   "cell_type": "code",
   "execution_count": null,
   "id": "c08eef0d",
   "metadata": {},
   "outputs": [],
   "source": []
  }
 ],
 "metadata": {
  "kernelspec": {
   "display_name": "Python 3 (ipykernel)",
   "language": "python",
   "name": "python3"
  },
  "language_info": {
   "codemirror_mode": {
    "name": "ipython",
    "version": 3
   },
   "file_extension": ".py",
   "mimetype": "text/x-python",
   "name": "python",
   "nbconvert_exporter": "python",
   "pygments_lexer": "ipython3",
   "version": "3.10.12"
  }
 },
 "nbformat": 4,
 "nbformat_minor": 5
}
