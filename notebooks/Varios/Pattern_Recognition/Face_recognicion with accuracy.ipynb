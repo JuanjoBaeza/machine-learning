{
 "cells": [
  {
   "cell_type": "code",
   "execution_count": 39,
   "id": "d6935559",
   "metadata": {},
   "outputs": [],
   "source": [
    "import cv2\n",
    "import face_recognition\n",
    "\n",
    "def find_face_encodings(image_path):\n",
    "    # reading image\n",
    "    image = cv2.imread(image_path)\n",
    "    # get face encodings from the image\n",
    "    face_enc = face_recognition.face_encodings(image)\n",
    "    # return face encodings\n",
    "    return face_enc[0]"
   ]
  },
  {
   "cell_type": "code",
   "execution_count": 44,
   "id": "f7057da0",
   "metadata": {},
   "outputs": [],
   "source": [
    "# getting face encodings for first image\n",
    "image_1 = find_face_encodings(\"../../../data/datasets/images/rus1.jpg\")\n",
    "# getting face encodings for second image\n",
    "image_2  = find_face_encodings(\"../../../data/datasets/images/rus2.jpg\")"
   ]
  },
  {
   "cell_type": "code",
   "execution_count": 45,
   "id": "2ffd7279",
   "metadata": {},
   "outputs": [
    {
     "name": "stdout",
     "output_type": "stream",
     "text": [
      "Is Same: True\n",
      "The images are same\n",
      "Accuracy Level: 60%\n"
     ]
    }
   ],
   "source": [
    "# checking both images are same\n",
    "is_same = face_recognition.compare_faces([image_1], image_2)[0]\n",
    "print(f\"Is Same: {is_same}\")\n",
    "\n",
    "if is_same:\n",
    "    # finding the distance level between images\n",
    "    distance = face_recognition.face_distance([image_1], image_2)\n",
    "    distance = round(distance[0] * 100)\n",
    "    \n",
    "    # calcuating accuracy level between images\n",
    "    accuracy = 100 - round(distance)\n",
    "    print(\"The images are same\")\n",
    "    print(f\"Accuracy Level: {accuracy}%\")\n",
    "else:\n",
    "    print(\"The images are not same\")"
   ]
  },
  {
   "cell_type": "code",
   "execution_count": null,
   "id": "449550f7",
   "metadata": {},
   "outputs": [],
   "source": []
  }
 ],
 "metadata": {
  "kernelspec": {
   "display_name": "Python 3 (ipykernel)",
   "language": "python",
   "name": "python3"
  },
  "language_info": {
   "codemirror_mode": {
    "name": "ipython",
    "version": 3
   },
   "file_extension": ".py",
   "mimetype": "text/x-python",
   "name": "python",
   "nbconvert_exporter": "python",
   "pygments_lexer": "ipython3",
   "version": "3.10.12"
  }
 },
 "nbformat": 4,
 "nbformat_minor": 5
}
